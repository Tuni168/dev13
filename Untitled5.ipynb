{
 "cells": [
  {
   "cell_type": "code",
   "execution_count": 115,
   "id": "f808699a-cb17-4e56-86ea-e1889b500580",
   "metadata": {},
   "outputs": [],
   "source": [
    "import numpy as np\n",
    "import pandas as pd\n",
    "import matplotlib\n",
    "import matplotlib.pyplot as plt\n",
    "import seaborn as sns\n",
    "import datetime\n",
    "import calendar"
   ]
  },
  {
   "cell_type": "code",
   "execution_count": 2,
   "id": "6aedb070-9a78-44eb-9440-43469921bd8d",
   "metadata": {},
   "outputs": [
    {
     "name": "stderr",
     "output_type": "stream",
     "text": [
      "/tmp/ipykernel_227/255133442.py:1: DtypeWarning: Columns (49) have mixed types. Specify dtype option on import or set low_memory=False.\n",
      "  data = pd.read_csv('dla12.csv')\n",
      "/tmp/ipykernel_227/255133442.py:2: DtypeWarning: Columns (49) have mixed types. Specify dtype option on import or set low_memory=False.\n",
      "  train = pd.read_csv('dla12.csv')\n",
      "/tmp/ipykernel_227/255133442.py:3: DtypeWarning: Columns (49) have mixed types. Specify dtype option on import or set low_memory=False.\n",
      "  test = pd.read_csv('dla12.csv')\n"
     ]
    }
   ],
   "source": [
    "data = pd.read_csv('dla12.csv')\n",
    "train = pd.read_csv('dla12.csv')\n",
    "test = pd.read_csv('dla12.csv')"
   ]
  },
  {
   "cell_type": "code",
   "execution_count": 3,
   "id": "0357f1c0-efa8-4e45-bdfa-8402d7454c02",
   "metadata": {},
   "outputs": [
    {
     "data": {
      "text/html": [
       "<div>\n",
       "<style scoped>\n",
       "    .dataframe tbody tr th:only-of-type {\n",
       "        vertical-align: middle;\n",
       "    }\n",
       "\n",
       "    .dataframe tbody tr th {\n",
       "        vertical-align: top;\n",
       "    }\n",
       "\n",
       "    .dataframe thead th {\n",
       "        text-align: right;\n",
       "    }\n",
       "</style>\n",
       "<table border=\"1\" class=\"dataframe\">\n",
       "  <thead>\n",
       "    <tr style=\"text-align: right;\">\n",
       "      <th></th>\n",
       "      <th>Unique Key</th>\n",
       "      <th>Incident Zip</th>\n",
       "      <th>X Coordinate (State Plane)</th>\n",
       "      <th>Y Coordinate (State Plane)</th>\n",
       "      <th>School or Citywide Complaint</th>\n",
       "      <th>Vehicle Type</th>\n",
       "      <th>Taxi Company Borough</th>\n",
       "      <th>Taxi Pick Up Location</th>\n",
       "      <th>Garage Lot Name</th>\n",
       "      <th>Ferry Direction</th>\n",
       "      <th>Latitude</th>\n",
       "      <th>Longitude</th>\n",
       "    </tr>\n",
       "  </thead>\n",
       "  <tbody>\n",
       "    <tr>\n",
       "      <th>count</th>\n",
       "      <td>1.703120e+05</td>\n",
       "      <td>169054.000000</td>\n",
       "      <td>1.685530e+05</td>\n",
       "      <td>168553.000000</td>\n",
       "      <td>0.0</td>\n",
       "      <td>0.0</td>\n",
       "      <td>0.0</td>\n",
       "      <td>0.0</td>\n",
       "      <td>0.0</td>\n",
       "      <td>0.0</td>\n",
       "      <td>168553.000000</td>\n",
       "      <td>168553.000000</td>\n",
       "    </tr>\n",
       "    <tr>\n",
       "      <th>mean</th>\n",
       "      <td>3.173019e+07</td>\n",
       "      <td>10858.213240</td>\n",
       "      <td>1.004689e+06</td>\n",
       "      <td>203109.514070</td>\n",
       "      <td>NaN</td>\n",
       "      <td>NaN</td>\n",
       "      <td>NaN</td>\n",
       "      <td>NaN</td>\n",
       "      <td>NaN</td>\n",
       "      <td>NaN</td>\n",
       "      <td>40.724114</td>\n",
       "      <td>-73.926223</td>\n",
       "    </tr>\n",
       "    <tr>\n",
       "      <th>std</th>\n",
       "      <td>3.297671e+05</td>\n",
       "      <td>573.335653</td>\n",
       "      <td>2.200315e+04</td>\n",
       "      <td>29849.394204</td>\n",
       "      <td>NaN</td>\n",
       "      <td>NaN</td>\n",
       "      <td>NaN</td>\n",
       "      <td>NaN</td>\n",
       "      <td>NaN</td>\n",
       "      <td>NaN</td>\n",
       "      <td>0.081927</td>\n",
       "      <td>0.079354</td>\n",
       "    </tr>\n",
       "    <tr>\n",
       "      <th>min</th>\n",
       "      <td>3.116531e+07</td>\n",
       "      <td>83.000000</td>\n",
       "      <td>9.133570e+05</td>\n",
       "      <td>121411.000000</td>\n",
       "      <td>NaN</td>\n",
       "      <td>NaN</td>\n",
       "      <td>NaN</td>\n",
       "      <td>NaN</td>\n",
       "      <td>NaN</td>\n",
       "      <td>NaN</td>\n",
       "      <td>40.499673</td>\n",
       "      <td>-74.254937</td>\n",
       "    </tr>\n",
       "    <tr>\n",
       "      <th>25%</th>\n",
       "      <td>3.144878e+07</td>\n",
       "      <td>10312.000000</td>\n",
       "      <td>9.917250e+05</td>\n",
       "      <td>182552.000000</td>\n",
       "      <td>NaN</td>\n",
       "      <td>NaN</td>\n",
       "      <td>NaN</td>\n",
       "      <td>NaN</td>\n",
       "      <td>NaN</td>\n",
       "      <td>NaN</td>\n",
       "      <td>40.667693</td>\n",
       "      <td>-73.973019</td>\n",
       "    </tr>\n",
       "    <tr>\n",
       "      <th>50%</th>\n",
       "      <td>3.171934e+07</td>\n",
       "      <td>11209.000000</td>\n",
       "      <td>1.003007e+06</td>\n",
       "      <td>200549.000000</td>\n",
       "      <td>NaN</td>\n",
       "      <td>NaN</td>\n",
       "      <td>NaN</td>\n",
       "      <td>NaN</td>\n",
       "      <td>NaN</td>\n",
       "      <td>NaN</td>\n",
       "      <td>40.717089</td>\n",
       "      <td>-73.932328</td>\n",
       "    </tr>\n",
       "    <tr>\n",
       "      <th>75%</th>\n",
       "      <td>3.201681e+07</td>\n",
       "      <td>11238.000000</td>\n",
       "      <td>1.018699e+06</td>\n",
       "      <td>222413.000000</td>\n",
       "      <td>NaN</td>\n",
       "      <td>NaN</td>\n",
       "      <td>NaN</td>\n",
       "      <td>NaN</td>\n",
       "      <td>NaN</td>\n",
       "      <td>NaN</td>\n",
       "      <td>40.777106</td>\n",
       "      <td>-73.875656</td>\n",
       "    </tr>\n",
       "    <tr>\n",
       "      <th>max</th>\n",
       "      <td>3.231065e+07</td>\n",
       "      <td>11697.000000</td>\n",
       "      <td>1.067173e+06</td>\n",
       "      <td>271876.000000</td>\n",
       "      <td>NaN</td>\n",
       "      <td>NaN</td>\n",
       "      <td>NaN</td>\n",
       "      <td>NaN</td>\n",
       "      <td>NaN</td>\n",
       "      <td>NaN</td>\n",
       "      <td>40.912869</td>\n",
       "      <td>-73.700760</td>\n",
       "    </tr>\n",
       "  </tbody>\n",
       "</table>\n",
       "</div>"
      ],
      "text/plain": [
       "         Unique Key   Incident Zip  X Coordinate (State Plane)  \\\n",
       "count  1.703120e+05  169054.000000                1.685530e+05   \n",
       "mean   3.173019e+07   10858.213240                1.004689e+06   \n",
       "std    3.297671e+05     573.335653                2.200315e+04   \n",
       "min    3.116531e+07      83.000000                9.133570e+05   \n",
       "25%    3.144878e+07   10312.000000                9.917250e+05   \n",
       "50%    3.171934e+07   11209.000000                1.003007e+06   \n",
       "75%    3.201681e+07   11238.000000                1.018699e+06   \n",
       "max    3.231065e+07   11697.000000                1.067173e+06   \n",
       "\n",
       "       Y Coordinate (State Plane)  School or Citywide Complaint  Vehicle Type  \\\n",
       "count               168553.000000                           0.0           0.0   \n",
       "mean                203109.514070                           NaN           NaN   \n",
       "std                  29849.394204                           NaN           NaN   \n",
       "min                 121411.000000                           NaN           NaN   \n",
       "25%                 182552.000000                           NaN           NaN   \n",
       "50%                 200549.000000                           NaN           NaN   \n",
       "75%                 222413.000000                           NaN           NaN   \n",
       "max                 271876.000000                           NaN           NaN   \n",
       "\n",
       "       Taxi Company Borough  Taxi Pick Up Location  Garage Lot Name  \\\n",
       "count                   0.0                    0.0              0.0   \n",
       "mean                    NaN                    NaN              NaN   \n",
       "std                     NaN                    NaN              NaN   \n",
       "min                     NaN                    NaN              NaN   \n",
       "25%                     NaN                    NaN              NaN   \n",
       "50%                     NaN                    NaN              NaN   \n",
       "75%                     NaN                    NaN              NaN   \n",
       "max                     NaN                    NaN              NaN   \n",
       "\n",
       "       Ferry Direction       Latitude      Longitude  \n",
       "count              0.0  168553.000000  168553.000000  \n",
       "mean               NaN      40.724114     -73.926223  \n",
       "std                NaN       0.081927       0.079354  \n",
       "min                NaN      40.499673     -74.254937  \n",
       "25%                NaN      40.667693     -73.973019  \n",
       "50%                NaN      40.717089     -73.932328  \n",
       "75%                NaN      40.777106     -73.875656  \n",
       "max                NaN      40.912869     -73.700760  "
      ]
     },
     "execution_count": 3,
     "metadata": {},
     "output_type": "execute_result"
    }
   ],
   "source": [
    "data.describe()"
   ]
  },
  {
   "cell_type": "code",
   "execution_count": 4,
   "id": "62d82ad4-ec94-441c-ba79-93d2dfbf6d72",
   "metadata": {},
   "outputs": [
    {
     "data": {
      "text/plain": [
       "<bound method DataFrame.info of         Unique Key            Created Date             Closed Date Agency  \\\n",
       "0         32310363  12/31/2015 11:59:45 PM  01/01/2016 12:55:15 AM   NYPD   \n",
       "1         32309934  12/31/2015 11:59:44 PM  01/01/2016 01:26:57 AM   NYPD   \n",
       "2         32309159  12/31/2015 11:59:29 PM  01/01/2016 04:51:03 AM   NYPD   \n",
       "3         32305098  12/31/2015 11:57:46 PM  01/01/2016 07:43:13 AM   NYPD   \n",
       "4         32306529  12/31/2015 11:56:58 PM  01/01/2016 03:24:42 AM   NYPD   \n",
       "...            ...                     ...                     ...    ...   \n",
       "170307    31167171  07/26/2015 10:08:16 AM  07/26/2015 10:27:33 AM   NYPD   \n",
       "170308    31167659  07/26/2015 10:05:00 AM  07/26/2015 11:45:56 AM   NYPD   \n",
       "170309    31165398  07/26/2015 10:02:02 AM  07/26/2015 02:00:10 PM   NYPD   \n",
       "170310    31167547  07/26/2015 09:56:36 AM  07/26/2015 01:04:34 PM   NYPD   \n",
       "170311    31166658  07/26/2015 09:54:44 AM  07/26/2015 11:18:43 AM   NYPD   \n",
       "\n",
       "                            Agency Name           Complaint Type  \\\n",
       "0       New York City Police Department  Noise - Street/Sidewalk   \n",
       "1       New York City Police Department         Blocked Driveway   \n",
       "2       New York City Police Department         Blocked Driveway   \n",
       "3       New York City Police Department          Illegal Parking   \n",
       "4       New York City Police Department          Illegal Parking   \n",
       "...                                 ...                      ...   \n",
       "170307  New York City Police Department          Illegal Parking   \n",
       "170308  New York City Police Department          Illegal Parking   \n",
       "170309  New York City Police Department          Illegal Parking   \n",
       "170310  New York City Police Department         Blocked Driveway   \n",
       "170311  New York City Police Department      Homeless Encampment   \n",
       "\n",
       "                            Descriptor               Location Type  \\\n",
       "0                     Loud Music/Party             Street/Sidewalk   \n",
       "1                            No Access             Street/Sidewalk   \n",
       "2                            No Access             Street/Sidewalk   \n",
       "3         Commercial Overnight Parking             Street/Sidewalk   \n",
       "4                     Blocked Sidewalk             Street/Sidewalk   \n",
       "...                                ...                         ...   \n",
       "170307    Overnight Commercial Storage             Street/Sidewalk   \n",
       "170308  Double Parked Blocking Vehicle             Street/Sidewalk   \n",
       "170309   Posted Parking Sign Violation             Street/Sidewalk   \n",
       "170310                       No Access             Street/Sidewalk   \n",
       "170311                             NaN  Residential Building/House   \n",
       "\n",
       "        Incident Zip       Incident Address  ... Bridge Highway Name  \\\n",
       "0            10034.0    71 VERMILYEA AVENUE  ...                 NaN   \n",
       "1            11105.0        27-07 23 AVENUE  ...                 NaN   \n",
       "2            10458.0  2897 VALENTINE AVENUE  ...                 NaN   \n",
       "3            10461.0    2940 BAISLEY AVENUE  ...                 NaN   \n",
       "4            11373.0          87-14 57 ROAD  ...                 NaN   \n",
       "...              ...                    ...  ...                 ...   \n",
       "170307       11369.0                    NaN  ...                 NaN   \n",
       "170308       10472.0                    NaN  ...                 NaN   \n",
       "170309       10014.0    378 BLEECKER STREET  ...                 NaN   \n",
       "170310       11223.0       1755 DAHILL ROAD  ...                 NaN   \n",
       "170311       10013.0           350 BROADWAY  ...                 NaN   \n",
       "\n",
       "       Bridge Highway Direction Road Ramp Bridge Highway Segment  \\\n",
       "0                           NaN       NaN                    NaN   \n",
       "1                           NaN       NaN                    NaN   \n",
       "2                           NaN       NaN                    NaN   \n",
       "3                           NaN       NaN                    NaN   \n",
       "4                           NaN       NaN                    NaN   \n",
       "...                         ...       ...                    ...   \n",
       "170307                      NaN       NaN                    NaN   \n",
       "170308                      NaN       NaN                    NaN   \n",
       "170309                      NaN       NaN                    NaN   \n",
       "170310                      NaN       NaN                    NaN   \n",
       "170311                      NaN       NaN                    NaN   \n",
       "\n",
       "       Garage Lot Name Ferry Direction Ferry Terminal Name   Latitude  \\\n",
       "0                  NaN             NaN                 NaN  40.865682   \n",
       "1                  NaN             NaN                 NaN  40.775945   \n",
       "2                  NaN             NaN                 NaN  40.870325   \n",
       "3                  NaN             NaN                 NaN  40.835994   \n",
       "4                  NaN             NaN                 NaN  40.733060   \n",
       "...                ...             ...                 ...        ...   \n",
       "170307             NaN             NaN                 NaN  40.761115   \n",
       "170308             NaN             NaN                 NaN  40.827297   \n",
       "170309             NaN             NaN                 NaN  40.735055   \n",
       "170310             NaN             NaN                 NaN  40.605348   \n",
       "170311             NaN             NaN                 NaN        NaN   \n",
       "\n",
       "        Longitude                                  Location  \n",
       "0      -73.923501   (40.86568153633767, -73.92350095571744)  \n",
       "1      -73.915094  (40.775945312321085, -73.91509393898605)  \n",
       "2      -73.888525  (40.870324522111424, -73.88852464418646)  \n",
       "3      -73.828379   (40.83599404683083, -73.82837939584206)  \n",
       "4      -73.874170  (40.733059618956815, -73.87416975810375)  \n",
       "...           ...                                       ...  \n",
       "170307 -73.868132   (40.76111520641683, -73.86813176590425)  \n",
       "170308 -73.869182   (40.82729739072406, -73.86918217302072)  \n",
       "170309 -74.004871   (40.73505508071761, -74.00487127162577)  \n",
       "170310 -73.973383   (40.60534771796192, -73.97338250306699)  \n",
       "170311        NaN                                       NaN  \n",
       "\n",
       "[170312 rows x 53 columns]>"
      ]
     },
     "execution_count": 4,
     "metadata": {},
     "output_type": "execute_result"
    }
   ],
   "source": [
    "data.info"
   ]
  },
  {
   "cell_type": "code",
   "execution_count": 5,
   "id": "9f05cadb-72d4-4699-b2ca-83a51b1d3150",
   "metadata": {},
   "outputs": [
    {
     "data": {
      "text/html": [
       "<div>\n",
       "<style scoped>\n",
       "    .dataframe tbody tr th:only-of-type {\n",
       "        vertical-align: middle;\n",
       "    }\n",
       "\n",
       "    .dataframe tbody tr th {\n",
       "        vertical-align: top;\n",
       "    }\n",
       "\n",
       "    .dataframe thead th {\n",
       "        text-align: right;\n",
       "    }\n",
       "</style>\n",
       "<table border=\"1\" class=\"dataframe\">\n",
       "  <thead>\n",
       "    <tr style=\"text-align: right;\">\n",
       "      <th></th>\n",
       "      <th>Unique Key</th>\n",
       "      <th>Created Date</th>\n",
       "      <th>Closed Date</th>\n",
       "      <th>Agency</th>\n",
       "      <th>Agency Name</th>\n",
       "      <th>Complaint Type</th>\n",
       "      <th>Descriptor</th>\n",
       "      <th>Location Type</th>\n",
       "      <th>Incident Zip</th>\n",
       "      <th>Incident Address</th>\n",
       "      <th>...</th>\n",
       "      <th>Bridge Highway Name</th>\n",
       "      <th>Bridge Highway Direction</th>\n",
       "      <th>Road Ramp</th>\n",
       "      <th>Bridge Highway Segment</th>\n",
       "      <th>Garage Lot Name</th>\n",
       "      <th>Ferry Direction</th>\n",
       "      <th>Ferry Terminal Name</th>\n",
       "      <th>Latitude</th>\n",
       "      <th>Longitude</th>\n",
       "      <th>Location</th>\n",
       "    </tr>\n",
       "  </thead>\n",
       "  <tbody>\n",
       "    <tr>\n",
       "      <th>170307</th>\n",
       "      <td>31167171</td>\n",
       "      <td>07/26/2015 10:08:16 AM</td>\n",
       "      <td>07/26/2015 10:27:33 AM</td>\n",
       "      <td>NYPD</td>\n",
       "      <td>New York City Police Department</td>\n",
       "      <td>Illegal Parking</td>\n",
       "      <td>Overnight Commercial Storage</td>\n",
       "      <td>Street/Sidewalk</td>\n",
       "      <td>11369.0</td>\n",
       "      <td>NaN</td>\n",
       "      <td>...</td>\n",
       "      <td>NaN</td>\n",
       "      <td>NaN</td>\n",
       "      <td>NaN</td>\n",
       "      <td>NaN</td>\n",
       "      <td>NaN</td>\n",
       "      <td>NaN</td>\n",
       "      <td>NaN</td>\n",
       "      <td>40.761115</td>\n",
       "      <td>-73.868132</td>\n",
       "      <td>(40.76111520641683, -73.86813176590425)</td>\n",
       "    </tr>\n",
       "    <tr>\n",
       "      <th>170308</th>\n",
       "      <td>31167659</td>\n",
       "      <td>07/26/2015 10:05:00 AM</td>\n",
       "      <td>07/26/2015 11:45:56 AM</td>\n",
       "      <td>NYPD</td>\n",
       "      <td>New York City Police Department</td>\n",
       "      <td>Illegal Parking</td>\n",
       "      <td>Double Parked Blocking Vehicle</td>\n",
       "      <td>Street/Sidewalk</td>\n",
       "      <td>10472.0</td>\n",
       "      <td>NaN</td>\n",
       "      <td>...</td>\n",
       "      <td>NaN</td>\n",
       "      <td>NaN</td>\n",
       "      <td>NaN</td>\n",
       "      <td>NaN</td>\n",
       "      <td>NaN</td>\n",
       "      <td>NaN</td>\n",
       "      <td>NaN</td>\n",
       "      <td>40.827297</td>\n",
       "      <td>-73.869182</td>\n",
       "      <td>(40.82729739072406, -73.86918217302072)</td>\n",
       "    </tr>\n",
       "    <tr>\n",
       "      <th>170309</th>\n",
       "      <td>31165398</td>\n",
       "      <td>07/26/2015 10:02:02 AM</td>\n",
       "      <td>07/26/2015 02:00:10 PM</td>\n",
       "      <td>NYPD</td>\n",
       "      <td>New York City Police Department</td>\n",
       "      <td>Illegal Parking</td>\n",
       "      <td>Posted Parking Sign Violation</td>\n",
       "      <td>Street/Sidewalk</td>\n",
       "      <td>10014.0</td>\n",
       "      <td>378 BLEECKER STREET</td>\n",
       "      <td>...</td>\n",
       "      <td>NaN</td>\n",
       "      <td>NaN</td>\n",
       "      <td>NaN</td>\n",
       "      <td>NaN</td>\n",
       "      <td>NaN</td>\n",
       "      <td>NaN</td>\n",
       "      <td>NaN</td>\n",
       "      <td>40.735055</td>\n",
       "      <td>-74.004871</td>\n",
       "      <td>(40.73505508071761, -74.00487127162577)</td>\n",
       "    </tr>\n",
       "    <tr>\n",
       "      <th>170310</th>\n",
       "      <td>31167547</td>\n",
       "      <td>07/26/2015 09:56:36 AM</td>\n",
       "      <td>07/26/2015 01:04:34 PM</td>\n",
       "      <td>NYPD</td>\n",
       "      <td>New York City Police Department</td>\n",
       "      <td>Blocked Driveway</td>\n",
       "      <td>No Access</td>\n",
       "      <td>Street/Sidewalk</td>\n",
       "      <td>11223.0</td>\n",
       "      <td>1755 DAHILL ROAD</td>\n",
       "      <td>...</td>\n",
       "      <td>NaN</td>\n",
       "      <td>NaN</td>\n",
       "      <td>NaN</td>\n",
       "      <td>NaN</td>\n",
       "      <td>NaN</td>\n",
       "      <td>NaN</td>\n",
       "      <td>NaN</td>\n",
       "      <td>40.605348</td>\n",
       "      <td>-73.973383</td>\n",
       "      <td>(40.60534771796192, -73.97338250306699)</td>\n",
       "    </tr>\n",
       "    <tr>\n",
       "      <th>170311</th>\n",
       "      <td>31166658</td>\n",
       "      <td>07/26/2015 09:54:44 AM</td>\n",
       "      <td>07/26/2015 11:18:43 AM</td>\n",
       "      <td>NYPD</td>\n",
       "      <td>New York City Police Department</td>\n",
       "      <td>Homeless Encampment</td>\n",
       "      <td>NaN</td>\n",
       "      <td>Residential Building/House</td>\n",
       "      <td>10013.0</td>\n",
       "      <td>350 BROADWAY</td>\n",
       "      <td>...</td>\n",
       "      <td>NaN</td>\n",
       "      <td>NaN</td>\n",
       "      <td>NaN</td>\n",
       "      <td>NaN</td>\n",
       "      <td>NaN</td>\n",
       "      <td>NaN</td>\n",
       "      <td>NaN</td>\n",
       "      <td>NaN</td>\n",
       "      <td>NaN</td>\n",
       "      <td>NaN</td>\n",
       "    </tr>\n",
       "  </tbody>\n",
       "</table>\n",
       "<p>5 rows × 53 columns</p>\n",
       "</div>"
      ],
      "text/plain": [
       "        Unique Key            Created Date             Closed Date Agency  \\\n",
       "170307    31167171  07/26/2015 10:08:16 AM  07/26/2015 10:27:33 AM   NYPD   \n",
       "170308    31167659  07/26/2015 10:05:00 AM  07/26/2015 11:45:56 AM   NYPD   \n",
       "170309    31165398  07/26/2015 10:02:02 AM  07/26/2015 02:00:10 PM   NYPD   \n",
       "170310    31167547  07/26/2015 09:56:36 AM  07/26/2015 01:04:34 PM   NYPD   \n",
       "170311    31166658  07/26/2015 09:54:44 AM  07/26/2015 11:18:43 AM   NYPD   \n",
       "\n",
       "                            Agency Name       Complaint Type  \\\n",
       "170307  New York City Police Department      Illegal Parking   \n",
       "170308  New York City Police Department      Illegal Parking   \n",
       "170309  New York City Police Department      Illegal Parking   \n",
       "170310  New York City Police Department     Blocked Driveway   \n",
       "170311  New York City Police Department  Homeless Encampment   \n",
       "\n",
       "                            Descriptor               Location Type  \\\n",
       "170307    Overnight Commercial Storage             Street/Sidewalk   \n",
       "170308  Double Parked Blocking Vehicle             Street/Sidewalk   \n",
       "170309   Posted Parking Sign Violation             Street/Sidewalk   \n",
       "170310                       No Access             Street/Sidewalk   \n",
       "170311                             NaN  Residential Building/House   \n",
       "\n",
       "        Incident Zip     Incident Address  ... Bridge Highway Name  \\\n",
       "170307       11369.0                  NaN  ...                 NaN   \n",
       "170308       10472.0                  NaN  ...                 NaN   \n",
       "170309       10014.0  378 BLEECKER STREET  ...                 NaN   \n",
       "170310       11223.0     1755 DAHILL ROAD  ...                 NaN   \n",
       "170311       10013.0         350 BROADWAY  ...                 NaN   \n",
       "\n",
       "       Bridge Highway Direction Road Ramp Bridge Highway Segment  \\\n",
       "170307                      NaN       NaN                    NaN   \n",
       "170308                      NaN       NaN                    NaN   \n",
       "170309                      NaN       NaN                    NaN   \n",
       "170310                      NaN       NaN                    NaN   \n",
       "170311                      NaN       NaN                    NaN   \n",
       "\n",
       "       Garage Lot Name Ferry Direction Ferry Terminal Name   Latitude  \\\n",
       "170307             NaN             NaN                 NaN  40.761115   \n",
       "170308             NaN             NaN                 NaN  40.827297   \n",
       "170309             NaN             NaN                 NaN  40.735055   \n",
       "170310             NaN             NaN                 NaN  40.605348   \n",
       "170311             NaN             NaN                 NaN        NaN   \n",
       "\n",
       "        Longitude                                 Location  \n",
       "170307 -73.868132  (40.76111520641683, -73.86813176590425)  \n",
       "170308 -73.869182  (40.82729739072406, -73.86918217302072)  \n",
       "170309 -74.004871  (40.73505508071761, -74.00487127162577)  \n",
       "170310 -73.973383  (40.60534771796192, -73.97338250306699)  \n",
       "170311        NaN                                      NaN  \n",
       "\n",
       "[5 rows x 53 columns]"
      ]
     },
     "execution_count": 5,
     "metadata": {},
     "output_type": "execute_result"
    }
   ],
   "source": [
    "data.tail()"
   ]
  },
  {
   "cell_type": "code",
   "execution_count": 6,
   "id": "0084f26b-7b3c-45d8-b8bb-a1eaac3445e6",
   "metadata": {},
   "outputs": [
    {
     "data": {
      "text/html": [
       "<div>\n",
       "<style scoped>\n",
       "    .dataframe tbody tr th:only-of-type {\n",
       "        vertical-align: middle;\n",
       "    }\n",
       "\n",
       "    .dataframe tbody tr th {\n",
       "        vertical-align: top;\n",
       "    }\n",
       "\n",
       "    .dataframe thead th {\n",
       "        text-align: right;\n",
       "    }\n",
       "</style>\n",
       "<table border=\"1\" class=\"dataframe\">\n",
       "  <thead>\n",
       "    <tr style=\"text-align: right;\">\n",
       "      <th></th>\n",
       "      <th>Unique Key</th>\n",
       "      <th>Created Date</th>\n",
       "      <th>Closed Date</th>\n",
       "      <th>Agency</th>\n",
       "      <th>Agency Name</th>\n",
       "      <th>Complaint Type</th>\n",
       "      <th>Descriptor</th>\n",
       "      <th>Location Type</th>\n",
       "      <th>Incident Zip</th>\n",
       "      <th>Incident Address</th>\n",
       "      <th>...</th>\n",
       "      <th>Bridge Highway Name</th>\n",
       "      <th>Bridge Highway Direction</th>\n",
       "      <th>Road Ramp</th>\n",
       "      <th>Bridge Highway Segment</th>\n",
       "      <th>Garage Lot Name</th>\n",
       "      <th>Ferry Direction</th>\n",
       "      <th>Ferry Terminal Name</th>\n",
       "      <th>Latitude</th>\n",
       "      <th>Longitude</th>\n",
       "      <th>Location</th>\n",
       "    </tr>\n",
       "  </thead>\n",
       "  <tbody>\n",
       "    <tr>\n",
       "      <th>0</th>\n",
       "      <td>32310363</td>\n",
       "      <td>12/31/2015 11:59:45 PM</td>\n",
       "      <td>01/01/2016 12:55:15 AM</td>\n",
       "      <td>NYPD</td>\n",
       "      <td>New York City Police Department</td>\n",
       "      <td>Noise - Street/Sidewalk</td>\n",
       "      <td>Loud Music/Party</td>\n",
       "      <td>Street/Sidewalk</td>\n",
       "      <td>10034.0</td>\n",
       "      <td>71 VERMILYEA AVENUE</td>\n",
       "      <td>...</td>\n",
       "      <td>NaN</td>\n",
       "      <td>NaN</td>\n",
       "      <td>NaN</td>\n",
       "      <td>NaN</td>\n",
       "      <td>NaN</td>\n",
       "      <td>NaN</td>\n",
       "      <td>NaN</td>\n",
       "      <td>40.865682</td>\n",
       "      <td>-73.923501</td>\n",
       "      <td>(40.86568153633767, -73.92350095571744)</td>\n",
       "    </tr>\n",
       "    <tr>\n",
       "      <th>1</th>\n",
       "      <td>32309934</td>\n",
       "      <td>12/31/2015 11:59:44 PM</td>\n",
       "      <td>01/01/2016 01:26:57 AM</td>\n",
       "      <td>NYPD</td>\n",
       "      <td>New York City Police Department</td>\n",
       "      <td>Blocked Driveway</td>\n",
       "      <td>No Access</td>\n",
       "      <td>Street/Sidewalk</td>\n",
       "      <td>11105.0</td>\n",
       "      <td>27-07 23 AVENUE</td>\n",
       "      <td>...</td>\n",
       "      <td>NaN</td>\n",
       "      <td>NaN</td>\n",
       "      <td>NaN</td>\n",
       "      <td>NaN</td>\n",
       "      <td>NaN</td>\n",
       "      <td>NaN</td>\n",
       "      <td>NaN</td>\n",
       "      <td>40.775945</td>\n",
       "      <td>-73.915094</td>\n",
       "      <td>(40.775945312321085, -73.91509393898605)</td>\n",
       "    </tr>\n",
       "    <tr>\n",
       "      <th>2</th>\n",
       "      <td>32309159</td>\n",
       "      <td>12/31/2015 11:59:29 PM</td>\n",
       "      <td>01/01/2016 04:51:03 AM</td>\n",
       "      <td>NYPD</td>\n",
       "      <td>New York City Police Department</td>\n",
       "      <td>Blocked Driveway</td>\n",
       "      <td>No Access</td>\n",
       "      <td>Street/Sidewalk</td>\n",
       "      <td>10458.0</td>\n",
       "      <td>2897 VALENTINE AVENUE</td>\n",
       "      <td>...</td>\n",
       "      <td>NaN</td>\n",
       "      <td>NaN</td>\n",
       "      <td>NaN</td>\n",
       "      <td>NaN</td>\n",
       "      <td>NaN</td>\n",
       "      <td>NaN</td>\n",
       "      <td>NaN</td>\n",
       "      <td>40.870325</td>\n",
       "      <td>-73.888525</td>\n",
       "      <td>(40.870324522111424, -73.88852464418646)</td>\n",
       "    </tr>\n",
       "    <tr>\n",
       "      <th>3</th>\n",
       "      <td>32305098</td>\n",
       "      <td>12/31/2015 11:57:46 PM</td>\n",
       "      <td>01/01/2016 07:43:13 AM</td>\n",
       "      <td>NYPD</td>\n",
       "      <td>New York City Police Department</td>\n",
       "      <td>Illegal Parking</td>\n",
       "      <td>Commercial Overnight Parking</td>\n",
       "      <td>Street/Sidewalk</td>\n",
       "      <td>10461.0</td>\n",
       "      <td>2940 BAISLEY AVENUE</td>\n",
       "      <td>...</td>\n",
       "      <td>NaN</td>\n",
       "      <td>NaN</td>\n",
       "      <td>NaN</td>\n",
       "      <td>NaN</td>\n",
       "      <td>NaN</td>\n",
       "      <td>NaN</td>\n",
       "      <td>NaN</td>\n",
       "      <td>40.835994</td>\n",
       "      <td>-73.828379</td>\n",
       "      <td>(40.83599404683083, -73.82837939584206)</td>\n",
       "    </tr>\n",
       "    <tr>\n",
       "      <th>4</th>\n",
       "      <td>32306529</td>\n",
       "      <td>12/31/2015 11:56:58 PM</td>\n",
       "      <td>01/01/2016 03:24:42 AM</td>\n",
       "      <td>NYPD</td>\n",
       "      <td>New York City Police Department</td>\n",
       "      <td>Illegal Parking</td>\n",
       "      <td>Blocked Sidewalk</td>\n",
       "      <td>Street/Sidewalk</td>\n",
       "      <td>11373.0</td>\n",
       "      <td>87-14 57 ROAD</td>\n",
       "      <td>...</td>\n",
       "      <td>NaN</td>\n",
       "      <td>NaN</td>\n",
       "      <td>NaN</td>\n",
       "      <td>NaN</td>\n",
       "      <td>NaN</td>\n",
       "      <td>NaN</td>\n",
       "      <td>NaN</td>\n",
       "      <td>40.733060</td>\n",
       "      <td>-73.874170</td>\n",
       "      <td>(40.733059618956815, -73.87416975810375)</td>\n",
       "    </tr>\n",
       "  </tbody>\n",
       "</table>\n",
       "<p>5 rows × 53 columns</p>\n",
       "</div>"
      ],
      "text/plain": [
       "   Unique Key            Created Date             Closed Date Agency  \\\n",
       "0    32310363  12/31/2015 11:59:45 PM  01/01/2016 12:55:15 AM   NYPD   \n",
       "1    32309934  12/31/2015 11:59:44 PM  01/01/2016 01:26:57 AM   NYPD   \n",
       "2    32309159  12/31/2015 11:59:29 PM  01/01/2016 04:51:03 AM   NYPD   \n",
       "3    32305098  12/31/2015 11:57:46 PM  01/01/2016 07:43:13 AM   NYPD   \n",
       "4    32306529  12/31/2015 11:56:58 PM  01/01/2016 03:24:42 AM   NYPD   \n",
       "\n",
       "                       Agency Name           Complaint Type  \\\n",
       "0  New York City Police Department  Noise - Street/Sidewalk   \n",
       "1  New York City Police Department         Blocked Driveway   \n",
       "2  New York City Police Department         Blocked Driveway   \n",
       "3  New York City Police Department          Illegal Parking   \n",
       "4  New York City Police Department          Illegal Parking   \n",
       "\n",
       "                     Descriptor    Location Type  Incident Zip  \\\n",
       "0              Loud Music/Party  Street/Sidewalk       10034.0   \n",
       "1                     No Access  Street/Sidewalk       11105.0   \n",
       "2                     No Access  Street/Sidewalk       10458.0   \n",
       "3  Commercial Overnight Parking  Street/Sidewalk       10461.0   \n",
       "4              Blocked Sidewalk  Street/Sidewalk       11373.0   \n",
       "\n",
       "        Incident Address  ... Bridge Highway Name Bridge Highway Direction  \\\n",
       "0    71 VERMILYEA AVENUE  ...                 NaN                      NaN   \n",
       "1        27-07 23 AVENUE  ...                 NaN                      NaN   \n",
       "2  2897 VALENTINE AVENUE  ...                 NaN                      NaN   \n",
       "3    2940 BAISLEY AVENUE  ...                 NaN                      NaN   \n",
       "4          87-14 57 ROAD  ...                 NaN                      NaN   \n",
       "\n",
       "  Road Ramp Bridge Highway Segment Garage Lot Name Ferry Direction  \\\n",
       "0       NaN                    NaN             NaN             NaN   \n",
       "1       NaN                    NaN             NaN             NaN   \n",
       "2       NaN                    NaN             NaN             NaN   \n",
       "3       NaN                    NaN             NaN             NaN   \n",
       "4       NaN                    NaN             NaN             NaN   \n",
       "\n",
       "  Ferry Terminal Name   Latitude  Longitude  \\\n",
       "0                 NaN  40.865682 -73.923501   \n",
       "1                 NaN  40.775945 -73.915094   \n",
       "2                 NaN  40.870325 -73.888525   \n",
       "3                 NaN  40.835994 -73.828379   \n",
       "4                 NaN  40.733060 -73.874170   \n",
       "\n",
       "                                   Location  \n",
       "0   (40.86568153633767, -73.92350095571744)  \n",
       "1  (40.775945312321085, -73.91509393898605)  \n",
       "2  (40.870324522111424, -73.88852464418646)  \n",
       "3   (40.83599404683083, -73.82837939584206)  \n",
       "4  (40.733059618956815, -73.87416975810375)  \n",
       "\n",
       "[5 rows x 53 columns]"
      ]
     },
     "execution_count": 6,
     "metadata": {},
     "output_type": "execute_result"
    }
   ],
   "source": [
    "data.head()"
   ]
  },
  {
   "cell_type": "code",
   "execution_count": 7,
   "id": "6a254efd-3b7d-4d51-bc1f-59fed10cbdf1",
   "metadata": {},
   "outputs": [
    {
     "data": {
      "text/plain": [
       "Index(['Unique Key', 'Created Date', 'Closed Date', 'Agency', 'Agency Name',\n",
       "       'Complaint Type', 'Descriptor', 'Location Type', 'Incident Zip',\n",
       "       'Incident Address', 'Street Name', 'Cross Street 1', 'Cross Street 2',\n",
       "       'Intersection Street 1', 'Intersection Street 2', 'Address Type',\n",
       "       'City', 'Landmark', 'Facility Type', 'Status', 'Due Date',\n",
       "       'Resolution Description', 'Resolution Action Updated Date',\n",
       "       'Community Board', 'Borough', 'X Coordinate (State Plane)',\n",
       "       'Y Coordinate (State Plane)', 'Park Facility Name', 'Park Borough',\n",
       "       'School Name', 'School Number', 'School Region', 'School Code',\n",
       "       'School Phone Number', 'School Address', 'School City', 'School State',\n",
       "       'School Zip', 'School Not Found', 'School or Citywide Complaint',\n",
       "       'Vehicle Type', 'Taxi Company Borough', 'Taxi Pick Up Location',\n",
       "       'Bridge Highway Name', 'Bridge Highway Direction', 'Road Ramp',\n",
       "       'Bridge Highway Segment', 'Garage Lot Name', 'Ferry Direction',\n",
       "       'Ferry Terminal Name', 'Latitude', 'Longitude', 'Location'],\n",
       "      dtype='object')"
      ]
     },
     "execution_count": 7,
     "metadata": {},
     "output_type": "execute_result"
    }
   ],
   "source": [
    "data.columns"
   ]
  },
  {
   "cell_type": "code",
   "execution_count": 8,
   "id": "7b964005-7772-48c6-928f-e82e1881787b",
   "metadata": {},
   "outputs": [
    {
     "data": {
      "text/html": [
       "<div>\n",
       "<style scoped>\n",
       "    .dataframe tbody tr th:only-of-type {\n",
       "        vertical-align: middle;\n",
       "    }\n",
       "\n",
       "    .dataframe tbody tr th {\n",
       "        vertical-align: top;\n",
       "    }\n",
       "\n",
       "    .dataframe thead th {\n",
       "        text-align: right;\n",
       "    }\n",
       "</style>\n",
       "<table border=\"1\" class=\"dataframe\">\n",
       "  <thead>\n",
       "    <tr style=\"text-align: right;\">\n",
       "      <th></th>\n",
       "      <th>Unique Key</th>\n",
       "      <th>Created Date</th>\n",
       "      <th>Closed Date</th>\n",
       "      <th>Agency</th>\n",
       "      <th>Agency Name</th>\n",
       "      <th>Complaint Type</th>\n",
       "      <th>Descriptor</th>\n",
       "      <th>Location Type</th>\n",
       "      <th>Incident Zip</th>\n",
       "      <th>Incident Address</th>\n",
       "      <th>Street Name</th>\n",
       "      <th>Cross Street 1</th>\n",
       "      <th>Cross Street 2</th>\n",
       "      <th>Intersection Street 1</th>\n",
       "      <th>Intersection Street 2</th>\n",
       "      <th>Address Type</th>\n",
       "      <th>City</th>\n",
       "      <th>Landmark</th>\n",
       "      <th>Facility Type</th>\n",
       "      <th>Status</th>\n",
       "      <th>Due Date</th>\n",
       "      <th>Resolution Description</th>\n",
       "      <th>Resolution Action Updated Date</th>\n",
       "      <th>Community Board</th>\n",
       "      <th>Borough</th>\n",
       "      <th>X Coordinate (State Plane)</th>\n",
       "      <th>Y Coordinate (State Plane)</th>\n",
       "      <th>Park Facility Name</th>\n",
       "      <th>Park Borough</th>\n",
       "      <th>School Name</th>\n",
       "      <th>School Number</th>\n",
       "      <th>School Region</th>\n",
       "      <th>School Code</th>\n",
       "      <th>School Phone Number</th>\n",
       "      <th>School Address</th>\n",
       "      <th>School City</th>\n",
       "      <th>School State</th>\n",
       "      <th>School Zip</th>\n",
       "      <th>School Not Found</th>\n",
       "      <th>School or Citywide Complaint</th>\n",
       "      <th>Vehicle Type</th>\n",
       "      <th>Taxi Company Borough</th>\n",
       "      <th>Taxi Pick Up Location</th>\n",
       "      <th>Bridge Highway Name</th>\n",
       "      <th>Bridge Highway Direction</th>\n",
       "      <th>Road Ramp</th>\n",
       "      <th>Bridge Highway Segment</th>\n",
       "      <th>Garage Lot Name</th>\n",
       "      <th>Ferry Direction</th>\n",
       "      <th>Ferry Terminal Name</th>\n",
       "      <th>Latitude</th>\n",
       "      <th>Longitude</th>\n",
       "      <th>Location</th>\n",
       "    </tr>\n",
       "  </thead>\n",
       "  <tbody>\n",
       "    <tr>\n",
       "      <th>82173</th>\n",
       "      <td>31736584</td>\n",
       "      <td>10/12/2015 11:33:52 AM</td>\n",
       "      <td>10/12/2015 01:21:12 PM</td>\n",
       "      <td>NYPD</td>\n",
       "      <td>New York City Police Department</td>\n",
       "      <td>Blocked Driveway</td>\n",
       "      <td>No Access</td>\n",
       "      <td>Street/Sidewalk</td>\n",
       "      <td>11217.0</td>\n",
       "      <td>622 DEGRAW STREET</td>\n",
       "      <td>DEGRAW STREET</td>\n",
       "      <td>3 AVENUE</td>\n",
       "      <td>4 AVENUE</td>\n",
       "      <td>NaN</td>\n",
       "      <td>NaN</td>\n",
       "      <td>ADDRESS</td>\n",
       "      <td>BROOKLYN</td>\n",
       "      <td>NaN</td>\n",
       "      <td>Precinct</td>\n",
       "      <td>Closed</td>\n",
       "      <td>10/12/2015 07:33:52 PM</td>\n",
       "      <td>The Police Department responded to the complai...</td>\n",
       "      <td>10/12/2015 01:21:12 PM</td>\n",
       "      <td>06 BROOKLYN</td>\n",
       "      <td>BROOKLYN</td>\n",
       "      <td>988846.0</td>\n",
       "      <td>186711.0</td>\n",
       "      <td>Unspecified</td>\n",
       "      <td>BROOKLYN</td>\n",
       "      <td>Unspecified</td>\n",
       "      <td>Unspecified</td>\n",
       "      <td>Unspecified</td>\n",
       "      <td>Unspecified</td>\n",
       "      <td>Unspecified</td>\n",
       "      <td>Unspecified</td>\n",
       "      <td>Unspecified</td>\n",
       "      <td>Unspecified</td>\n",
       "      <td>Unspecified</td>\n",
       "      <td>N</td>\n",
       "      <td>NaN</td>\n",
       "      <td>NaN</td>\n",
       "      <td>NaN</td>\n",
       "      <td>NaN</td>\n",
       "      <td>NaN</td>\n",
       "      <td>NaN</td>\n",
       "      <td>NaN</td>\n",
       "      <td>NaN</td>\n",
       "      <td>NaN</td>\n",
       "      <td>NaN</td>\n",
       "      <td>NaN</td>\n",
       "      <td>40.679154</td>\n",
       "      <td>-73.983430</td>\n",
       "      <td>(40.679154133157326, -73.98342992763081)</td>\n",
       "    </tr>\n",
       "    <tr>\n",
       "      <th>16967</th>\n",
       "      <td>32195428</td>\n",
       "      <td>12/13/2015 05:34:35 PM</td>\n",
       "      <td>12/13/2015 09:46:51 PM</td>\n",
       "      <td>NYPD</td>\n",
       "      <td>New York City Police Department</td>\n",
       "      <td>Noise - Vehicle</td>\n",
       "      <td>Car/Truck Music</td>\n",
       "      <td>Street/Sidewalk</td>\n",
       "      <td>11375.0</td>\n",
       "      <td>68-12 YELLOWSTONE BOULEVARD</td>\n",
       "      <td>YELLOWSTONE BOULEVARD</td>\n",
       "      <td>68 AVENUE</td>\n",
       "      <td>68 ROAD</td>\n",
       "      <td>NaN</td>\n",
       "      <td>NaN</td>\n",
       "      <td>ADDRESS</td>\n",
       "      <td>FOREST HILLS</td>\n",
       "      <td>NaN</td>\n",
       "      <td>Precinct</td>\n",
       "      <td>Closed</td>\n",
       "      <td>12/14/2015 01:34:35 AM</td>\n",
       "      <td>The Police Department responded to the complai...</td>\n",
       "      <td>12/13/2015 09:46:51 PM</td>\n",
       "      <td>06 QUEENS</td>\n",
       "      <td>QUEENS</td>\n",
       "      <td>1026289.0</td>\n",
       "      <td>203836.0</td>\n",
       "      <td>Unspecified</td>\n",
       "      <td>QUEENS</td>\n",
       "      <td>Unspecified</td>\n",
       "      <td>Unspecified</td>\n",
       "      <td>Unspecified</td>\n",
       "      <td>Unspecified</td>\n",
       "      <td>Unspecified</td>\n",
       "      <td>Unspecified</td>\n",
       "      <td>Unspecified</td>\n",
       "      <td>Unspecified</td>\n",
       "      <td>Unspecified</td>\n",
       "      <td>N</td>\n",
       "      <td>NaN</td>\n",
       "      <td>NaN</td>\n",
       "      <td>NaN</td>\n",
       "      <td>NaN</td>\n",
       "      <td>NaN</td>\n",
       "      <td>NaN</td>\n",
       "      <td>NaN</td>\n",
       "      <td>NaN</td>\n",
       "      <td>NaN</td>\n",
       "      <td>NaN</td>\n",
       "      <td>NaN</td>\n",
       "      <td>40.726060</td>\n",
       "      <td>-73.848329</td>\n",
       "      <td>(40.726059538480236, -73.84832900182792)</td>\n",
       "    </tr>\n",
       "    <tr>\n",
       "      <th>91877</th>\n",
       "      <td>31671616</td>\n",
       "      <td>10/03/2015 08:08:00 AM</td>\n",
       "      <td>10/03/2015 08:22:49 AM</td>\n",
       "      <td>NYPD</td>\n",
       "      <td>New York City Police Department</td>\n",
       "      <td>Noise - Commercial</td>\n",
       "      <td>Loud Music/Party</td>\n",
       "      <td>Club/Bar/Restaurant</td>\n",
       "      <td>11222.0</td>\n",
       "      <td>99 COMMERCIAL STREET</td>\n",
       "      <td>COMMERCIAL STREET</td>\n",
       "      <td>BOX STREET</td>\n",
       "      <td>ASH STREET</td>\n",
       "      <td>NaN</td>\n",
       "      <td>NaN</td>\n",
       "      <td>ADDRESS</td>\n",
       "      <td>BROOKLYN</td>\n",
       "      <td>NaN</td>\n",
       "      <td>Precinct</td>\n",
       "      <td>Closed</td>\n",
       "      <td>10/03/2015 04:08:00 PM</td>\n",
       "      <td>The Police Department responded to the complai...</td>\n",
       "      <td>10/03/2015 08:22:49 AM</td>\n",
       "      <td>01 BROOKLYN</td>\n",
       "      <td>BROOKLYN</td>\n",
       "      <td>996470.0</td>\n",
       "      <td>208062.0</td>\n",
       "      <td>Unspecified</td>\n",
       "      <td>BROOKLYN</td>\n",
       "      <td>Unspecified</td>\n",
       "      <td>Unspecified</td>\n",
       "      <td>Unspecified</td>\n",
       "      <td>Unspecified</td>\n",
       "      <td>Unspecified</td>\n",
       "      <td>Unspecified</td>\n",
       "      <td>Unspecified</td>\n",
       "      <td>Unspecified</td>\n",
       "      <td>Unspecified</td>\n",
       "      <td>N</td>\n",
       "      <td>NaN</td>\n",
       "      <td>NaN</td>\n",
       "      <td>NaN</td>\n",
       "      <td>NaN</td>\n",
       "      <td>NaN</td>\n",
       "      <td>NaN</td>\n",
       "      <td>NaN</td>\n",
       "      <td>NaN</td>\n",
       "      <td>NaN</td>\n",
       "      <td>NaN</td>\n",
       "      <td>NaN</td>\n",
       "      <td>40.737750</td>\n",
       "      <td>-73.955904</td>\n",
       "      <td>(40.737750323290356, -73.95590418542173)</td>\n",
       "    </tr>\n",
       "    <tr>\n",
       "      <th>118112</th>\n",
       "      <td>31504443</td>\n",
       "      <td>09/10/2015 11:11:09 PM</td>\n",
       "      <td>09/11/2015 02:12:40 AM</td>\n",
       "      <td>NYPD</td>\n",
       "      <td>New York City Police Department</td>\n",
       "      <td>Blocked Driveway</td>\n",
       "      <td>No Access</td>\n",
       "      <td>Street/Sidewalk</td>\n",
       "      <td>11208.0</td>\n",
       "      <td>389 LINCOLN AVENUE</td>\n",
       "      <td>LINCOLN AVENUE</td>\n",
       "      <td>BEND</td>\n",
       "      <td>MC KINLEY AVENUE</td>\n",
       "      <td>NaN</td>\n",
       "      <td>NaN</td>\n",
       "      <td>ADDRESS</td>\n",
       "      <td>BROOKLYN</td>\n",
       "      <td>NaN</td>\n",
       "      <td>Precinct</td>\n",
       "      <td>Closed</td>\n",
       "      <td>09/11/2015 07:11:09 AM</td>\n",
       "      <td>The Police Department issued a summons in resp...</td>\n",
       "      <td>09/11/2015 02:12:41 AM</td>\n",
       "      <td>05 BROOKLYN</td>\n",
       "      <td>BROOKLYN</td>\n",
       "      <td>1020718.0</td>\n",
       "      <td>187324.0</td>\n",
       "      <td>Unspecified</td>\n",
       "      <td>BROOKLYN</td>\n",
       "      <td>Unspecified</td>\n",
       "      <td>Unspecified</td>\n",
       "      <td>Unspecified</td>\n",
       "      <td>Unspecified</td>\n",
       "      <td>Unspecified</td>\n",
       "      <td>Unspecified</td>\n",
       "      <td>Unspecified</td>\n",
       "      <td>Unspecified</td>\n",
       "      <td>Unspecified</td>\n",
       "      <td>N</td>\n",
       "      <td>NaN</td>\n",
       "      <td>NaN</td>\n",
       "      <td>NaN</td>\n",
       "      <td>NaN</td>\n",
       "      <td>NaN</td>\n",
       "      <td>NaN</td>\n",
       "      <td>NaN</td>\n",
       "      <td>NaN</td>\n",
       "      <td>NaN</td>\n",
       "      <td>NaN</td>\n",
       "      <td>NaN</td>\n",
       "      <td>40.680763</td>\n",
       "      <td>-73.868518</td>\n",
       "      <td>(40.680762750632084, -73.8685177983554)</td>\n",
       "    </tr>\n",
       "  </tbody>\n",
       "</table>\n",
       "</div>"
      ],
      "text/plain": [
       "        Unique Key            Created Date             Closed Date Agency  \\\n",
       "82173     31736584  10/12/2015 11:33:52 AM  10/12/2015 01:21:12 PM   NYPD   \n",
       "16967     32195428  12/13/2015 05:34:35 PM  12/13/2015 09:46:51 PM   NYPD   \n",
       "91877     31671616  10/03/2015 08:08:00 AM  10/03/2015 08:22:49 AM   NYPD   \n",
       "118112    31504443  09/10/2015 11:11:09 PM  09/11/2015 02:12:40 AM   NYPD   \n",
       "\n",
       "                            Agency Name      Complaint Type        Descriptor  \\\n",
       "82173   New York City Police Department    Blocked Driveway         No Access   \n",
       "16967   New York City Police Department     Noise - Vehicle   Car/Truck Music   \n",
       "91877   New York City Police Department  Noise - Commercial  Loud Music/Party   \n",
       "118112  New York City Police Department    Blocked Driveway         No Access   \n",
       "\n",
       "              Location Type  Incident Zip             Incident Address  \\\n",
       "82173       Street/Sidewalk       11217.0            622 DEGRAW STREET   \n",
       "16967       Street/Sidewalk       11375.0  68-12 YELLOWSTONE BOULEVARD   \n",
       "91877   Club/Bar/Restaurant       11222.0         99 COMMERCIAL STREET   \n",
       "118112      Street/Sidewalk       11208.0           389 LINCOLN AVENUE   \n",
       "\n",
       "                  Street Name Cross Street 1    Cross Street 2  \\\n",
       "82173           DEGRAW STREET       3 AVENUE          4 AVENUE   \n",
       "16967   YELLOWSTONE BOULEVARD      68 AVENUE           68 ROAD   \n",
       "91877       COMMERCIAL STREET     BOX STREET        ASH STREET   \n",
       "118112         LINCOLN AVENUE           BEND  MC KINLEY AVENUE   \n",
       "\n",
       "       Intersection Street 1 Intersection Street 2 Address Type          City  \\\n",
       "82173                    NaN                   NaN      ADDRESS      BROOKLYN   \n",
       "16967                    NaN                   NaN      ADDRESS  FOREST HILLS   \n",
       "91877                    NaN                   NaN      ADDRESS      BROOKLYN   \n",
       "118112                   NaN                   NaN      ADDRESS      BROOKLYN   \n",
       "\n",
       "       Landmark Facility Type  Status                Due Date  \\\n",
       "82173       NaN      Precinct  Closed  10/12/2015 07:33:52 PM   \n",
       "16967       NaN      Precinct  Closed  12/14/2015 01:34:35 AM   \n",
       "91877       NaN      Precinct  Closed  10/03/2015 04:08:00 PM   \n",
       "118112      NaN      Precinct  Closed  09/11/2015 07:11:09 AM   \n",
       "\n",
       "                                   Resolution Description  \\\n",
       "82173   The Police Department responded to the complai...   \n",
       "16967   The Police Department responded to the complai...   \n",
       "91877   The Police Department responded to the complai...   \n",
       "118112  The Police Department issued a summons in resp...   \n",
       "\n",
       "       Resolution Action Updated Date Community Board   Borough  \\\n",
       "82173          10/12/2015 01:21:12 PM     06 BROOKLYN  BROOKLYN   \n",
       "16967          12/13/2015 09:46:51 PM       06 QUEENS    QUEENS   \n",
       "91877          10/03/2015 08:22:49 AM     01 BROOKLYN  BROOKLYN   \n",
       "118112         09/11/2015 02:12:41 AM     05 BROOKLYN  BROOKLYN   \n",
       "\n",
       "        X Coordinate (State Plane)  Y Coordinate (State Plane)  \\\n",
       "82173                     988846.0                    186711.0   \n",
       "16967                    1026289.0                    203836.0   \n",
       "91877                     996470.0                    208062.0   \n",
       "118112                   1020718.0                    187324.0   \n",
       "\n",
       "       Park Facility Name Park Borough  School Name School Number  \\\n",
       "82173         Unspecified     BROOKLYN  Unspecified   Unspecified   \n",
       "16967         Unspecified       QUEENS  Unspecified   Unspecified   \n",
       "91877         Unspecified     BROOKLYN  Unspecified   Unspecified   \n",
       "118112        Unspecified     BROOKLYN  Unspecified   Unspecified   \n",
       "\n",
       "       School Region  School Code School Phone Number School Address  \\\n",
       "82173    Unspecified  Unspecified         Unspecified    Unspecified   \n",
       "16967    Unspecified  Unspecified         Unspecified    Unspecified   \n",
       "91877    Unspecified  Unspecified         Unspecified    Unspecified   \n",
       "118112   Unspecified  Unspecified         Unspecified    Unspecified   \n",
       "\n",
       "        School City School State   School Zip School Not Found  \\\n",
       "82173   Unspecified  Unspecified  Unspecified                N   \n",
       "16967   Unspecified  Unspecified  Unspecified                N   \n",
       "91877   Unspecified  Unspecified  Unspecified                N   \n",
       "118112  Unspecified  Unspecified  Unspecified                N   \n",
       "\n",
       "        School or Citywide Complaint  Vehicle Type  Taxi Company Borough  \\\n",
       "82173                            NaN           NaN                   NaN   \n",
       "16967                            NaN           NaN                   NaN   \n",
       "91877                            NaN           NaN                   NaN   \n",
       "118112                           NaN           NaN                   NaN   \n",
       "\n",
       "        Taxi Pick Up Location Bridge Highway Name Bridge Highway Direction  \\\n",
       "82173                     NaN                 NaN                      NaN   \n",
       "16967                     NaN                 NaN                      NaN   \n",
       "91877                     NaN                 NaN                      NaN   \n",
       "118112                    NaN                 NaN                      NaN   \n",
       "\n",
       "       Road Ramp Bridge Highway Segment  Garage Lot Name  Ferry Direction  \\\n",
       "82173        NaN                    NaN              NaN              NaN   \n",
       "16967        NaN                    NaN              NaN              NaN   \n",
       "91877        NaN                    NaN              NaN              NaN   \n",
       "118112       NaN                    NaN              NaN              NaN   \n",
       "\n",
       "       Ferry Terminal Name   Latitude  Longitude  \\\n",
       "82173                  NaN  40.679154 -73.983430   \n",
       "16967                  NaN  40.726060 -73.848329   \n",
       "91877                  NaN  40.737750 -73.955904   \n",
       "118112                 NaN  40.680763 -73.868518   \n",
       "\n",
       "                                        Location  \n",
       "82173   (40.679154133157326, -73.98342992763081)  \n",
       "16967   (40.726059538480236, -73.84832900182792)  \n",
       "91877   (40.737750323290356, -73.95590418542173)  \n",
       "118112   (40.680762750632084, -73.8685177983554)  "
      ]
     },
     "execution_count": 8,
     "metadata": {},
     "output_type": "execute_result"
    }
   ],
   "source": [
    "\n",
    "pd.set_option('display.max_columns',None)\n",
    "data.sample(4)"
   ]
  },
  {
   "cell_type": "code",
   "execution_count": 9,
   "id": "469c1159-844b-4e37-b4a1-7be17208f36b",
   "metadata": {},
   "outputs": [],
   "source": [
    "data_mod = data.drop(columns=['Unique Key'],axis=1)"
   ]
  },
  {
   "cell_type": "code",
   "execution_count": 10,
   "id": "1f6664a9-1520-4f67-b668-7c315d0be08f",
   "metadata": {},
   "outputs": [
    {
     "data": {
      "text/plain": [
       "Index(['Created Date', 'Closed Date', 'Agency', 'Agency Name',\n",
       "       'Complaint Type', 'Descriptor', 'Location Type', 'Incident Zip',\n",
       "       'Incident Address', 'Street Name', 'Cross Street 1', 'Cross Street 2',\n",
       "       'Intersection Street 1', 'Intersection Street 2', 'Address Type',\n",
       "       'City', 'Landmark', 'Facility Type', 'Status', 'Due Date',\n",
       "       'Resolution Description', 'Resolution Action Updated Date',\n",
       "       'Community Board', 'Borough', 'X Coordinate (State Plane)',\n",
       "       'Y Coordinate (State Plane)', 'Park Facility Name', 'Park Borough',\n",
       "       'School Name', 'School Number', 'School Region', 'School Code',\n",
       "       'School Phone Number', 'School Address', 'School City', 'School State',\n",
       "       'School Zip', 'School Not Found', 'School or Citywide Complaint',\n",
       "       'Vehicle Type', 'Taxi Company Borough', 'Taxi Pick Up Location',\n",
       "       'Bridge Highway Name', 'Bridge Highway Direction', 'Road Ramp',\n",
       "       'Bridge Highway Segment', 'Garage Lot Name', 'Ferry Direction',\n",
       "       'Ferry Terminal Name', 'Latitude', 'Longitude', 'Location'],\n",
       "      dtype='object')"
      ]
     },
     "execution_count": 10,
     "metadata": {},
     "output_type": "execute_result"
    }
   ],
   "source": [
    "data_mod.columns"
   ]
  },
  {
   "cell_type": "code",
   "execution_count": 11,
   "id": "0b98698f-5dec-42a1-86b6-146f02c82a9b",
   "metadata": {},
   "outputs": [
    {
     "data": {
      "text/plain": [
       "array(['NYPD'], dtype=object)"
      ]
     },
     "execution_count": 11,
     "metadata": {},
     "output_type": "execute_result"
    }
   ],
   "source": [
    "pd.unique(data['Agency'])"
   ]
  },
  {
   "cell_type": "code",
   "execution_count": 12,
   "id": "7c5fbe6f-e0f7-4066-94e1-20d6c24b82de",
   "metadata": {},
   "outputs": [
    {
     "data": {
      "text/plain": [
       "NYPD    170312\n",
       "Name: Agency, dtype: int64"
      ]
     },
     "execution_count": 12,
     "metadata": {},
     "output_type": "execute_result"
    }
   ],
   "source": [
    "data['Agency'].value_counts()"
   ]
  },
  {
   "cell_type": "code",
   "execution_count": 13,
   "id": "f070f343-ddce-437c-beff-f5ff4b884a7c",
   "metadata": {},
   "outputs": [],
   "source": [
    "data_mod = data_mod.drop(columns=['Agency'],axis=1)"
   ]
  },
  {
   "cell_type": "code",
   "execution_count": 14,
   "id": "9c667c7d-e77f-42ea-a05d-4b0bdf950a74",
   "metadata": {},
   "outputs": [
    {
     "data": {
      "text/plain": [
       "array(['New York City Police Department', 'NYPD'], dtype=object)"
      ]
     },
     "execution_count": 14,
     "metadata": {},
     "output_type": "execute_result"
    }
   ],
   "source": [
    "pd.unique(data['Agency Name'])"
   ]
  },
  {
   "cell_type": "code",
   "execution_count": 15,
   "id": "8d41101c-01bd-458b-aa61-e69d0376c3fe",
   "metadata": {},
   "outputs": [
    {
     "data": {
      "text/plain": [
       "New York City Police Department    170311\n",
       "NYPD                                    1\n",
       "Name: Agency Name, dtype: int64"
      ]
     },
     "execution_count": 15,
     "metadata": {},
     "output_type": "execute_result"
    }
   ],
   "source": [
    "data['Agency Name'].value_counts()"
   ]
  },
  {
   "cell_type": "code",
   "execution_count": 16,
   "id": "9f78176c-b8c7-479b-a552-f7b4f9f3274d",
   "metadata": {},
   "outputs": [
    {
     "data": {
      "text/plain": [
       "Blocked Driveway           46619\n",
       "Illegal Parking            44435\n",
       "Noise - Street/Sidewalk    24713\n",
       "Noise - Commercial         19715\n",
       "Derelict Vehicle           10095\n",
       "Name: Complaint Type, dtype: int64"
      ]
     },
     "execution_count": 16,
     "metadata": {},
     "output_type": "execute_result"
    }
   ],
   "source": [
    "data['Complaint Type'].value_counts().head(5)"
   ]
  },
  {
   "cell_type": "code",
   "execution_count": 17,
   "id": "3b50f3b7-9b8b-4d6f-bc2a-b8448fb84d38",
   "metadata": {},
   "outputs": [
    {
     "data": {
      "text/plain": [
       "No Access                        34802\n",
       "Loud Music/Party                 32156\n",
       "Posted Parking Sign Violation    13388\n",
       "Partial Access                   11817\n",
       "Loud Talking                     11270\n",
       "Name: Descriptor, dtype: int64"
      ]
     },
     "execution_count": 17,
     "metadata": {},
     "output_type": "execute_result"
    }
   ],
   "source": [
    "data.Descriptor.value_counts().head(5)"
   ]
  },
  {
   "cell_type": "code",
   "execution_count": 18,
   "id": "dcbae96e-94c2-415e-9e23-85fb7d807704",
   "metadata": {},
   "outputs": [
    {
     "data": {
      "text/plain": [
       "Street/Sidewalk               142205\n",
       "Store/Commercial               11201\n",
       "Club/Bar/Restaurant             9715\n",
       "Residential Building/House      3763\n",
       "Name: Location Type, dtype: int64"
      ]
     },
     "execution_count": 18,
     "metadata": {},
     "output_type": "execute_result"
    }
   ],
   "source": [
    "data['Location Type'].value_counts().head(4)"
   ]
  },
  {
   "cell_type": "code",
   "execution_count": 19,
   "id": "9d4c122a-d617-4b9a-ac05-c289bf12254f",
   "metadata": {},
   "outputs": [
    {
     "data": {
      "text/plain": [
       "11385.0    2948\n",
       "11368.0    2607\n",
       "11211.0    2404\n",
       "11234.0    2388\n",
       "Name: Incident Zip, dtype: int64"
      ]
     },
     "execution_count": 19,
     "metadata": {},
     "output_type": "execute_result"
    }
   ],
   "source": [
    "data['Incident Zip'].value_counts().head(4)"
   ]
  },
  {
   "cell_type": "code",
   "execution_count": 20,
   "id": "035dbaa3-76b9-4719-80f2-6568dbbc643c",
   "metadata": {},
   "outputs": [
    {
     "data": {
      "text/plain": [
       "1207 BEACH AVENUE          558\n",
       "78-15 PARSONS BOULEVARD    430\n",
       "89 MOORE STREET            326\n",
       "177 LAREDO AVENUE          299\n",
       "Name: Incident Address, dtype: int64"
      ]
     },
     "execution_count": 20,
     "metadata": {},
     "output_type": "execute_result"
    }
   ],
   "source": [
    "data['Incident Address'].value_counts().head(4)"
   ]
  },
  {
   "cell_type": "code",
   "execution_count": 21,
   "id": "c62568fa-5fbe-414d-bf40-2447b352661e",
   "metadata": {},
   "outputs": [
    {
     "data": {
      "text/plain": [
       "BROADWAY             1657\n",
       "SHERMAN AVENUE        754\n",
       "BEACH AVENUE          672\n",
       "7 AVENUE              534\n",
       "PARSONS BOULEVARD     534\n",
       "Name: Street Name, dtype: int64"
      ]
     },
     "execution_count": 21,
     "metadata": {},
     "output_type": "execute_result"
    }
   ],
   "source": [
    "data['Street Name'].value_counts().head(5)"
   ]
  },
  {
   "cell_type": "code",
   "execution_count": 22,
   "id": "1f7a921f-be84-4515-bfb8-b018e1a22fa4",
   "metadata": {},
   "outputs": [
    {
     "data": {
      "text/plain": [
       "BEND        2385\n",
       "BROADWAY    2176\n",
       "5 AVENUE    1763\n",
       "3 AVENUE    1691\n",
       "Name: Cross Street 1, dtype: int64"
      ]
     },
     "execution_count": 22,
     "metadata": {},
     "output_type": "execute_result"
    }
   ],
   "source": [
    "data['Cross Street 1'].value_counts().head(4)"
   ]
  },
  {
   "cell_type": "code",
   "execution_count": 23,
   "id": "8522e2b9-6ee8-4a66-b511-aee4d0bc9f24",
   "metadata": {},
   "outputs": [
    {
     "data": {
      "text/plain": [
       "BEND        2330\n",
       "BROADWAY    2100\n",
       "8 AVENUE    1521\n",
       "7 AVENUE    1294\n",
       "Name: Cross Street 2, dtype: int64"
      ]
     },
     "execution_count": 23,
     "metadata": {},
     "output_type": "execute_result"
    }
   ],
   "source": [
    "data['Cross Street 2'].value_counts().head(4)"
   ]
  },
  {
   "cell_type": "code",
   "execution_count": 24,
   "id": "0962acd3-fcfc-4f62-9cf5-258bbf515692",
   "metadata": {},
   "outputs": [
    {
     "data": {
      "text/plain": [
       "BROADWAY     390\n",
       "78 AVENUE    179\n",
       "44 STREET    165\n",
       "85 STREET    123\n",
       "Name: Intersection Street 1, dtype: int64"
      ]
     },
     "execution_count": 24,
     "metadata": {},
     "output_type": "execute_result"
    }
   ],
   "source": [
    "data['Intersection Street 1'].value_counts().head(4)"
   ]
  },
  {
   "cell_type": "code",
   "execution_count": 25,
   "id": "d04f8e12-ed4e-4e21-8078-7d4bb07173a7",
   "metadata": {},
   "outputs": [
    {
     "data": {
      "text/plain": [
       "BROADWAY    783\n",
       "6 AVENUE    369\n",
       "2 AVENUE    352\n",
       "1 AVENUE    309\n",
       "Name: Intersection Street 2, dtype: int64"
      ]
     },
     "execution_count": 25,
     "metadata": {},
     "output_type": "execute_result"
    }
   ],
   "source": [
    "data['Intersection Street 2'].value_counts().head(4)"
   ]
  },
  {
   "cell_type": "code",
   "execution_count": 26,
   "id": "5ef6e3d3-c025-4cf6-b29a-16cd606d6012",
   "metadata": {},
   "outputs": [
    {
     "data": {
      "text/plain": [
       "ADDRESS         137084\n",
       "INTERSECTION     23167\n",
       "BLOCKFACE         6584\n",
       "LATLONG           1902\n",
       "Name: Address Type, dtype: int64"
      ]
     },
     "execution_count": 26,
     "metadata": {},
     "output_type": "execute_result"
    }
   ],
   "source": [
    "data['Address Type'].value_counts().head(4)"
   ]
  },
  {
   "cell_type": "code",
   "execution_count": null,
   "id": "6925c170-69a3-44f1-8245-0b7946d32df0",
   "metadata": {},
   "outputs": [],
   "source": []
  },
  {
   "cell_type": "code",
   "execution_count": null,
   "id": "c84d7c4d-bdf9-4675-aeee-3f55f2f8a5a0",
   "metadata": {},
   "outputs": [],
   "source": []
  },
  {
   "cell_type": "code",
   "execution_count": 27,
   "id": "64d6138d-b923-45a0-85ff-49f2e9d1460c",
   "metadata": {},
   "outputs": [
    {
     "data": {
      "text/plain": [
       "BROOKLYN         56380\n",
       "NEW YORK         36195\n",
       "BRONX            22681\n",
       "STATEN ISLAND     7447\n",
       "Name: City, dtype: int64"
      ]
     },
     "execution_count": 27,
     "metadata": {},
     "output_type": "execute_result"
    }
   ],
   "source": [
    "data['City'].value_counts().head(4)"
   ]
  },
  {
   "cell_type": "code",
   "execution_count": 28,
   "id": "5ca1a8ad-fa17-481a-bebe-446d65bd5707",
   "metadata": {},
   "outputs": [
    {
     "data": {
      "text/plain": [
       "CENTRAL PARK              33\n",
       "PROSPECT PARK             13\n",
       "J F K AIRPORT             11\n",
       "WASHINGTON SQUARE PARK     8\n",
       "UNION SQUARE PARK          7\n",
       "Name: Landmark, dtype: int64"
      ]
     },
     "execution_count": 28,
     "metadata": {},
     "output_type": "execute_result"
    }
   ],
   "source": [
    "data.Landmark.value_counts().head(5)"
   ]
  },
  {
   "cell_type": "code",
   "execution_count": 29,
   "id": "69d6ee27-cf13-4df4-a5f9-13d9b61c935b",
   "metadata": {},
   "outputs": [
    {
     "data": {
      "text/plain": [
       "Precinct    169276\n",
       "Name: Facility Type, dtype: int64"
      ]
     },
     "execution_count": 29,
     "metadata": {},
     "output_type": "execute_result"
    }
   ],
   "source": [
    "data['Facility Type'].value_counts()"
   ]
  },
  {
   "cell_type": "code",
   "execution_count": 30,
   "id": "fdb5af88-ab18-46fa-8a26-2e43cfae4f61",
   "metadata": {},
   "outputs": [
    {
     "data": {
      "text/plain": [
       "Closed      169273\n",
       "Open           716\n",
       "Assigned       322\n",
       "Draft            1\n",
       "Name: Status, dtype: int64"
      ]
     },
     "execution_count": 30,
     "metadata": {},
     "output_type": "execute_result"
    }
   ],
   "source": [
    "data.Status.value_counts()"
   ]
  },
  {
   "cell_type": "code",
   "execution_count": 31,
   "id": "823e62a6-a602-4a67-bab3-564bbac34d21",
   "metadata": {},
   "outputs": [
    {
     "data": {
      "text/plain": [
       "12/24/2015 02:33:50 AM    3\n",
       "08/08/2015 01:07:42 AM    3\n",
       "08/09/2015 06:16:46 AM    3\n",
       "09/11/2015 05:19:51 AM    3\n",
       "Name: Due Date, dtype: int64"
      ]
     },
     "execution_count": 31,
     "metadata": {},
     "output_type": "execute_result"
    }
   ],
   "source": [
    "data['Due Date'].value_counts().head(4)"
   ]
  },
  {
   "cell_type": "code",
   "execution_count": 32,
   "id": "ff8b2661-3dad-43f1-9c17-574353574878",
   "metadata": {},
   "outputs": [
    {
     "data": {
      "text/plain": [
       "The Police Department responded to the complaint and with the information available observed no evidence of the violation at that time.    51386\n",
       "The Police Department responded and upon arrival those responsible for the condition were gone.                                            33867\n",
       "The Police Department responded to the complaint and took action to fix the condition.                                                     33439\n",
       "The Police Department responded to the complaint and determined that police action was not necessary.                                      21163\n",
       "Name: Resolution Description, dtype: int64"
      ]
     },
     "execution_count": 32,
     "metadata": {},
     "output_type": "execute_result"
    }
   ],
   "source": [
    "data['Resolution Description'].value_counts().head(4)"
   ]
  },
  {
   "cell_type": "code",
   "execution_count": 33,
   "id": "8009eafb-5950-47a8-82a3-5132cccd47db",
   "metadata": {},
   "outputs": [
    {
     "data": {
      "text/plain": [
       "Unspecified    170311\n",
       "Name: School Name, dtype: int64"
      ]
     },
     "execution_count": 33,
     "metadata": {},
     "output_type": "execute_result"
    }
   ],
   "source": [
    "data['School Name'].value_counts()"
   ]
  },
  {
   "cell_type": "code",
   "execution_count": 34,
   "id": "a957bd17-ab9c-4cd0-8fda-abb12525fc68",
   "metadata": {},
   "outputs": [
    {
     "data": {
      "text/plain": [
       "Unspecified    170311\n",
       "Name: School Number, dtype: int64"
      ]
     },
     "execution_count": 34,
     "metadata": {},
     "output_type": "execute_result"
    }
   ],
   "source": [
    "data['School Number'].value_counts()"
   ]
  },
  {
   "cell_type": "code",
   "execution_count": 35,
   "id": "47bcc4ad-234f-4062-aff1-557e77632a8b",
   "metadata": {},
   "outputs": [
    {
     "data": {
      "text/plain": [
       "Unspecified    170311\n",
       "Name: School Region, dtype: int64"
      ]
     },
     "execution_count": 35,
     "metadata": {},
     "output_type": "execute_result"
    }
   ],
   "source": [
    "data['School Region'].value_counts()"
   ]
  },
  {
   "cell_type": "code",
   "execution_count": 36,
   "id": "a24876a4-6d12-4be8-beff-59605c17e351",
   "metadata": {},
   "outputs": [
    {
     "data": {
      "text/plain": [
       "N    170311\n",
       "Name: School Not Found, dtype: int64"
      ]
     },
     "execution_count": 36,
     "metadata": {},
     "output_type": "execute_result"
    }
   ],
   "source": [
    "data['School Not Found'].value_counts()"
   ]
  },
  {
   "cell_type": "code",
   "execution_count": 37,
   "id": "cde3a27c-2ffb-4fbf-80c7-798b74dc3d78",
   "metadata": {},
   "outputs": [
    {
     "data": {
      "text/plain": [
       "Unspecified    170311\n",
       "Name: School Code, dtype: int64"
      ]
     },
     "execution_count": 37,
     "metadata": {},
     "output_type": "execute_result"
    }
   ],
   "source": [
    "data['School Code'].value_counts()"
   ]
  },
  {
   "cell_type": "code",
   "execution_count": 38,
   "id": "29267b44-aac3-4516-8121-b4755d2828e0",
   "metadata": {},
   "outputs": [
    {
     "data": {
      "text/plain": [
       "Unspecified    170311\n",
       "Name: School Phone Number, dtype: int64"
      ]
     },
     "execution_count": 38,
     "metadata": {},
     "output_type": "execute_result"
    }
   ],
   "source": [
    "data['School Phone Number'].value_counts()"
   ]
  },
  {
   "cell_type": "code",
   "execution_count": 39,
   "id": "afe9619d-b032-4b72-8dc7-eeb6d5770885",
   "metadata": {},
   "outputs": [
    {
     "data": {
      "text/plain": [
       "Unspecified    170311\n",
       "Name: School Address, dtype: int64"
      ]
     },
     "execution_count": 39,
     "metadata": {},
     "output_type": "execute_result"
    }
   ],
   "source": [
    "data['School Address'].value_counts()"
   ]
  },
  {
   "cell_type": "code",
   "execution_count": 40,
   "id": "896e6c2e-e8eb-4a58-aab3-e7293bb179f6",
   "metadata": {},
   "outputs": [
    {
     "data": {
      "text/plain": [
       "Unspecified    170311\n",
       "Name: School City, dtype: int64"
      ]
     },
     "execution_count": 40,
     "metadata": {},
     "output_type": "execute_result"
    }
   ],
   "source": [
    "data['School City'].value_counts()"
   ]
  },
  {
   "cell_type": "code",
   "execution_count": 41,
   "id": "6c32779f-d192-45b3-ba80-7de168dc66ae",
   "metadata": {},
   "outputs": [
    {
     "data": {
      "text/plain": [
       "Unspecified    170311\n",
       "Name: School State, dtype: int64"
      ]
     },
     "execution_count": 41,
     "metadata": {},
     "output_type": "execute_result"
    }
   ],
   "source": [
    "data['School State'].value_counts()"
   ]
  },
  {
   "cell_type": "code",
   "execution_count": 42,
   "id": "96ec059b-192d-45e6-bf74-4b43341ce012",
   "metadata": {},
   "outputs": [
    {
     "data": {
      "text/plain": [
       "Unspecified    170311\n",
       "Name: School Zip, dtype: int64"
      ]
     },
     "execution_count": 42,
     "metadata": {},
     "output_type": "execute_result"
    }
   ],
   "source": [
    "data['School Zip'].value_counts()"
   ]
  },
  {
   "cell_type": "code",
   "execution_count": 43,
   "id": "dbe6c09d-aa3d-49f8-8826-2fc31a28c903",
   "metadata": {},
   "outputs": [
    {
     "data": {
      "text/plain": [
       "N    170311\n",
       "Name: School Not Found, dtype: int64"
      ]
     },
     "execution_count": 43,
     "metadata": {},
     "output_type": "execute_result"
    }
   ],
   "source": [
    "data['School Not Found'].value_counts()"
   ]
  },
  {
   "cell_type": "code",
   "execution_count": 44,
   "id": "ad3bfd20-0e6c-4f3f-91b3-d42ccd2bbf78",
   "metadata": {},
   "outputs": [
    {
     "data": {
      "text/plain": [
       "Series([], Name: School or Citywide Complaint, dtype: int64)"
      ]
     },
     "execution_count": 44,
     "metadata": {},
     "output_type": "execute_result"
    }
   ],
   "source": [
    "data['School or Citywide Complaint'].value_counts()"
   ]
  },
  {
   "cell_type": "code",
   "execution_count": 45,
   "id": "da1b9b03-b3d4-44c0-afbd-90382e5fefd2",
   "metadata": {},
   "outputs": [
    {
     "data": {
      "text/plain": [
       "Index(['Unique Key', 'Created Date', 'Closed Date', 'Agency', 'Agency Name',\n",
       "       'Complaint Type', 'Descriptor', 'Location Type', 'Incident Zip',\n",
       "       'Incident Address', 'Street Name', 'Cross Street 1', 'Cross Street 2',\n",
       "       'Intersection Street 1', 'Intersection Street 2', 'Address Type',\n",
       "       'City', 'Landmark', 'Facility Type', 'Status', 'Due Date',\n",
       "       'Resolution Description', 'Resolution Action Updated Date',\n",
       "       'Community Board', 'Borough', 'X Coordinate (State Plane)',\n",
       "       'Y Coordinate (State Plane)', 'Park Facility Name', 'Park Borough',\n",
       "       'School Name', 'School Number', 'School Region', 'School Code',\n",
       "       'School Phone Number', 'School Address', 'School City', 'School State',\n",
       "       'School Zip', 'School Not Found', 'School or Citywide Complaint',\n",
       "       'Vehicle Type', 'Taxi Company Borough', 'Taxi Pick Up Location',\n",
       "       'Bridge Highway Name', 'Bridge Highway Direction', 'Road Ramp',\n",
       "       'Bridge Highway Segment', 'Garage Lot Name', 'Ferry Direction',\n",
       "       'Ferry Terminal Name', 'Latitude', 'Longitude', 'Location'],\n",
       "      dtype='object')"
      ]
     },
     "execution_count": 45,
     "metadata": {},
     "output_type": "execute_result"
    }
   ],
   "source": [
    "data.columns"
   ]
  },
  {
   "cell_type": "code",
   "execution_count": 46,
   "id": "85eed8d9-2d10-4545-9756-7c24c33e7843",
   "metadata": {},
   "outputs": [],
   "source": [
    "data_mod = data_mod.drop(columns=['School Name', 'School Number', 'School Region', 'School Code',\n",
    "                              'School Phone Number', 'School Address', 'School City', 'School State',\n",
    "                                 'School Zip', 'School Not Found', 'School or Citywide Complaint'],axis=1)"
   ]
  },
  {
   "cell_type": "code",
   "execution_count": 47,
   "id": "5136334f-302e-4ae3-81af-2647003e572d",
   "metadata": {},
   "outputs": [
    {
     "data": {
      "text/plain": [
       "Index(['Created Date', 'Closed Date', 'Agency Name', 'Complaint Type',\n",
       "       'Descriptor', 'Location Type', 'Incident Zip', 'Incident Address',\n",
       "       'Street Name', 'Cross Street 1', 'Cross Street 2',\n",
       "       'Intersection Street 1', 'Intersection Street 2', 'Address Type',\n",
       "       'City', 'Landmark', 'Facility Type', 'Status', 'Due Date',\n",
       "       'Resolution Description', 'Resolution Action Updated Date',\n",
       "       'Community Board', 'Borough', 'X Coordinate (State Plane)',\n",
       "       'Y Coordinate (State Plane)', 'Park Facility Name', 'Park Borough',\n",
       "       'Vehicle Type', 'Taxi Company Borough', 'Taxi Pick Up Location',\n",
       "       'Bridge Highway Name', 'Bridge Highway Direction', 'Road Ramp',\n",
       "       'Bridge Highway Segment', 'Garage Lot Name', 'Ferry Direction',\n",
       "       'Ferry Terminal Name', 'Latitude', 'Longitude', 'Location'],\n",
       "      dtype='object')"
      ]
     },
     "execution_count": 47,
     "metadata": {},
     "output_type": "execute_result"
    }
   ],
   "source": [
    "data_mod.columns"
   ]
  },
  {
   "cell_type": "code",
   "execution_count": 48,
   "id": "4d1afb90-c011-4e59-ac18-8fd2765cf88c",
   "metadata": {},
   "outputs": [
    {
     "data": {
      "text/plain": [
       "Series([], Name: Vehicle Type, dtype: int64)"
      ]
     },
     "execution_count": 48,
     "metadata": {},
     "output_type": "execute_result"
    }
   ],
   "source": [
    "data['Vehicle Type'].value_counts()"
   ]
  },
  {
   "cell_type": "code",
   "execution_count": 49,
   "id": "b75eeb8e-8493-42c2-a2e5-c28cc2b16d70",
   "metadata": {},
   "outputs": [
    {
     "data": {
      "text/plain": [
       "Series([], Name: Taxi Company Borough, dtype: int64)"
      ]
     },
     "execution_count": 49,
     "metadata": {},
     "output_type": "execute_result"
    }
   ],
   "source": [
    "data['Taxi Company Borough'].value_counts()"
   ]
  },
  {
   "cell_type": "code",
   "execution_count": 50,
   "id": "8f1213f3-31ee-4539-839e-374a803d3727",
   "metadata": {},
   "outputs": [
    {
     "data": {
      "text/plain": [
       "Series([], Name: Taxi Pick Up Location, dtype: int64)"
      ]
     },
     "execution_count": 50,
     "metadata": {},
     "output_type": "execute_result"
    }
   ],
   "source": [
    "data['Taxi Pick Up Location'].value_counts()"
   ]
  },
  {
   "cell_type": "code",
   "execution_count": 51,
   "id": "5600d41a-ef97-4a96-b5ae-b4fad016afdc",
   "metadata": {},
   "outputs": [],
   "source": [
    "data_mod = data_mod.drop(columns=['Vehicle Type','Taxi Company Borough','Taxi Pick Up Location'],axis=1)"
   ]
  },
  {
   "cell_type": "code",
   "execution_count": 52,
   "id": "a4078d3d-14ba-479d-afe3-421277e37935",
   "metadata": {},
   "outputs": [
    {
     "data": {
      "text/plain": [
       "Index(['Created Date', 'Closed Date', 'Agency Name', 'Complaint Type',\n",
       "       'Descriptor', 'Location Type', 'Incident Zip', 'Incident Address',\n",
       "       'Street Name', 'Cross Street 1', 'Cross Street 2',\n",
       "       'Intersection Street 1', 'Intersection Street 2', 'Address Type',\n",
       "       'City', 'Landmark', 'Facility Type', 'Status', 'Due Date',\n",
       "       'Resolution Description', 'Resolution Action Updated Date',\n",
       "       'Community Board', 'Borough', 'X Coordinate (State Plane)',\n",
       "       'Y Coordinate (State Plane)', 'Park Facility Name', 'Park Borough',\n",
       "       'Bridge Highway Name', 'Bridge Highway Direction', 'Road Ramp',\n",
       "       'Bridge Highway Segment', 'Garage Lot Name', 'Ferry Direction',\n",
       "       'Ferry Terminal Name', 'Latitude', 'Longitude', 'Location'],\n",
       "      dtype='object')"
      ]
     },
     "execution_count": 52,
     "metadata": {},
     "output_type": "execute_result"
    }
   ],
   "source": [
    "data_mod.columns"
   ]
  },
  {
   "cell_type": "code",
   "execution_count": 53,
   "id": "16101932-20cd-4e60-913d-6c3ca9f7e069",
   "metadata": {},
   "outputs": [
    {
     "data": {
      "text/plain": [
       "FDR Dr                 26\n",
       "Staten Island Expwy    19\n",
       "BQE/Gowanus Expwy      16\n",
       "Belt Pkwy              14\n",
       "Cross Bronx Expwy      11\n",
       "Name: Bridge Highway Name, dtype: int64"
      ]
     },
     "execution_count": 53,
     "metadata": {},
     "output_type": "execute_result"
    }
   ],
   "source": [
    "data['Bridge Highway Name'].value_counts().head(5)"
   ]
  },
  {
   "cell_type": "code",
   "execution_count": 54,
   "id": "d6dec2ea-ebfe-4fdd-a755-2e6129d2c4b5",
   "metadata": {},
   "outputs": [
    {
     "data": {
      "text/plain": [
       "Northbound/Uptown      15\n",
       "East/Queens Bound      13\n",
       "East/Brooklyn Bound    13\n",
       "Southbound/Downtown    11\n",
       "Name: Bridge Highway Direction, dtype: int64"
      ]
     },
     "execution_count": 54,
     "metadata": {},
     "output_type": "execute_result"
    }
   ],
   "source": [
    "data['Bridge Highway Direction'].value_counts().head(4)"
   ]
  },
  {
   "cell_type": "code",
   "execution_count": 55,
   "id": "fa2a211b-fa76-46f5-a433-b5961b67c15b",
   "metadata": {},
   "outputs": [
    {
     "data": {
      "text/plain": [
       "Roadway    106\n",
       "Ramp        28\n",
       "Name: Road Ramp, dtype: int64"
      ]
     },
     "execution_count": 55,
     "metadata": {},
     "output_type": "execute_result"
    }
   ],
   "source": [
    "data['Road Ramp'].value_counts()"
   ]
  },
  {
   "cell_type": "code",
   "execution_count": 56,
   "id": "09bd01fd-d81b-40c5-b395-54f889e8a996",
   "metadata": {},
   "outputs": [
    {
     "data": {
      "text/plain": [
       "East 42nd St (Exit 9) - East 61st St / East 63rd St (Exit 12)               3\n",
       "East 61st St / East 63rd St (Exit 12) - East 96th St (Exit 14)              3\n",
       "East 96th St (Exit 14) - Triborough Br (Exit 17)                            3\n",
       "BEGIN Staten Island Expwy (Exit 15N) - Lily Pond Ave/Bay St (Exit 15S)      3\n",
       "Brooklyn-Queens Expwy(I-278) (Exit 25) - Brooklyn-Battery Tunnel (I-478)    2\n",
       "BEGIN Staten Island Expwy - Forest Ave (Exit 4)                             2\n",
       "Name: Bridge Highway Segment, dtype: int64"
      ]
     },
     "execution_count": 56,
     "metadata": {},
     "output_type": "execute_result"
    }
   ],
   "source": [
    "data['Bridge Highway Segment'].value_counts().head(6)"
   ]
  },
  {
   "cell_type": "code",
   "execution_count": 57,
   "id": "4ef2b6d4-6bd6-41b3-a6c0-67946ff7ac52",
   "metadata": {},
   "outputs": [
    {
     "data": {
      "text/plain": [
       "Series([], Name: Garage Lot Name, dtype: int64)"
      ]
     },
     "execution_count": 57,
     "metadata": {},
     "output_type": "execute_result"
    }
   ],
   "source": [
    "data['Garage Lot Name'].value_counts()"
   ]
  },
  {
   "cell_type": "code",
   "execution_count": 58,
   "id": "4432f5b0-3ce3-4e5b-bc45-081687bc1baf",
   "metadata": {},
   "outputs": [
    {
     "data": {
      "text/plain": [
       "Series([], Name: Ferry Direction, dtype: int64)"
      ]
     },
     "execution_count": 58,
     "metadata": {},
     "output_type": "execute_result"
    }
   ],
   "source": [
    "data['Ferry Direction'].value_counts()"
   ]
  },
  {
   "cell_type": "code",
   "execution_count": 59,
   "id": "bbb35e21-aec3-4e7d-888b-6c4e77f0af89",
   "metadata": {},
   "outputs": [
    {
     "data": {
      "text/plain": [
       "St. George Terminal (Staten Island)    1\n",
       "Name: Ferry Terminal Name, dtype: int64"
      ]
     },
     "execution_count": 59,
     "metadata": {},
     "output_type": "execute_result"
    }
   ],
   "source": [
    "data['Ferry Terminal Name'].value_counts()"
   ]
  },
  {
   "cell_type": "code",
   "execution_count": 60,
   "id": "a2377831-53fd-4c4e-b59a-524d299500ba",
   "metadata": {},
   "outputs": [],
   "source": [
    "data_mod = data_mod.drop(columns=['Garage Lot Name','Ferry Direction','Ferry Terminal Name'],axis=1)"
   ]
  },
  {
   "cell_type": "code",
   "execution_count": 61,
   "id": "9e910c1f-9f03-456e-8253-0321d1142089",
   "metadata": {},
   "outputs": [
    {
     "data": {
      "text/plain": [
       "Index(['Created Date', 'Closed Date', 'Agency Name', 'Complaint Type',\n",
       "       'Descriptor', 'Location Type', 'Incident Zip', 'Incident Address',\n",
       "       'Street Name', 'Cross Street 1', 'Cross Street 2',\n",
       "       'Intersection Street 1', 'Intersection Street 2', 'Address Type',\n",
       "       'City', 'Landmark', 'Facility Type', 'Status', 'Due Date',\n",
       "       'Resolution Description', 'Resolution Action Updated Date',\n",
       "       'Community Board', 'Borough', 'X Coordinate (State Plane)',\n",
       "       'Y Coordinate (State Plane)', 'Park Facility Name', 'Park Borough',\n",
       "       'Bridge Highway Name', 'Bridge Highway Direction', 'Road Ramp',\n",
       "       'Bridge Highway Segment', 'Latitude', 'Longitude', 'Location'],\n",
       "      dtype='object')"
      ]
     },
     "execution_count": 61,
     "metadata": {},
     "output_type": "execute_result"
    }
   ],
   "source": [
    "data_mod.columns"
   ]
  },
  {
   "cell_type": "code",
   "execution_count": 62,
   "id": "cb847ac6-33cf-4143-8e08-e39c21132702",
   "metadata": {},
   "outputs": [
    {
     "data": {
      "text/plain": [
       "40.830362    558\n",
       "40.721959    430\n",
       "40.703819    322\n",
       "40.549094    300\n",
       "40.679294    218\n",
       "Name: Latitude, dtype: int64"
      ]
     },
     "execution_count": 62,
     "metadata": {},
     "output_type": "execute_result"
    }
   ],
   "source": [
    "data['Latitude'].value_counts().head(5)"
   ]
  },
  {
   "cell_type": "code",
   "execution_count": 63,
   "id": "ab43afa8-08d4-4b0d-8597-c0f802c2fc48",
   "metadata": {},
   "outputs": [
    {
     "data": {
      "text/plain": [
       "-73.866022    558\n",
       "-73.809697    430\n",
       "-73.942073    326\n",
       "-74.173633    300\n",
       "-73.983780    218\n",
       "Name: Longitude, dtype: int64"
      ]
     },
     "execution_count": 63,
     "metadata": {},
     "output_type": "execute_result"
    }
   ],
   "source": [
    "data['Longitude'].value_counts().head(5)"
   ]
  },
  {
   "cell_type": "code",
   "execution_count": 64,
   "id": "71b8fdd2-d4b0-4055-9503-f76d18abbfa0",
   "metadata": {},
   "outputs": [
    {
     "data": {
      "text/html": [
       "<div>\n",
       "<style scoped>\n",
       "    .dataframe tbody tr th:only-of-type {\n",
       "        vertical-align: middle;\n",
       "    }\n",
       "\n",
       "    .dataframe tbody tr th {\n",
       "        vertical-align: top;\n",
       "    }\n",
       "\n",
       "    .dataframe thead th {\n",
       "        text-align: right;\n",
       "    }\n",
       "</style>\n",
       "<table border=\"1\" class=\"dataframe\">\n",
       "  <thead>\n",
       "    <tr style=\"text-align: right;\">\n",
       "      <th></th>\n",
       "      <th>Created Date</th>\n",
       "      <th>Closed Date</th>\n",
       "      <th>Agency Name</th>\n",
       "      <th>Complaint Type</th>\n",
       "      <th>Descriptor</th>\n",
       "      <th>Location Type</th>\n",
       "      <th>Incident Zip</th>\n",
       "      <th>Incident Address</th>\n",
       "      <th>Street Name</th>\n",
       "      <th>Cross Street 1</th>\n",
       "      <th>Cross Street 2</th>\n",
       "      <th>Intersection Street 1</th>\n",
       "      <th>Intersection Street 2</th>\n",
       "      <th>Address Type</th>\n",
       "      <th>City</th>\n",
       "      <th>Landmark</th>\n",
       "      <th>Facility Type</th>\n",
       "      <th>Status</th>\n",
       "      <th>Due Date</th>\n",
       "      <th>Resolution Description</th>\n",
       "      <th>Resolution Action Updated Date</th>\n",
       "      <th>Community Board</th>\n",
       "      <th>Borough</th>\n",
       "      <th>X Coordinate (State Plane)</th>\n",
       "      <th>Y Coordinate (State Plane)</th>\n",
       "      <th>Park Facility Name</th>\n",
       "      <th>Park Borough</th>\n",
       "      <th>Bridge Highway Name</th>\n",
       "      <th>Bridge Highway Direction</th>\n",
       "      <th>Road Ramp</th>\n",
       "      <th>Bridge Highway Segment</th>\n",
       "      <th>Latitude</th>\n",
       "      <th>Longitude</th>\n",
       "      <th>Location</th>\n",
       "    </tr>\n",
       "  </thead>\n",
       "  <tbody>\n",
       "    <tr>\n",
       "      <th>129720</th>\n",
       "      <td>08/31/2015 05:12:45 PM</td>\n",
       "      <td>08/31/2015 08:33:42 PM</td>\n",
       "      <td>New York City Police Department</td>\n",
       "      <td>Derelict Vehicle</td>\n",
       "      <td>With License Plate</td>\n",
       "      <td>Street/Sidewalk</td>\n",
       "      <td>11355.0</td>\n",
       "      <td>46-31 157 STREET</td>\n",
       "      <td>157 STREET</td>\n",
       "      <td>46 AVENUE</td>\n",
       "      <td>LABURNUM AVENUE</td>\n",
       "      <td>NaN</td>\n",
       "      <td>NaN</td>\n",
       "      <td>ADDRESS</td>\n",
       "      <td>FLUSHING</td>\n",
       "      <td>NaN</td>\n",
       "      <td>Precinct</td>\n",
       "      <td>Closed</td>\n",
       "      <td>09/01/2015 01:12:45 AM</td>\n",
       "      <td>The Police Department responded to the complai...</td>\n",
       "      <td>08/31/2015 08:33:42 PM</td>\n",
       "      <td>07 QUEENS</td>\n",
       "      <td>QUEENS</td>\n",
       "      <td>1036991.0</td>\n",
       "      <td>213802.0</td>\n",
       "      <td>Unspecified</td>\n",
       "      <td>QUEENS</td>\n",
       "      <td>NaN</td>\n",
       "      <td>NaN</td>\n",
       "      <td>NaN</td>\n",
       "      <td>NaN</td>\n",
       "      <td>40.753356</td>\n",
       "      <td>-73.809640</td>\n",
       "      <td>(40.75335633474413, -73.80963961262695)</td>\n",
       "    </tr>\n",
       "    <tr>\n",
       "      <th>39793</th>\n",
       "      <td>11/21/2015 06:29:29 AM</td>\n",
       "      <td>11/21/2015 06:37:04 AM</td>\n",
       "      <td>New York City Police Department</td>\n",
       "      <td>Posting Advertisement</td>\n",
       "      <td>Vehicle</td>\n",
       "      <td>Street/Sidewalk</td>\n",
       "      <td>10312.0</td>\n",
       "      <td>545 ANNADALE ROAD</td>\n",
       "      <td>ANNADALE ROAD</td>\n",
       "      <td>WOLCOTT AVENUE</td>\n",
       "      <td>LAREDO AVENUE</td>\n",
       "      <td>NaN</td>\n",
       "      <td>NaN</td>\n",
       "      <td>ADDRESS</td>\n",
       "      <td>STATEN ISLAND</td>\n",
       "      <td>NaN</td>\n",
       "      <td>Precinct</td>\n",
       "      <td>Closed</td>\n",
       "      <td>11/21/2015 02:29:29 PM</td>\n",
       "      <td>The Police Department responded to the complai...</td>\n",
       "      <td>11/21/2015 06:37:04 AM</td>\n",
       "      <td>03 STATEN ISLAND</td>\n",
       "      <td>STATEN ISLAND</td>\n",
       "      <td>935699.0</td>\n",
       "      <td>139413.0</td>\n",
       "      <td>Unspecified</td>\n",
       "      <td>STATEN ISLAND</td>\n",
       "      <td>NaN</td>\n",
       "      <td>NaN</td>\n",
       "      <td>NaN</td>\n",
       "      <td>NaN</td>\n",
       "      <td>40.549199</td>\n",
       "      <td>-74.174702</td>\n",
       "      <td>(40.54919922420646, -74.17470179978285)</td>\n",
       "    </tr>\n",
       "    <tr>\n",
       "      <th>20223</th>\n",
       "      <td>12/11/2015 06:33:36 AM</td>\n",
       "      <td>12/11/2015 07:42:42 AM</td>\n",
       "      <td>New York City Police Department</td>\n",
       "      <td>Illegal Parking</td>\n",
       "      <td>Blocked Hydrant</td>\n",
       "      <td>Street/Sidewalk</td>\n",
       "      <td>11370.0</td>\n",
       "      <td>30-14 83 STREET</td>\n",
       "      <td>83 STREET</td>\n",
       "      <td>30 AVENUE</td>\n",
       "      <td>31 AVENUE</td>\n",
       "      <td>NaN</td>\n",
       "      <td>NaN</td>\n",
       "      <td>ADDRESS</td>\n",
       "      <td>EAST ELMHURST</td>\n",
       "      <td>NaN</td>\n",
       "      <td>Precinct</td>\n",
       "      <td>Closed</td>\n",
       "      <td>12/11/2015 02:33:36 PM</td>\n",
       "      <td>The Police Department issued a summons in resp...</td>\n",
       "      <td>12/11/2015 07:42:42 AM</td>\n",
       "      <td>03 QUEENS</td>\n",
       "      <td>QUEENS</td>\n",
       "      <td>1016001.0</td>\n",
       "      <td>216484.0</td>\n",
       "      <td>Unspecified</td>\n",
       "      <td>QUEENS</td>\n",
       "      <td>NaN</td>\n",
       "      <td>NaN</td>\n",
       "      <td>NaN</td>\n",
       "      <td>NaN</td>\n",
       "      <td>40.760818</td>\n",
       "      <td>-73.885387</td>\n",
       "      <td>(40.76081801960492, -73.88538695265666)</td>\n",
       "    </tr>\n",
       "    <tr>\n",
       "      <th>165462</th>\n",
       "      <td>07/30/2015 11:30:52 PM</td>\n",
       "      <td>07/31/2015 05:09:59 AM</td>\n",
       "      <td>New York City Police Department</td>\n",
       "      <td>Noise - Vehicle</td>\n",
       "      <td>Car/Truck Music</td>\n",
       "      <td>Street/Sidewalk</td>\n",
       "      <td>10467.0</td>\n",
       "      <td>215 EAST GUNHILL ROAD</td>\n",
       "      <td>EAST GUNHILL ROAD</td>\n",
       "      <td>WAYNE AVENUE</td>\n",
       "      <td>TRYON AVENUE</td>\n",
       "      <td>NaN</td>\n",
       "      <td>NaN</td>\n",
       "      <td>ADDRESS</td>\n",
       "      <td>BRONX</td>\n",
       "      <td>NaN</td>\n",
       "      <td>Precinct</td>\n",
       "      <td>Closed</td>\n",
       "      <td>07/31/2015 07:30:52 AM</td>\n",
       "      <td>The Police Department reviewed your complaint ...</td>\n",
       "      <td>07/31/2015 05:09:59 AM</td>\n",
       "      <td>07 BRONX</td>\n",
       "      <td>BRONX</td>\n",
       "      <td>1018232.0</td>\n",
       "      <td>260065.0</td>\n",
       "      <td>Unspecified</td>\n",
       "      <td>BRONX</td>\n",
       "      <td>NaN</td>\n",
       "      <td>NaN</td>\n",
       "      <td>NaN</td>\n",
       "      <td>NaN</td>\n",
       "      <td>40.880427</td>\n",
       "      <td>-73.877113</td>\n",
       "      <td>(40.88042713278525, -73.87711292596249)</td>\n",
       "    </tr>\n",
       "    <tr>\n",
       "      <th>79082</th>\n",
       "      <td>10/15/2015 09:38:43 AM</td>\n",
       "      <td>10/15/2015 01:37:51 PM</td>\n",
       "      <td>New York City Police Department</td>\n",
       "      <td>Blocked Driveway</td>\n",
       "      <td>No Access</td>\n",
       "      <td>Street/Sidewalk</td>\n",
       "      <td>10029.0</td>\n",
       "      <td>328 EAST 112 STREET</td>\n",
       "      <td>EAST 112 STREET</td>\n",
       "      <td>2 AVENUE</td>\n",
       "      <td>1 AVENUE</td>\n",
       "      <td>NaN</td>\n",
       "      <td>NaN</td>\n",
       "      <td>ADDRESS</td>\n",
       "      <td>NEW YORK</td>\n",
       "      <td>NaN</td>\n",
       "      <td>Precinct</td>\n",
       "      <td>Closed</td>\n",
       "      <td>10/15/2015 05:38:43 PM</td>\n",
       "      <td>This complaint does not fall under the Police ...</td>\n",
       "      <td>10/15/2015 01:37:51 PM</td>\n",
       "      <td>11 MANHATTAN</td>\n",
       "      <td>MANHATTAN</td>\n",
       "      <td>1001250.0</td>\n",
       "      <td>228569.0</td>\n",
       "      <td>Unspecified</td>\n",
       "      <td>MANHATTAN</td>\n",
       "      <td>NaN</td>\n",
       "      <td>NaN</td>\n",
       "      <td>NaN</td>\n",
       "      <td>NaN</td>\n",
       "      <td>40.794029</td>\n",
       "      <td>-73.938604</td>\n",
       "      <td>(40.794028821255395, -73.93860371628821)</td>\n",
       "    </tr>\n",
       "    <tr>\n",
       "      <th>129831</th>\n",
       "      <td>08/31/2015 02:13:23 PM</td>\n",
       "      <td>08/31/2015 03:40:22 PM</td>\n",
       "      <td>New York City Police Department</td>\n",
       "      <td>Illegal Parking</td>\n",
       "      <td>Posted Parking Sign Violation</td>\n",
       "      <td>Street/Sidewalk</td>\n",
       "      <td>11220.0</td>\n",
       "      <td>5501 7 AVENUE</td>\n",
       "      <td>7 AVENUE</td>\n",
       "      <td>55 STREET</td>\n",
       "      <td>56 STREET</td>\n",
       "      <td>NaN</td>\n",
       "      <td>NaN</td>\n",
       "      <td>ADDRESS</td>\n",
       "      <td>BROOKLYN</td>\n",
       "      <td>NaN</td>\n",
       "      <td>Precinct</td>\n",
       "      <td>Closed</td>\n",
       "      <td>08/31/2015 10:13:23 PM</td>\n",
       "      <td>The Police Department responded to the complai...</td>\n",
       "      <td>08/31/2015 03:40:22 PM</td>\n",
       "      <td>07 BROOKLYN</td>\n",
       "      <td>BROOKLYN</td>\n",
       "      <td>981779.0</td>\n",
       "      <td>172284.0</td>\n",
       "      <td>Unspecified</td>\n",
       "      <td>BROOKLYN</td>\n",
       "      <td>NaN</td>\n",
       "      <td>NaN</td>\n",
       "      <td>NaN</td>\n",
       "      <td>NaN</td>\n",
       "      <td>40.639556</td>\n",
       "      <td>-74.008903</td>\n",
       "      <td>(40.63955604202643, -74.0089034706777)</td>\n",
       "    </tr>\n",
       "    <tr>\n",
       "      <th>130700</th>\n",
       "      <td>08/30/2015 07:09:59 PM</td>\n",
       "      <td>08/30/2015 09:52:58 PM</td>\n",
       "      <td>New York City Police Department</td>\n",
       "      <td>Blocked Driveway</td>\n",
       "      <td>No Access</td>\n",
       "      <td>Street/Sidewalk</td>\n",
       "      <td>10466.0</td>\n",
       "      <td>944 EAST 226 STREET</td>\n",
       "      <td>EAST 226 STREET</td>\n",
       "      <td>BRONXWOOD AVENUE</td>\n",
       "      <td>PAULDING AVENUE</td>\n",
       "      <td>NaN</td>\n",
       "      <td>NaN</td>\n",
       "      <td>ADDRESS</td>\n",
       "      <td>BRONX</td>\n",
       "      <td>NaN</td>\n",
       "      <td>Precinct</td>\n",
       "      <td>Closed</td>\n",
       "      <td>08/31/2015 03:09:59 AM</td>\n",
       "      <td>The Police Department responded and upon arriv...</td>\n",
       "      <td>08/30/2015 09:52:58 PM</td>\n",
       "      <td>12 BRONX</td>\n",
       "      <td>BRONX</td>\n",
       "      <td>1024892.0</td>\n",
       "      <td>262199.0</td>\n",
       "      <td>Unspecified</td>\n",
       "      <td>BRONX</td>\n",
       "      <td>NaN</td>\n",
       "      <td>NaN</td>\n",
       "      <td>NaN</td>\n",
       "      <td>NaN</td>\n",
       "      <td>40.886256</td>\n",
       "      <td>-73.853016</td>\n",
       "      <td>(40.88625613145118, -73.85301585895992)</td>\n",
       "    </tr>\n",
       "    <tr>\n",
       "      <th>30879</th>\n",
       "      <td>11/30/2015 05:13:26 PM</td>\n",
       "      <td>11/30/2015 08:55:05 PM</td>\n",
       "      <td>New York City Police Department</td>\n",
       "      <td>Illegal Parking</td>\n",
       "      <td>Posted Parking Sign Violation</td>\n",
       "      <td>Street/Sidewalk</td>\n",
       "      <td>10458.0</td>\n",
       "      <td>355 EAST 187 STREET</td>\n",
       "      <td>EAST 187 STREET</td>\n",
       "      <td>ELM PLACE</td>\n",
       "      <td>MARION AVENUE</td>\n",
       "      <td>NaN</td>\n",
       "      <td>NaN</td>\n",
       "      <td>ADDRESS</td>\n",
       "      <td>BRONX</td>\n",
       "      <td>NaN</td>\n",
       "      <td>Precinct</td>\n",
       "      <td>Closed</td>\n",
       "      <td>12/01/2015 01:13:26 AM</td>\n",
       "      <td>The Police Department responded and upon arriv...</td>\n",
       "      <td>11/30/2015 08:55:05 PM</td>\n",
       "      <td>05 BRONX</td>\n",
       "      <td>BRONX</td>\n",
       "      <td>1013268.0</td>\n",
       "      <td>252468.0</td>\n",
       "      <td>Unspecified</td>\n",
       "      <td>BRONX</td>\n",
       "      <td>NaN</td>\n",
       "      <td>NaN</td>\n",
       "      <td>NaN</td>\n",
       "      <td>NaN</td>\n",
       "      <td>40.859593</td>\n",
       "      <td>-73.895097</td>\n",
       "      <td>(40.85959342197313, -73.89509682373193)</td>\n",
       "    </tr>\n",
       "    <tr>\n",
       "      <th>148967</th>\n",
       "      <td>08/14/2015 09:20:39 PM</td>\n",
       "      <td>08/14/2015 11:29:54 PM</td>\n",
       "      <td>New York City Police Department</td>\n",
       "      <td>Derelict Vehicle</td>\n",
       "      <td>With License Plate</td>\n",
       "      <td>Street/Sidewalk</td>\n",
       "      <td>11414.0</td>\n",
       "      <td>98-20 160 AVENUE</td>\n",
       "      <td>160 AVENUE</td>\n",
       "      <td>98 STREET</td>\n",
       "      <td>99 STREET</td>\n",
       "      <td>NaN</td>\n",
       "      <td>NaN</td>\n",
       "      <td>ADDRESS</td>\n",
       "      <td>HOWARD BEACH</td>\n",
       "      <td>NaN</td>\n",
       "      <td>Precinct</td>\n",
       "      <td>Closed</td>\n",
       "      <td>08/15/2015 05:20:39 AM</td>\n",
       "      <td>The Police Department reviewed your complaint ...</td>\n",
       "      <td>08/14/2015 11:29:54 PM</td>\n",
       "      <td>10 QUEENS</td>\n",
       "      <td>QUEENS</td>\n",
       "      <td>1030164.0</td>\n",
       "      <td>179120.0</td>\n",
       "      <td>Unspecified</td>\n",
       "      <td>QUEENS</td>\n",
       "      <td>NaN</td>\n",
       "      <td>NaN</td>\n",
       "      <td>NaN</td>\n",
       "      <td>NaN</td>\n",
       "      <td>40.658201</td>\n",
       "      <td>-73.834517</td>\n",
       "      <td>(40.65820068668282, -73.83451701807358)</td>\n",
       "    </tr>\n",
       "    <tr>\n",
       "      <th>85983</th>\n",
       "      <td>10/09/2015 12:11:57 AM</td>\n",
       "      <td>10/09/2015 04:26:46 AM</td>\n",
       "      <td>New York City Police Department</td>\n",
       "      <td>Noise - Commercial</td>\n",
       "      <td>Loud Music/Party</td>\n",
       "      <td>Store/Commercial</td>\n",
       "      <td>11106.0</td>\n",
       "      <td>33-08 BROADWAY</td>\n",
       "      <td>BROADWAY</td>\n",
       "      <td>33 STREET</td>\n",
       "      <td>34 STREET</td>\n",
       "      <td>NaN</td>\n",
       "      <td>NaN</td>\n",
       "      <td>ADDRESS</td>\n",
       "      <td>Astoria</td>\n",
       "      <td>NaN</td>\n",
       "      <td>Precinct</td>\n",
       "      <td>Closed</td>\n",
       "      <td>10/09/2015 08:11:57 AM</td>\n",
       "      <td>The Police Department responded and upon arriv...</td>\n",
       "      <td>10/09/2015 04:26:46 AM</td>\n",
       "      <td>01 QUEENS</td>\n",
       "      <td>QUEENS</td>\n",
       "      <td>1005407.0</td>\n",
       "      <td>216590.0</td>\n",
       "      <td>Unspecified</td>\n",
       "      <td>QUEENS</td>\n",
       "      <td>NaN</td>\n",
       "      <td>NaN</td>\n",
       "      <td>NaN</td>\n",
       "      <td>NaN</td>\n",
       "      <td>40.761141</td>\n",
       "      <td>-73.923628</td>\n",
       "      <td>(40.76114066082838, -73.92362824465074)</td>\n",
       "    </tr>\n",
       "  </tbody>\n",
       "</table>\n",
       "</div>"
      ],
      "text/plain": [
       "                  Created Date             Closed Date  \\\n",
       "129720  08/31/2015 05:12:45 PM  08/31/2015 08:33:42 PM   \n",
       "39793   11/21/2015 06:29:29 AM  11/21/2015 06:37:04 AM   \n",
       "20223   12/11/2015 06:33:36 AM  12/11/2015 07:42:42 AM   \n",
       "165462  07/30/2015 11:30:52 PM  07/31/2015 05:09:59 AM   \n",
       "79082   10/15/2015 09:38:43 AM  10/15/2015 01:37:51 PM   \n",
       "129831  08/31/2015 02:13:23 PM  08/31/2015 03:40:22 PM   \n",
       "130700  08/30/2015 07:09:59 PM  08/30/2015 09:52:58 PM   \n",
       "30879   11/30/2015 05:13:26 PM  11/30/2015 08:55:05 PM   \n",
       "148967  08/14/2015 09:20:39 PM  08/14/2015 11:29:54 PM   \n",
       "85983   10/09/2015 12:11:57 AM  10/09/2015 04:26:46 AM   \n",
       "\n",
       "                            Agency Name         Complaint Type  \\\n",
       "129720  New York City Police Department       Derelict Vehicle   \n",
       "39793   New York City Police Department  Posting Advertisement   \n",
       "20223   New York City Police Department        Illegal Parking   \n",
       "165462  New York City Police Department        Noise - Vehicle   \n",
       "79082   New York City Police Department       Blocked Driveway   \n",
       "129831  New York City Police Department        Illegal Parking   \n",
       "130700  New York City Police Department       Blocked Driveway   \n",
       "30879   New York City Police Department        Illegal Parking   \n",
       "148967  New York City Police Department       Derelict Vehicle   \n",
       "85983   New York City Police Department     Noise - Commercial   \n",
       "\n",
       "                           Descriptor     Location Type  Incident Zip  \\\n",
       "129720             With License Plate   Street/Sidewalk       11355.0   \n",
       "39793                         Vehicle   Street/Sidewalk       10312.0   \n",
       "20223                 Blocked Hydrant   Street/Sidewalk       11370.0   \n",
       "165462                Car/Truck Music   Street/Sidewalk       10467.0   \n",
       "79082                       No Access   Street/Sidewalk       10029.0   \n",
       "129831  Posted Parking Sign Violation   Street/Sidewalk       11220.0   \n",
       "130700                      No Access   Street/Sidewalk       10466.0   \n",
       "30879   Posted Parking Sign Violation   Street/Sidewalk       10458.0   \n",
       "148967             With License Plate   Street/Sidewalk       11414.0   \n",
       "85983                Loud Music/Party  Store/Commercial       11106.0   \n",
       "\n",
       "             Incident Address        Street Name    Cross Street 1  \\\n",
       "129720       46-31 157 STREET         157 STREET         46 AVENUE   \n",
       "39793       545 ANNADALE ROAD      ANNADALE ROAD    WOLCOTT AVENUE   \n",
       "20223         30-14 83 STREET          83 STREET         30 AVENUE   \n",
       "165462  215 EAST GUNHILL ROAD  EAST GUNHILL ROAD      WAYNE AVENUE   \n",
       "79082     328 EAST 112 STREET    EAST 112 STREET          2 AVENUE   \n",
       "129831          5501 7 AVENUE           7 AVENUE         55 STREET   \n",
       "130700    944 EAST 226 STREET    EAST 226 STREET  BRONXWOOD AVENUE   \n",
       "30879     355 EAST 187 STREET    EAST 187 STREET         ELM PLACE   \n",
       "148967       98-20 160 AVENUE         160 AVENUE         98 STREET   \n",
       "85983          33-08 BROADWAY           BROADWAY         33 STREET   \n",
       "\n",
       "         Cross Street 2 Intersection Street 1 Intersection Street 2  \\\n",
       "129720  LABURNUM AVENUE                   NaN                   NaN   \n",
       "39793     LAREDO AVENUE                   NaN                   NaN   \n",
       "20223         31 AVENUE                   NaN                   NaN   \n",
       "165462     TRYON AVENUE                   NaN                   NaN   \n",
       "79082          1 AVENUE                   NaN                   NaN   \n",
       "129831        56 STREET                   NaN                   NaN   \n",
       "130700  PAULDING AVENUE                   NaN                   NaN   \n",
       "30879     MARION AVENUE                   NaN                   NaN   \n",
       "148967        99 STREET                   NaN                   NaN   \n",
       "85983         34 STREET                   NaN                   NaN   \n",
       "\n",
       "       Address Type           City Landmark Facility Type  Status  \\\n",
       "129720      ADDRESS       FLUSHING      NaN      Precinct  Closed   \n",
       "39793       ADDRESS  STATEN ISLAND      NaN      Precinct  Closed   \n",
       "20223       ADDRESS  EAST ELMHURST      NaN      Precinct  Closed   \n",
       "165462      ADDRESS          BRONX      NaN      Precinct  Closed   \n",
       "79082       ADDRESS       NEW YORK      NaN      Precinct  Closed   \n",
       "129831      ADDRESS       BROOKLYN      NaN      Precinct  Closed   \n",
       "130700      ADDRESS          BRONX      NaN      Precinct  Closed   \n",
       "30879       ADDRESS          BRONX      NaN      Precinct  Closed   \n",
       "148967      ADDRESS   HOWARD BEACH      NaN      Precinct  Closed   \n",
       "85983       ADDRESS        Astoria      NaN      Precinct  Closed   \n",
       "\n",
       "                      Due Date  \\\n",
       "129720  09/01/2015 01:12:45 AM   \n",
       "39793   11/21/2015 02:29:29 PM   \n",
       "20223   12/11/2015 02:33:36 PM   \n",
       "165462  07/31/2015 07:30:52 AM   \n",
       "79082   10/15/2015 05:38:43 PM   \n",
       "129831  08/31/2015 10:13:23 PM   \n",
       "130700  08/31/2015 03:09:59 AM   \n",
       "30879   12/01/2015 01:13:26 AM   \n",
       "148967  08/15/2015 05:20:39 AM   \n",
       "85983   10/09/2015 08:11:57 AM   \n",
       "\n",
       "                                   Resolution Description  \\\n",
       "129720  The Police Department responded to the complai...   \n",
       "39793   The Police Department responded to the complai...   \n",
       "20223   The Police Department issued a summons in resp...   \n",
       "165462  The Police Department reviewed your complaint ...   \n",
       "79082   This complaint does not fall under the Police ...   \n",
       "129831  The Police Department responded to the complai...   \n",
       "130700  The Police Department responded and upon arriv...   \n",
       "30879   The Police Department responded and upon arriv...   \n",
       "148967  The Police Department reviewed your complaint ...   \n",
       "85983   The Police Department responded and upon arriv...   \n",
       "\n",
       "       Resolution Action Updated Date   Community Board        Borough  \\\n",
       "129720         08/31/2015 08:33:42 PM         07 QUEENS         QUEENS   \n",
       "39793          11/21/2015 06:37:04 AM  03 STATEN ISLAND  STATEN ISLAND   \n",
       "20223          12/11/2015 07:42:42 AM         03 QUEENS         QUEENS   \n",
       "165462         07/31/2015 05:09:59 AM          07 BRONX          BRONX   \n",
       "79082          10/15/2015 01:37:51 PM      11 MANHATTAN      MANHATTAN   \n",
       "129831         08/31/2015 03:40:22 PM       07 BROOKLYN       BROOKLYN   \n",
       "130700         08/30/2015 09:52:58 PM          12 BRONX          BRONX   \n",
       "30879          11/30/2015 08:55:05 PM          05 BRONX          BRONX   \n",
       "148967         08/14/2015 11:29:54 PM         10 QUEENS         QUEENS   \n",
       "85983          10/09/2015 04:26:46 AM         01 QUEENS         QUEENS   \n",
       "\n",
       "        X Coordinate (State Plane)  Y Coordinate (State Plane)  \\\n",
       "129720                   1036991.0                    213802.0   \n",
       "39793                     935699.0                    139413.0   \n",
       "20223                    1016001.0                    216484.0   \n",
       "165462                   1018232.0                    260065.0   \n",
       "79082                    1001250.0                    228569.0   \n",
       "129831                    981779.0                    172284.0   \n",
       "130700                   1024892.0                    262199.0   \n",
       "30879                    1013268.0                    252468.0   \n",
       "148967                   1030164.0                    179120.0   \n",
       "85983                    1005407.0                    216590.0   \n",
       "\n",
       "       Park Facility Name   Park Borough Bridge Highway Name  \\\n",
       "129720        Unspecified         QUEENS                 NaN   \n",
       "39793         Unspecified  STATEN ISLAND                 NaN   \n",
       "20223         Unspecified         QUEENS                 NaN   \n",
       "165462        Unspecified          BRONX                 NaN   \n",
       "79082         Unspecified      MANHATTAN                 NaN   \n",
       "129831        Unspecified       BROOKLYN                 NaN   \n",
       "130700        Unspecified          BRONX                 NaN   \n",
       "30879         Unspecified          BRONX                 NaN   \n",
       "148967        Unspecified         QUEENS                 NaN   \n",
       "85983         Unspecified         QUEENS                 NaN   \n",
       "\n",
       "       Bridge Highway Direction Road Ramp Bridge Highway Segment   Latitude  \\\n",
       "129720                      NaN       NaN                    NaN  40.753356   \n",
       "39793                       NaN       NaN                    NaN  40.549199   \n",
       "20223                       NaN       NaN                    NaN  40.760818   \n",
       "165462                      NaN       NaN                    NaN  40.880427   \n",
       "79082                       NaN       NaN                    NaN  40.794029   \n",
       "129831                      NaN       NaN                    NaN  40.639556   \n",
       "130700                      NaN       NaN                    NaN  40.886256   \n",
       "30879                       NaN       NaN                    NaN  40.859593   \n",
       "148967                      NaN       NaN                    NaN  40.658201   \n",
       "85983                       NaN       NaN                    NaN  40.761141   \n",
       "\n",
       "        Longitude                                  Location  \n",
       "129720 -73.809640   (40.75335633474413, -73.80963961262695)  \n",
       "39793  -74.174702   (40.54919922420646, -74.17470179978285)  \n",
       "20223  -73.885387   (40.76081801960492, -73.88538695265666)  \n",
       "165462 -73.877113   (40.88042713278525, -73.87711292596249)  \n",
       "79082  -73.938604  (40.794028821255395, -73.93860371628821)  \n",
       "129831 -74.008903    (40.63955604202643, -74.0089034706777)  \n",
       "130700 -73.853016   (40.88625613145118, -73.85301585895992)  \n",
       "30879  -73.895097   (40.85959342197313, -73.89509682373193)  \n",
       "148967 -73.834517   (40.65820068668282, -73.83451701807358)  \n",
       "85983  -73.923628   (40.76114066082838, -73.92362824465074)  "
      ]
     },
     "execution_count": 64,
     "metadata": {},
     "output_type": "execute_result"
    }
   ],
   "source": [
    "data_mod.sample(10)"
   ]
  },
  {
   "cell_type": "code",
   "execution_count": 65,
   "id": "3b830e10-77e7-44b0-a4f6-9f577369c617",
   "metadata": {},
   "outputs": [
    {
     "data": {
      "text/plain": [
       "Index(['Created Date', 'Closed Date', 'Agency Name', 'Complaint Type',\n",
       "       'Descriptor', 'Location Type', 'Incident Zip', 'Incident Address',\n",
       "       'Street Name', 'Cross Street 1', 'Cross Street 2',\n",
       "       'Intersection Street 1', 'Intersection Street 2', 'Address Type',\n",
       "       'City', 'Landmark', 'Facility Type', 'Status', 'Due Date',\n",
       "       'Resolution Description', 'Resolution Action Updated Date',\n",
       "       'Community Board', 'Borough', 'X Coordinate (State Plane)',\n",
       "       'Y Coordinate (State Plane)', 'Park Facility Name', 'Park Borough',\n",
       "       'Bridge Highway Name', 'Bridge Highway Direction', 'Road Ramp',\n",
       "       'Bridge Highway Segment', 'Latitude', 'Longitude', 'Location'],\n",
       "      dtype='object')"
      ]
     },
     "execution_count": 65,
     "metadata": {},
     "output_type": "execute_result"
    }
   ],
   "source": [
    "data_mod.columns"
   ]
  },
  {
   "cell_type": "code",
   "execution_count": 66,
   "id": "1784f35e-5653-4ef5-967c-cffbc0f34d9e",
   "metadata": {},
   "outputs": [
    {
     "name": "stdout",
     "output_type": "stream",
     "text": [
      "<class 'pandas.core.frame.DataFrame'>\n",
      "RangeIndex: 170312 entries, 0 to 170311\n",
      "Data columns (total 34 columns):\n",
      " #   Column                          Non-Null Count   Dtype  \n",
      "---  ------                          --------------   -----  \n",
      " 0   Created Date                    170312 non-null  object \n",
      " 1   Closed Date                     169273 non-null  object \n",
      " 2   Agency Name                     170312 non-null  object \n",
      " 3   Complaint Type                  170312 non-null  object \n",
      " 4   Descriptor                      166922 non-null  object \n",
      " 5   Location Type                   170312 non-null  object \n",
      " 6   Incident Zip                    169054 non-null  float64\n",
      " 7   Incident Address                146598 non-null  object \n",
      " 8   Street Name                     146598 non-null  object \n",
      " 9   Cross Street 1                  144040 non-null  object \n",
      " 10  Cross Street 2                  143805 non-null  object \n",
      " 11  Intersection Street 1           23399 non-null   object \n",
      " 12  Intersection Street 2           23164 non-null   object \n",
      " 13  Address Type                    168931 non-null  object \n",
      " 14  City                            169054 non-null  object \n",
      " 15  Landmark                        193 non-null     object \n",
      " 16  Facility Type                   169276 non-null  object \n",
      " 17  Status                          170312 non-null  object \n",
      " 18  Due Date                        170311 non-null  object \n",
      " 19  Resolution Description          170312 non-null  object \n",
      " 20  Resolution Action Updated Date  169286 non-null  object \n",
      " 21  Community Board                 170311 non-null  object \n",
      " 22  Borough                         170311 non-null  object \n",
      " 23  X Coordinate (State Plane)      168553 non-null  float64\n",
      " 24  Y Coordinate (State Plane)      168553 non-null  float64\n",
      " 25  Park Facility Name              170311 non-null  object \n",
      " 26  Park Borough                    170311 non-null  object \n",
      " 27  Bridge Highway Name             153 non-null     object \n",
      " 28  Bridge Highway Direction        153 non-null     object \n",
      " 29  Road Ramp                       134 non-null     object \n",
      " 30  Bridge Highway Segment          134 non-null     object \n",
      " 31  Latitude                        168553 non-null  float64\n",
      " 32  Longitude                       168553 non-null  float64\n",
      " 33  Location                        168553 non-null  object \n",
      "dtypes: float64(5), object(29)\n",
      "memory usage: 44.2+ MB\n"
     ]
    }
   ],
   "source": [
    "data_mod.info()"
   ]
  },
  {
   "cell_type": "code",
   "execution_count": 67,
   "id": "0879cb8c-644a-4b40-8dfc-cb9ad4d9bf2d",
   "metadata": {},
   "outputs": [],
   "source": [
    "data_mod['Closed Date'] = pd.to_datetime(data_mod['Closed Date'])\n",
    "data_mod['Created Date'] = pd.to_datetime(data_mod['Created Date'])\n",
    "\n",
    "data_mod['Request_Closing_Time'] = data_mod['Closed Date'] - data_mod['Created Date']"
   ]
  },
  {
   "cell_type": "code",
   "execution_count": 68,
   "id": "6550568a-7fa2-45fc-8da6-41f21b830eff",
   "metadata": {},
   "outputs": [
    {
     "name": "stdout",
     "output_type": "stream",
     "text": [
      "<class 'pandas.core.frame.DataFrame'>\n",
      "RangeIndex: 170312 entries, 0 to 170311\n",
      "Data columns (total 35 columns):\n",
      " #   Column                          Non-Null Count   Dtype          \n",
      "---  ------                          --------------   -----          \n",
      " 0   Created Date                    170312 non-null  datetime64[ns] \n",
      " 1   Closed Date                     169273 non-null  datetime64[ns] \n",
      " 2   Agency Name                     170312 non-null  object         \n",
      " 3   Complaint Type                  170312 non-null  object         \n",
      " 4   Descriptor                      166922 non-null  object         \n",
      " 5   Location Type                   170312 non-null  object         \n",
      " 6   Incident Zip                    169054 non-null  float64        \n",
      " 7   Incident Address                146598 non-null  object         \n",
      " 8   Street Name                     146598 non-null  object         \n",
      " 9   Cross Street 1                  144040 non-null  object         \n",
      " 10  Cross Street 2                  143805 non-null  object         \n",
      " 11  Intersection Street 1           23399 non-null   object         \n",
      " 12  Intersection Street 2           23164 non-null   object         \n",
      " 13  Address Type                    168931 non-null  object         \n",
      " 14  City                            169054 non-null  object         \n",
      " 15  Landmark                        193 non-null     object         \n",
      " 16  Facility Type                   169276 non-null  object         \n",
      " 17  Status                          170312 non-null  object         \n",
      " 18  Due Date                        170311 non-null  object         \n",
      " 19  Resolution Description          170312 non-null  object         \n",
      " 20  Resolution Action Updated Date  169286 non-null  object         \n",
      " 21  Community Board                 170311 non-null  object         \n",
      " 22  Borough                         170311 non-null  object         \n",
      " 23  X Coordinate (State Plane)      168553 non-null  float64        \n",
      " 24  Y Coordinate (State Plane)      168553 non-null  float64        \n",
      " 25  Park Facility Name              170311 non-null  object         \n",
      " 26  Park Borough                    170311 non-null  object         \n",
      " 27  Bridge Highway Name             153 non-null     object         \n",
      " 28  Bridge Highway Direction        153 non-null     object         \n",
      " 29  Road Ramp                       134 non-null     object         \n",
      " 30  Bridge Highway Segment          134 non-null     object         \n",
      " 31  Latitude                        168553 non-null  float64        \n",
      " 32  Longitude                       168553 non-null  float64        \n",
      " 33  Location                        168553 non-null  object         \n",
      " 34  Request_Closing_Time            169273 non-null  timedelta64[ns]\n",
      "dtypes: datetime64[ns](2), float64(5), object(27), timedelta64[ns](1)\n",
      "memory usage: 45.5+ MB\n"
     ]
    }
   ],
   "source": [
    "data_mod.info()"
   ]
  },
  {
   "cell_type": "code",
   "execution_count": 69,
   "id": "a7949231-5d1f-452c-be91-c271447b350a",
   "metadata": {},
   "outputs": [
    {
     "data": {
      "text/html": [
       "<div>\n",
       "<style scoped>\n",
       "    .dataframe tbody tr th:only-of-type {\n",
       "        vertical-align: middle;\n",
       "    }\n",
       "\n",
       "    .dataframe tbody tr th {\n",
       "        vertical-align: top;\n",
       "    }\n",
       "\n",
       "    .dataframe thead th {\n",
       "        text-align: right;\n",
       "    }\n",
       "</style>\n",
       "<table border=\"1\" class=\"dataframe\">\n",
       "  <thead>\n",
       "    <tr style=\"text-align: right;\">\n",
       "      <th></th>\n",
       "      <th>Created Date</th>\n",
       "      <th>Closed Date</th>\n",
       "      <th>Agency Name</th>\n",
       "      <th>Complaint Type</th>\n",
       "      <th>Descriptor</th>\n",
       "      <th>Location Type</th>\n",
       "      <th>Incident Zip</th>\n",
       "      <th>Incident Address</th>\n",
       "      <th>Street Name</th>\n",
       "      <th>Cross Street 1</th>\n",
       "      <th>Cross Street 2</th>\n",
       "      <th>Intersection Street 1</th>\n",
       "      <th>Intersection Street 2</th>\n",
       "      <th>Address Type</th>\n",
       "      <th>City</th>\n",
       "      <th>Landmark</th>\n",
       "      <th>Facility Type</th>\n",
       "      <th>Status</th>\n",
       "      <th>Due Date</th>\n",
       "      <th>Resolution Description</th>\n",
       "      <th>Resolution Action Updated Date</th>\n",
       "      <th>Community Board</th>\n",
       "      <th>Borough</th>\n",
       "      <th>X Coordinate (State Plane)</th>\n",
       "      <th>Y Coordinate (State Plane)</th>\n",
       "      <th>Park Facility Name</th>\n",
       "      <th>Park Borough</th>\n",
       "      <th>Bridge Highway Name</th>\n",
       "      <th>Bridge Highway Direction</th>\n",
       "      <th>Road Ramp</th>\n",
       "      <th>Bridge Highway Segment</th>\n",
       "      <th>Latitude</th>\n",
       "      <th>Longitude</th>\n",
       "      <th>Location</th>\n",
       "      <th>Request_Closing_Time</th>\n",
       "    </tr>\n",
       "  </thead>\n",
       "  <tbody>\n",
       "    <tr>\n",
       "      <th>144725</th>\n",
       "      <td>2015-08-18 16:19:19</td>\n",
       "      <td>2015-08-18 18:18:54</td>\n",
       "      <td>New York City Police Department</td>\n",
       "      <td>Blocked Driveway</td>\n",
       "      <td>No Access</td>\n",
       "      <td>Street/Sidewalk</td>\n",
       "      <td>11373.0</td>\n",
       "      <td>40-22 74 STREET</td>\n",
       "      <td>74 STREET</td>\n",
       "      <td>BROADWAY</td>\n",
       "      <td>41 AVENUE</td>\n",
       "      <td>NaN</td>\n",
       "      <td>NaN</td>\n",
       "      <td>ADDRESS</td>\n",
       "      <td>ELMHURST</td>\n",
       "      <td>NaN</td>\n",
       "      <td>Precinct</td>\n",
       "      <td>Closed</td>\n",
       "      <td>08/19/2015 12:19:19 AM</td>\n",
       "      <td>The Police Department issued a summons in resp...</td>\n",
       "      <td>08/18/2015 06:18:55 PM</td>\n",
       "      <td>04 QUEENS</td>\n",
       "      <td>QUEENS</td>\n",
       "      <td>1014365.0</td>\n",
       "      <td>211156.0</td>\n",
       "      <td>Unspecified</td>\n",
       "      <td>QUEENS</td>\n",
       "      <td>NaN</td>\n",
       "      <td>NaN</td>\n",
       "      <td>NaN</td>\n",
       "      <td>NaN</td>\n",
       "      <td>40.746200</td>\n",
       "      <td>-73.891316</td>\n",
       "      <td>(40.74619974657712, -73.89131635341342)</td>\n",
       "      <td>0 days 01:59:35</td>\n",
       "    </tr>\n",
       "    <tr>\n",
       "      <th>97864</th>\n",
       "      <td>2015-09-27 07:00:48</td>\n",
       "      <td>2015-09-27 16:48:00</td>\n",
       "      <td>New York City Police Department</td>\n",
       "      <td>Noise - Street/Sidewalk</td>\n",
       "      <td>Loud Music/Party</td>\n",
       "      <td>Street/Sidewalk</td>\n",
       "      <td>10029.0</td>\n",
       "      <td>1212 5 AVENUE</td>\n",
       "      <td>5 AVENUE</td>\n",
       "      <td>EAST 101 STREET</td>\n",
       "      <td>EAST 102 STREET</td>\n",
       "      <td>NaN</td>\n",
       "      <td>NaN</td>\n",
       "      <td>ADDRESS</td>\n",
       "      <td>NEW YORK</td>\n",
       "      <td>NaN</td>\n",
       "      <td>Precinct</td>\n",
       "      <td>Closed</td>\n",
       "      <td>09/27/2015 03:00:48 PM</td>\n",
       "      <td>The Police Department responded to the complai...</td>\n",
       "      <td>09/27/2015 04:48:00 PM</td>\n",
       "      <td>11 MANHATTAN</td>\n",
       "      <td>MANHATTAN</td>\n",
       "      <td>997242.0</td>\n",
       "      <td>227666.0</td>\n",
       "      <td>Unspecified</td>\n",
       "      <td>MANHATTAN</td>\n",
       "      <td>NaN</td>\n",
       "      <td>NaN</td>\n",
       "      <td>NaN</td>\n",
       "      <td>NaN</td>\n",
       "      <td>40.791557</td>\n",
       "      <td>-73.953081</td>\n",
       "      <td>(40.791557131877525, -73.95308053666545)</td>\n",
       "      <td>0 days 09:47:12</td>\n",
       "    </tr>\n",
       "    <tr>\n",
       "      <th>145203</th>\n",
       "      <td>2015-08-18 01:30:05</td>\n",
       "      <td>2015-08-18 02:36:21</td>\n",
       "      <td>New York City Police Department</td>\n",
       "      <td>Noise - Street/Sidewalk</td>\n",
       "      <td>Loud Music/Party</td>\n",
       "      <td>Street/Sidewalk</td>\n",
       "      <td>11213.0</td>\n",
       "      <td>205 ALBANY AVENUE</td>\n",
       "      <td>ALBANY AVENUE</td>\n",
       "      <td>PROSPECT PLACE</td>\n",
       "      <td>PARK PLACE</td>\n",
       "      <td>NaN</td>\n",
       "      <td>NaN</td>\n",
       "      <td>ADDRESS</td>\n",
       "      <td>BROOKLYN</td>\n",
       "      <td>NaN</td>\n",
       "      <td>Precinct</td>\n",
       "      <td>Closed</td>\n",
       "      <td>08/18/2015 09:30:05 AM</td>\n",
       "      <td>The Police Department responded to the complai...</td>\n",
       "      <td>08/18/2015 02:36:21 AM</td>\n",
       "      <td>08 BROOKLYN</td>\n",
       "      <td>BROOKLYN</td>\n",
       "      <td>1001174.0</td>\n",
       "      <td>184672.0</td>\n",
       "      <td>Unspecified</td>\n",
       "      <td>BROOKLYN</td>\n",
       "      <td>NaN</td>\n",
       "      <td>NaN</td>\n",
       "      <td>NaN</td>\n",
       "      <td>NaN</td>\n",
       "      <td>40.673543</td>\n",
       "      <td>-73.938989</td>\n",
       "      <td>(40.673542554164406, -73.9389886138828)</td>\n",
       "      <td>0 days 01:06:16</td>\n",
       "    </tr>\n",
       "    <tr>\n",
       "      <th>73380</th>\n",
       "      <td>2015-10-20 20:07:08</td>\n",
       "      <td>2015-10-20 21:18:04</td>\n",
       "      <td>New York City Police Department</td>\n",
       "      <td>Blocked Driveway</td>\n",
       "      <td>Partial Access</td>\n",
       "      <td>Street/Sidewalk</td>\n",
       "      <td>10470.0</td>\n",
       "      <td>115 EAST 235 STREET</td>\n",
       "      <td>EAST 235 STREET</td>\n",
       "      <td>ONEIDA AVENUE</td>\n",
       "      <td>KEPLER AVENUE</td>\n",
       "      <td>NaN</td>\n",
       "      <td>NaN</td>\n",
       "      <td>ADDRESS</td>\n",
       "      <td>BRONX</td>\n",
       "      <td>NaN</td>\n",
       "      <td>Precinct</td>\n",
       "      <td>Closed</td>\n",
       "      <td>10/21/2015 04:07:08 AM</td>\n",
       "      <td>The Police Department responded to the complai...</td>\n",
       "      <td>10/20/2015 09:17:13 PM</td>\n",
       "      <td>12 BRONX</td>\n",
       "      <td>BRONX</td>\n",
       "      <td>1019617.0</td>\n",
       "      <td>266133.0</td>\n",
       "      <td>Unspecified</td>\n",
       "      <td>BRONX</td>\n",
       "      <td>NaN</td>\n",
       "      <td>NaN</td>\n",
       "      <td>NaN</td>\n",
       "      <td>NaN</td>\n",
       "      <td>40.897076</td>\n",
       "      <td>-73.872072</td>\n",
       "      <td>(40.89707642205582, -73.87207239409159)</td>\n",
       "      <td>0 days 01:10:56</td>\n",
       "    </tr>\n",
       "  </tbody>\n",
       "</table>\n",
       "</div>"
      ],
      "text/plain": [
       "              Created Date         Closed Date  \\\n",
       "144725 2015-08-18 16:19:19 2015-08-18 18:18:54   \n",
       "97864  2015-09-27 07:00:48 2015-09-27 16:48:00   \n",
       "145203 2015-08-18 01:30:05 2015-08-18 02:36:21   \n",
       "73380  2015-10-20 20:07:08 2015-10-20 21:18:04   \n",
       "\n",
       "                            Agency Name           Complaint Type  \\\n",
       "144725  New York City Police Department         Blocked Driveway   \n",
       "97864   New York City Police Department  Noise - Street/Sidewalk   \n",
       "145203  New York City Police Department  Noise - Street/Sidewalk   \n",
       "73380   New York City Police Department         Blocked Driveway   \n",
       "\n",
       "              Descriptor    Location Type  Incident Zip     Incident Address  \\\n",
       "144725         No Access  Street/Sidewalk       11373.0      40-22 74 STREET   \n",
       "97864   Loud Music/Party  Street/Sidewalk       10029.0        1212 5 AVENUE   \n",
       "145203  Loud Music/Party  Street/Sidewalk       11213.0    205 ALBANY AVENUE   \n",
       "73380     Partial Access  Street/Sidewalk       10470.0  115 EAST 235 STREET   \n",
       "\n",
       "            Street Name   Cross Street 1   Cross Street 2  \\\n",
       "144725        74 STREET         BROADWAY        41 AVENUE   \n",
       "97864          5 AVENUE  EAST 101 STREET  EAST 102 STREET   \n",
       "145203    ALBANY AVENUE   PROSPECT PLACE       PARK PLACE   \n",
       "73380   EAST 235 STREET    ONEIDA AVENUE    KEPLER AVENUE   \n",
       "\n",
       "       Intersection Street 1 Intersection Street 2 Address Type      City  \\\n",
       "144725                   NaN                   NaN      ADDRESS  ELMHURST   \n",
       "97864                    NaN                   NaN      ADDRESS  NEW YORK   \n",
       "145203                   NaN                   NaN      ADDRESS  BROOKLYN   \n",
       "73380                    NaN                   NaN      ADDRESS     BRONX   \n",
       "\n",
       "       Landmark Facility Type  Status                Due Date  \\\n",
       "144725      NaN      Precinct  Closed  08/19/2015 12:19:19 AM   \n",
       "97864       NaN      Precinct  Closed  09/27/2015 03:00:48 PM   \n",
       "145203      NaN      Precinct  Closed  08/18/2015 09:30:05 AM   \n",
       "73380       NaN      Precinct  Closed  10/21/2015 04:07:08 AM   \n",
       "\n",
       "                                   Resolution Description  \\\n",
       "144725  The Police Department issued a summons in resp...   \n",
       "97864   The Police Department responded to the complai...   \n",
       "145203  The Police Department responded to the complai...   \n",
       "73380   The Police Department responded to the complai...   \n",
       "\n",
       "       Resolution Action Updated Date Community Board    Borough  \\\n",
       "144725         08/18/2015 06:18:55 PM       04 QUEENS     QUEENS   \n",
       "97864          09/27/2015 04:48:00 PM    11 MANHATTAN  MANHATTAN   \n",
       "145203         08/18/2015 02:36:21 AM     08 BROOKLYN   BROOKLYN   \n",
       "73380          10/20/2015 09:17:13 PM        12 BRONX      BRONX   \n",
       "\n",
       "        X Coordinate (State Plane)  Y Coordinate (State Plane)  \\\n",
       "144725                   1014365.0                    211156.0   \n",
       "97864                     997242.0                    227666.0   \n",
       "145203                   1001174.0                    184672.0   \n",
       "73380                    1019617.0                    266133.0   \n",
       "\n",
       "       Park Facility Name Park Borough Bridge Highway Name  \\\n",
       "144725        Unspecified       QUEENS                 NaN   \n",
       "97864         Unspecified    MANHATTAN                 NaN   \n",
       "145203        Unspecified     BROOKLYN                 NaN   \n",
       "73380         Unspecified        BRONX                 NaN   \n",
       "\n",
       "       Bridge Highway Direction Road Ramp Bridge Highway Segment   Latitude  \\\n",
       "144725                      NaN       NaN                    NaN  40.746200   \n",
       "97864                       NaN       NaN                    NaN  40.791557   \n",
       "145203                      NaN       NaN                    NaN  40.673543   \n",
       "73380                       NaN       NaN                    NaN  40.897076   \n",
       "\n",
       "        Longitude                                  Location  \\\n",
       "144725 -73.891316   (40.74619974657712, -73.89131635341342)   \n",
       "97864  -73.953081  (40.791557131877525, -73.95308053666545)   \n",
       "145203 -73.938989   (40.673542554164406, -73.9389886138828)   \n",
       "73380  -73.872072   (40.89707642205582, -73.87207239409159)   \n",
       "\n",
       "       Request_Closing_Time  \n",
       "144725      0 days 01:59:35  \n",
       "97864       0 days 09:47:12  \n",
       "145203      0 days 01:06:16  \n",
       "73380       0 days 01:10:56  "
      ]
     },
     "execution_count": 69,
     "metadata": {},
     "output_type": "execute_result"
    }
   ],
   "source": [
    "data_mod.sample(4)"
   ]
  },
  {
   "cell_type": "code",
   "execution_count": 70,
   "id": "ef4e01ee-51c2-46a2-9ea1-41315e3eef18",
   "metadata": {},
   "outputs": [
    {
     "data": {
      "text/plain": [
       "Index(['Created Date', 'Closed Date', 'Agency Name', 'Complaint Type',\n",
       "       'Descriptor', 'Location Type', 'Incident Zip', 'Incident Address',\n",
       "       'Street Name', 'Cross Street 1', 'Cross Street 2',\n",
       "       'Intersection Street 1', 'Intersection Street 2', 'Address Type',\n",
       "       'City', 'Landmark', 'Facility Type', 'Status', 'Due Date',\n",
       "       'Resolution Description', 'Resolution Action Updated Date',\n",
       "       'Community Board', 'Borough', 'X Coordinate (State Plane)',\n",
       "       'Y Coordinate (State Plane)', 'Park Facility Name', 'Park Borough',\n",
       "       'Bridge Highway Name', 'Bridge Highway Direction', 'Road Ramp',\n",
       "       'Bridge Highway Segment', 'Latitude', 'Longitude', 'Location',\n",
       "       'Request_Closing_Time'],\n",
       "      dtype='object')"
      ]
     },
     "execution_count": 70,
     "metadata": {},
     "output_type": "execute_result"
    }
   ],
   "source": [
    "data_mod.columns"
   ]
  },
  {
   "cell_type": "code",
   "execution_count": 71,
   "id": "1e09979a-6f12-4db0-8319-5499b9fd3508",
   "metadata": {},
   "outputs": [
    {
     "data": {
      "text/html": [
       "<div>\n",
       "<style scoped>\n",
       "    .dataframe tbody tr th:only-of-type {\n",
       "        vertical-align: middle;\n",
       "    }\n",
       "\n",
       "    .dataframe tbody tr th {\n",
       "        vertical-align: top;\n",
       "    }\n",
       "\n",
       "    .dataframe thead th {\n",
       "        text-align: right;\n",
       "    }\n",
       "</style>\n",
       "<table border=\"1\" class=\"dataframe\">\n",
       "  <thead>\n",
       "    <tr style=\"text-align: right;\">\n",
       "      <th></th>\n",
       "      <th>Counts</th>\n",
       "    </tr>\n",
       "  </thead>\n",
       "  <tbody>\n",
       "    <tr>\n",
       "      <th>Blocked Driveway</th>\n",
       "      <td>46619</td>\n",
       "    </tr>\n",
       "    <tr>\n",
       "      <th>Illegal Parking</th>\n",
       "      <td>44435</td>\n",
       "    </tr>\n",
       "    <tr>\n",
       "      <th>Noise - Street/Sidewalk</th>\n",
       "      <td>24713</td>\n",
       "    </tr>\n",
       "    <tr>\n",
       "      <th>Noise - Commercial</th>\n",
       "      <td>19715</td>\n",
       "    </tr>\n",
       "    <tr>\n",
       "      <th>Derelict Vehicle</th>\n",
       "      <td>10095</td>\n",
       "    </tr>\n",
       "    <tr>\n",
       "      <th>Noise - Vehicle</th>\n",
       "      <td>8812</td>\n",
       "    </tr>\n",
       "    <tr>\n",
       "      <th>Animal Abuse</th>\n",
       "      <td>4329</td>\n",
       "    </tr>\n",
       "    <tr>\n",
       "      <th>Homeless Encampment</th>\n",
       "      <td>2596</td>\n",
       "    </tr>\n",
       "    <tr>\n",
       "      <th>Traffic</th>\n",
       "      <td>2348</td>\n",
       "    </tr>\n",
       "    <tr>\n",
       "      <th>Noise - Park</th>\n",
       "      <td>2042</td>\n",
       "    </tr>\n",
       "    <tr>\n",
       "      <th>Vending</th>\n",
       "      <td>1923</td>\n",
       "    </tr>\n",
       "    <tr>\n",
       "      <th>Drinking</th>\n",
       "      <td>713</td>\n",
       "    </tr>\n",
       "    <tr>\n",
       "      <th>Posting Advertisement</th>\n",
       "      <td>589</td>\n",
       "    </tr>\n",
       "    <tr>\n",
       "      <th>Noise - House of Worship</th>\n",
       "      <td>432</td>\n",
       "    </tr>\n",
       "    <tr>\n",
       "      <th>Urinating in Public</th>\n",
       "      <td>343</td>\n",
       "    </tr>\n",
       "    <tr>\n",
       "      <th>Bike/Roller/Skate Chronic</th>\n",
       "      <td>238</td>\n",
       "    </tr>\n",
       "    <tr>\n",
       "      <th>Panhandling</th>\n",
       "      <td>187</td>\n",
       "    </tr>\n",
       "    <tr>\n",
       "      <th>Disorderly Youth</th>\n",
       "      <td>100</td>\n",
       "    </tr>\n",
       "    <tr>\n",
       "      <th>Graffiti</th>\n",
       "      <td>56</td>\n",
       "    </tr>\n",
       "    <tr>\n",
       "      <th>Illegal Fireworks</th>\n",
       "      <td>26</td>\n",
       "    </tr>\n",
       "    <tr>\n",
       "      <th>Ferry Complaint</th>\n",
       "      <td>1</td>\n",
       "    </tr>\n",
       "  </tbody>\n",
       "</table>\n",
       "</div>"
      ],
      "text/plain": [
       "                           Counts\n",
       "Blocked Driveway            46619\n",
       "Illegal Parking             44435\n",
       "Noise - Street/Sidewalk     24713\n",
       "Noise - Commercial          19715\n",
       "Derelict Vehicle            10095\n",
       "Noise - Vehicle              8812\n",
       "Animal Abuse                 4329\n",
       "Homeless Encampment          2596\n",
       "Traffic                      2348\n",
       "Noise - Park                 2042\n",
       "Vending                      1923\n",
       "Drinking                      713\n",
       "Posting Advertisement         589\n",
       "Noise - House of Worship      432\n",
       "Urinating in Public           343\n",
       "Bike/Roller/Skate Chronic     238\n",
       "Panhandling                   187\n",
       "Disorderly Youth              100\n",
       "Graffiti                       56\n",
       "Illegal Fireworks              26\n",
       "Ferry Complaint                 1"
      ]
     },
     "execution_count": 71,
     "metadata": {},
     "output_type": "execute_result"
    }
   ],
   "source": [
    "# Measuring the frequency (occurence) of the different complaint---------------------------\n",
    "\n",
    "data_complaint = data['Complaint Type'].value_counts()\n",
    "data_complaint = data_complaint.to_frame()\n",
    "data_complaint = data_complaint.rename(columns={'Complaint Type':'Counts'})\n",
    "data_complaint"
   ]
  },
  {
   "cell_type": "code",
   "execution_count": 72,
   "id": "c9efeae4-32b1-4087-b299-7463b96b0589",
   "metadata": {},
   "outputs": [
    {
     "data": {
      "text/html": [
       "<div>\n",
       "<style scoped>\n",
       "    .dataframe tbody tr th:only-of-type {\n",
       "        vertical-align: middle;\n",
       "    }\n",
       "\n",
       "    .dataframe tbody tr th {\n",
       "        vertical-align: top;\n",
       "    }\n",
       "\n",
       "    .dataframe thead th {\n",
       "        text-align: right;\n",
       "    }\n",
       "</style>\n",
       "<table border=\"1\" class=\"dataframe\">\n",
       "  <thead>\n",
       "    <tr style=\"text-align: right;\">\n",
       "      <th></th>\n",
       "      <th>Counts</th>\n",
       "      <th>Percentage</th>\n",
       "    </tr>\n",
       "  </thead>\n",
       "  <tbody>\n",
       "    <tr>\n",
       "      <th>Blocked Driveway</th>\n",
       "      <td>46619</td>\n",
       "      <td>27.37</td>\n",
       "    </tr>\n",
       "    <tr>\n",
       "      <th>Illegal Parking</th>\n",
       "      <td>44435</td>\n",
       "      <td>26.09</td>\n",
       "    </tr>\n",
       "    <tr>\n",
       "      <th>Noise - Street/Sidewalk</th>\n",
       "      <td>24713</td>\n",
       "      <td>14.51</td>\n",
       "    </tr>\n",
       "    <tr>\n",
       "      <th>Noise - Commercial</th>\n",
       "      <td>19715</td>\n",
       "      <td>11.58</td>\n",
       "    </tr>\n",
       "    <tr>\n",
       "      <th>Derelict Vehicle</th>\n",
       "      <td>10095</td>\n",
       "      <td>5.93</td>\n",
       "    </tr>\n",
       "    <tr>\n",
       "      <th>Noise - Vehicle</th>\n",
       "      <td>8812</td>\n",
       "      <td>5.17</td>\n",
       "    </tr>\n",
       "    <tr>\n",
       "      <th>Animal Abuse</th>\n",
       "      <td>4329</td>\n",
       "      <td>2.54</td>\n",
       "    </tr>\n",
       "    <tr>\n",
       "      <th>Homeless Encampment</th>\n",
       "      <td>2596</td>\n",
       "      <td>1.52</td>\n",
       "    </tr>\n",
       "    <tr>\n",
       "      <th>Traffic</th>\n",
       "      <td>2348</td>\n",
       "      <td>1.38</td>\n",
       "    </tr>\n",
       "    <tr>\n",
       "      <th>Noise - Park</th>\n",
       "      <td>2042</td>\n",
       "      <td>1.20</td>\n",
       "    </tr>\n",
       "    <tr>\n",
       "      <th>Vending</th>\n",
       "      <td>1923</td>\n",
       "      <td>1.13</td>\n",
       "    </tr>\n",
       "    <tr>\n",
       "      <th>Drinking</th>\n",
       "      <td>713</td>\n",
       "      <td>0.42</td>\n",
       "    </tr>\n",
       "    <tr>\n",
       "      <th>Posting Advertisement</th>\n",
       "      <td>589</td>\n",
       "      <td>0.35</td>\n",
       "    </tr>\n",
       "    <tr>\n",
       "      <th>Noise - House of Worship</th>\n",
       "      <td>432</td>\n",
       "      <td>0.25</td>\n",
       "    </tr>\n",
       "    <tr>\n",
       "      <th>Urinating in Public</th>\n",
       "      <td>343</td>\n",
       "      <td>0.20</td>\n",
       "    </tr>\n",
       "    <tr>\n",
       "      <th>Bike/Roller/Skate Chronic</th>\n",
       "      <td>238</td>\n",
       "      <td>0.14</td>\n",
       "    </tr>\n",
       "    <tr>\n",
       "      <th>Panhandling</th>\n",
       "      <td>187</td>\n",
       "      <td>0.11</td>\n",
       "    </tr>\n",
       "    <tr>\n",
       "      <th>Disorderly Youth</th>\n",
       "      <td>100</td>\n",
       "      <td>0.06</td>\n",
       "    </tr>\n",
       "    <tr>\n",
       "      <th>Graffiti</th>\n",
       "      <td>56</td>\n",
       "      <td>0.03</td>\n",
       "    </tr>\n",
       "    <tr>\n",
       "      <th>Illegal Fireworks</th>\n",
       "      <td>26</td>\n",
       "      <td>0.02</td>\n",
       "    </tr>\n",
       "    <tr>\n",
       "      <th>Ferry Complaint</th>\n",
       "      <td>1</td>\n",
       "      <td>0.00</td>\n",
       "    </tr>\n",
       "  </tbody>\n",
       "</table>\n",
       "</div>"
      ],
      "text/plain": [
       "                           Counts  Percentage\n",
       "Blocked Driveway            46619       27.37\n",
       "Illegal Parking             44435       26.09\n",
       "Noise - Street/Sidewalk     24713       14.51\n",
       "Noise - Commercial          19715       11.58\n",
       "Derelict Vehicle            10095        5.93\n",
       "Noise - Vehicle              8812        5.17\n",
       "Animal Abuse                 4329        2.54\n",
       "Homeless Encampment          2596        1.52\n",
       "Traffic                      2348        1.38\n",
       "Noise - Park                 2042        1.20\n",
       "Vending                      1923        1.13\n",
       "Drinking                      713        0.42\n",
       "Posting Advertisement         589        0.35\n",
       "Noise - House of Worship      432        0.25\n",
       "Urinating in Public           343        0.20\n",
       "Bike/Roller/Skate Chronic     238        0.14\n",
       "Panhandling                   187        0.11\n",
       "Disorderly Youth              100        0.06\n",
       "Graffiti                       56        0.03\n",
       "Illegal Fireworks              26        0.02\n",
       "Ferry Complaint                 1        0.00"
      ]
     },
     "execution_count": 72,
     "metadata": {},
     "output_type": "execute_result"
    }
   ],
   "source": [
    "# Evaluate the above in percentage ----------------------------\n",
    "\n",
    "data_complaint['Percentage'] = np.around((data_complaint.Counts/data_complaint.Counts.sum())*100,decimals=2)\n",
    "data_complaint"
   ]
  },
  {
   "cell_type": "code",
   "execution_count": 73,
   "id": "e47e3ad6-0ee9-4418-b58c-e326554f0ed4",
   "metadata": {},
   "outputs": [
    {
     "data": {
      "text/html": [
       "<div>\n",
       "<style scoped>\n",
       "    .dataframe tbody tr th:only-of-type {\n",
       "        vertical-align: middle;\n",
       "    }\n",
       "\n",
       "    .dataframe tbody tr th {\n",
       "        vertical-align: top;\n",
       "    }\n",
       "\n",
       "    .dataframe thead th {\n",
       "        text-align: right;\n",
       "    }\n",
       "</style>\n",
       "<table border=\"1\" class=\"dataframe\">\n",
       "  <thead>\n",
       "    <tr style=\"text-align: right;\">\n",
       "      <th></th>\n",
       "      <th>Complaint Type</th>\n",
       "      <th>Counts</th>\n",
       "      <th>Percentage</th>\n",
       "    </tr>\n",
       "  </thead>\n",
       "  <tbody>\n",
       "    <tr>\n",
       "      <th>0</th>\n",
       "      <td>Blocked Driveway</td>\n",
       "      <td>46619</td>\n",
       "      <td>27.37</td>\n",
       "    </tr>\n",
       "    <tr>\n",
       "      <th>1</th>\n",
       "      <td>Illegal Parking</td>\n",
       "      <td>44435</td>\n",
       "      <td>26.09</td>\n",
       "    </tr>\n",
       "    <tr>\n",
       "      <th>2</th>\n",
       "      <td>Noise - Street/Sidewalk</td>\n",
       "      <td>24713</td>\n",
       "      <td>14.51</td>\n",
       "    </tr>\n",
       "    <tr>\n",
       "      <th>3</th>\n",
       "      <td>Noise - Commercial</td>\n",
       "      <td>19715</td>\n",
       "      <td>11.58</td>\n",
       "    </tr>\n",
       "    <tr>\n",
       "      <th>4</th>\n",
       "      <td>Derelict Vehicle</td>\n",
       "      <td>10095</td>\n",
       "      <td>5.93</td>\n",
       "    </tr>\n",
       "    <tr>\n",
       "      <th>5</th>\n",
       "      <td>Noise - Vehicle</td>\n",
       "      <td>8812</td>\n",
       "      <td>5.17</td>\n",
       "    </tr>\n",
       "    <tr>\n",
       "      <th>6</th>\n",
       "      <td>Animal Abuse</td>\n",
       "      <td>4329</td>\n",
       "      <td>2.54</td>\n",
       "    </tr>\n",
       "    <tr>\n",
       "      <th>7</th>\n",
       "      <td>Homeless Encampment</td>\n",
       "      <td>2596</td>\n",
       "      <td>1.52</td>\n",
       "    </tr>\n",
       "    <tr>\n",
       "      <th>8</th>\n",
       "      <td>Traffic</td>\n",
       "      <td>2348</td>\n",
       "      <td>1.38</td>\n",
       "    </tr>\n",
       "    <tr>\n",
       "      <th>9</th>\n",
       "      <td>Noise - Park</td>\n",
       "      <td>2042</td>\n",
       "      <td>1.20</td>\n",
       "    </tr>\n",
       "    <tr>\n",
       "      <th>10</th>\n",
       "      <td>Vending</td>\n",
       "      <td>1923</td>\n",
       "      <td>1.13</td>\n",
       "    </tr>\n",
       "  </tbody>\n",
       "</table>\n",
       "</div>"
      ],
      "text/plain": [
       "             Complaint Type  Counts  Percentage\n",
       "0          Blocked Driveway   46619       27.37\n",
       "1           Illegal Parking   44435       26.09\n",
       "2   Noise - Street/Sidewalk   24713       14.51\n",
       "3        Noise - Commercial   19715       11.58\n",
       "4          Derelict Vehicle   10095        5.93\n",
       "5           Noise - Vehicle    8812        5.17\n",
       "6              Animal Abuse    4329        2.54\n",
       "7       Homeless Encampment    2596        1.52\n",
       "8                   Traffic    2348        1.38\n",
       "9              Noise - Park    2042        1.20\n",
       "10                  Vending    1923        1.13"
      ]
     },
     "execution_count": 73,
     "metadata": {},
     "output_type": "execute_result"
    }
   ],
   "source": [
    "# Keeping the major complaint types ---------------\n",
    "\n",
    "data_complaint = data_complaint[data_complaint.Percentage>1.0]\n",
    "data_complaint = data_complaint.reset_index()\n",
    "data_complaint = data_complaint.rename(columns={'index':'Complaint Type'})\n",
    "data_complaint"
   ]
  },
  {
   "cell_type": "code",
   "execution_count": 76,
   "id": "d631651a-0bf0-4e59-9202-9d6e3a49b0d3",
   "metadata": {},
   "outputs": [
    {
     "data": {
      "image/png": "[encoded data removed]",
      "text/plain": [
       "<Figure size 864x432 with 1 Axes>"
      ]
     },
     "metadata": {
      "needs_background": "light"
     },
     "output_type": "display_data"
    },
    {
     "data": {
      "text/plain": [
       "<Figure size 432x288 with 0 Axes>"
      ]
     },
     "metadata": {},
     "output_type": "display_data"
    }
   ],
   "source": [
    "# Visualization of the above evaluated dataset ---------------------\n",
    "\n",
    "plt.figure(figsize=(12,6))\n",
    "com_type = sns.barplot(x=data_complaint['Complaint Type'],y=data_complaint.Percentage,data=data_complaint)\n",
    "com_type.set_xticklabels(com_type.get_xticklabels(), rotation=30, ha=\"right\")\n",
    "plt.title('Different type of complaint type (major)')\n",
    "plt.show()\n",
    "plt.tight_layout()"
   ]
  },
  {
   "cell_type": "code",
   "execution_count": 77,
   "id": "bbb71e01-8a35-4c2a-9878-212b36f2e0d4",
   "metadata": {},
   "outputs": [
    {
     "data": {
      "text/html": [
       "<div>\n",
       "<style scoped>\n",
       "    .dataframe tbody tr th:only-of-type {\n",
       "        vertical-align: middle;\n",
       "    }\n",
       "\n",
       "    .dataframe tbody tr th {\n",
       "        vertical-align: top;\n",
       "    }\n",
       "\n",
       "    .dataframe thead th {\n",
       "        text-align: right;\n",
       "    }\n",
       "</style>\n",
       "<table border=\"1\" class=\"dataframe\">\n",
       "  <thead>\n",
       "    <tr style=\"text-align: right;\">\n",
       "      <th></th>\n",
       "      <th>Descriptor</th>\n",
       "      <th>Percentage</th>\n",
       "    </tr>\n",
       "  </thead>\n",
       "  <tbody>\n",
       "    <tr>\n",
       "      <th>0</th>\n",
       "      <td>No Access</td>\n",
       "      <td>20.85</td>\n",
       "    </tr>\n",
       "    <tr>\n",
       "      <th>1</th>\n",
       "      <td>Loud Music/Party</td>\n",
       "      <td>19.26</td>\n",
       "    </tr>\n",
       "    <tr>\n",
       "      <th>2</th>\n",
       "      <td>Posted Parking Sign Violation</td>\n",
       "      <td>8.02</td>\n",
       "    </tr>\n",
       "    <tr>\n",
       "      <th>3</th>\n",
       "      <td>Partial Access</td>\n",
       "      <td>7.08</td>\n",
       "    </tr>\n",
       "    <tr>\n",
       "      <th>4</th>\n",
       "      <td>Loud Talking</td>\n",
       "      <td>6.75</td>\n",
       "    </tr>\n",
       "    <tr>\n",
       "      <th>5</th>\n",
       "      <td>With License Plate</td>\n",
       "      <td>6.05</td>\n",
       "    </tr>\n",
       "    <tr>\n",
       "      <th>6</th>\n",
       "      <td>Blocked Hydrant</td>\n",
       "      <td>5.78</td>\n",
       "    </tr>\n",
       "    <tr>\n",
       "      <th>7</th>\n",
       "      <td>Commercial Overnight Parking</td>\n",
       "      <td>4.18</td>\n",
       "    </tr>\n",
       "    <tr>\n",
       "      <th>8</th>\n",
       "      <td>Blocked Sidewalk</td>\n",
       "      <td>3.85</td>\n",
       "    </tr>\n",
       "    <tr>\n",
       "      <th>9</th>\n",
       "      <td>Car/Truck Music</td>\n",
       "      <td>3.29</td>\n",
       "    </tr>\n",
       "    <tr>\n",
       "      <th>10</th>\n",
       "      <td>Double Parked Blocking Traffic</td>\n",
       "      <td>2.06</td>\n",
       "    </tr>\n",
       "  </tbody>\n",
       "</table>\n",
       "</div>"
      ],
      "text/plain": [
       "                        Descriptor  Percentage\n",
       "0                        No Access       20.85\n",
       "1                 Loud Music/Party       19.26\n",
       "2    Posted Parking Sign Violation        8.02\n",
       "3                   Partial Access        7.08\n",
       "4                     Loud Talking        6.75\n",
       "5               With License Plate        6.05\n",
       "6                  Blocked Hydrant        5.78\n",
       "7     Commercial Overnight Parking        4.18\n",
       "8                 Blocked Sidewalk        3.85\n",
       "9                  Car/Truck Music        3.29\n",
       "10  Double Parked Blocking Traffic        2.06"
      ]
     },
     "execution_count": 77,
     "metadata": {},
     "output_type": "execute_result"
    }
   ],
   "source": [
    "# Applying the above procedure for Descriptor-------------------\n",
    "\n",
    "data_descriptor = np.around(((data_mod['Descriptor'].value_counts()*100) / data_mod['Descriptor'].value_counts().sum()),\n",
    "                            decimals=2)\n",
    "data_descriptor = data_descriptor.to_frame()\n",
    "data_descriptor = data_descriptor.rename(columns={'Descriptor':'Percentage'})\n",
    "data_descriptor['Descriptor'] = data_descriptor.index\n",
    "cols = data_descriptor.columns.tolist()\n",
    "cols = cols[-1:]+cols[:-1]\n",
    "data_descriptor = data_descriptor[cols]\n",
    "data_descriptor = data_descriptor[(data_descriptor.Percentage) >= 2.0]\n",
    "data_descriptor = data_descriptor.reset_index()\n",
    "data_descriptor = data_descriptor.drop(columns=['index'],axis=1)\n",
    "data_descriptor"
   ]
  },
  {
   "cell_type": "code",
   "execution_count": 78,
   "id": "9a1bc9d2-9d1c-49a0-98df-52fb083f5b28",
   "metadata": {},
   "outputs": [
    {
     "data": {
      "text/html": [
       "<div>\n",
       "<style scoped>\n",
       "    .dataframe tbody tr th:only-of-type {\n",
       "        vertical-align: middle;\n",
       "    }\n",
       "\n",
       "    .dataframe tbody tr th {\n",
       "        vertical-align: top;\n",
       "    }\n",
       "\n",
       "    .dataframe thead th {\n",
       "        text-align: right;\n",
       "    }\n",
       "</style>\n",
       "<table border=\"1\" class=\"dataframe\">\n",
       "  <thead>\n",
       "    <tr style=\"text-align: right;\">\n",
       "      <th></th>\n",
       "      <th>Location Type</th>\n",
       "      <th>Percentage</th>\n",
       "    </tr>\n",
       "  </thead>\n",
       "  <tbody>\n",
       "    <tr>\n",
       "      <th>0</th>\n",
       "      <td>Street/Sidewalk</td>\n",
       "      <td>83.50</td>\n",
       "    </tr>\n",
       "    <tr>\n",
       "      <th>1</th>\n",
       "      <td>Store/Commercial</td>\n",
       "      <td>6.58</td>\n",
       "    </tr>\n",
       "    <tr>\n",
       "      <th>2</th>\n",
       "      <td>Club/Bar/Restaurant</td>\n",
       "      <td>5.70</td>\n",
       "    </tr>\n",
       "    <tr>\n",
       "      <th>3</th>\n",
       "      <td>Residential Building/House</td>\n",
       "      <td>2.21</td>\n",
       "    </tr>\n",
       "    <tr>\n",
       "      <th>4</th>\n",
       "      <td>Park/Playground</td>\n",
       "      <td>1.44</td>\n",
       "    </tr>\n",
       "    <tr>\n",
       "      <th>5</th>\n",
       "      <td>House of Worship</td>\n",
       "      <td>0.25</td>\n",
       "    </tr>\n",
       "  </tbody>\n",
       "</table>\n",
       "</div>"
      ],
      "text/plain": [
       "                Location Type  Percentage\n",
       "0             Street/Sidewalk       83.50\n",
       "1            Store/Commercial        6.58\n",
       "2         Club/Bar/Restaurant        5.70\n",
       "3  Residential Building/House        2.21\n",
       "4             Park/Playground        1.44\n",
       "5            House of Worship        0.25"
      ]
     },
     "execution_count": 78,
     "metadata": {},
     "output_type": "execute_result"
    }
   ],
   "source": [
    "# Applying the above procedure for Location Type-------------------\n",
    "\n",
    "data_location_type = np.around(((data_mod['Location Type'].value_counts()*100) / data_mod['Location Type'].value_counts().sum()),\n",
    "                            decimals=2)\n",
    "data_location_type = data_location_type.to_frame()\n",
    "data_location_type = data_location_type.rename(columns={'Location Type':'Percentage'})\n",
    "data_location_type['Location Type'] = data_location_type.index\n",
    "cols = data_location_type.columns.tolist()\n",
    "cols = cols[-1:]+cols[:-1]\n",
    "data_location_type = data_location_type[cols]\n",
    "data_location_type = data_location_type[(data_location_type.Percentage) >= 0.1]\n",
    "data_location_type = data_location_type.reset_index()\n",
    "data_location_type = data_location_type.drop(columns=['index'],axis=1)\n",
    "data_location_type"
   ]
  },
  {
   "cell_type": "code",
   "execution_count": 79,
   "id": "1685c801-4255-442d-8405-87e2447d6165",
   "metadata": {},
   "outputs": [
    {
     "data": {
      "text/html": [
       "<div>\n",
       "<style scoped>\n",
       "    .dataframe tbody tr th:only-of-type {\n",
       "        vertical-align: middle;\n",
       "    }\n",
       "\n",
       "    .dataframe tbody tr th {\n",
       "        vertical-align: top;\n",
       "    }\n",
       "\n",
       "    .dataframe thead th {\n",
       "        text-align: right;\n",
       "    }\n",
       "</style>\n",
       "<table border=\"1\" class=\"dataframe\">\n",
       "  <thead>\n",
       "    <tr style=\"text-align: right;\">\n",
       "      <th></th>\n",
       "      <th>City</th>\n",
       "      <th>Percentage</th>\n",
       "    </tr>\n",
       "  </thead>\n",
       "  <tbody>\n",
       "    <tr>\n",
       "      <th>0</th>\n",
       "      <td>BROOKLYN</td>\n",
       "      <td>33.35</td>\n",
       "    </tr>\n",
       "    <tr>\n",
       "      <th>1</th>\n",
       "      <td>NEW YORK</td>\n",
       "      <td>21.41</td>\n",
       "    </tr>\n",
       "    <tr>\n",
       "      <th>2</th>\n",
       "      <td>BRONX</td>\n",
       "      <td>13.42</td>\n",
       "    </tr>\n",
       "    <tr>\n",
       "      <th>3</th>\n",
       "      <td>STATEN ISLAND</td>\n",
       "      <td>4.41</td>\n",
       "    </tr>\n",
       "    <tr>\n",
       "      <th>4</th>\n",
       "      <td>JAMAICA</td>\n",
       "      <td>2.36</td>\n",
       "    </tr>\n",
       "    <tr>\n",
       "      <th>5</th>\n",
       "      <td>ASTORIA</td>\n",
       "      <td>2.15</td>\n",
       "    </tr>\n",
       "    <tr>\n",
       "      <th>6</th>\n",
       "      <td>FLUSHING</td>\n",
       "      <td>2.11</td>\n",
       "    </tr>\n",
       "    <tr>\n",
       "      <th>7</th>\n",
       "      <td>RIDGEWOOD</td>\n",
       "      <td>1.74</td>\n",
       "    </tr>\n",
       "    <tr>\n",
       "      <th>8</th>\n",
       "      <td>CORONA</td>\n",
       "      <td>1.54</td>\n",
       "    </tr>\n",
       "    <tr>\n",
       "      <th>9</th>\n",
       "      <td>WOODSIDE</td>\n",
       "      <td>1.18</td>\n",
       "    </tr>\n",
       "  </tbody>\n",
       "</table>\n",
       "</div>"
      ],
      "text/plain": [
       "            City  Percentage\n",
       "0       BROOKLYN       33.35\n",
       "1       NEW YORK       21.41\n",
       "2          BRONX       13.42\n",
       "3  STATEN ISLAND        4.41\n",
       "4        JAMAICA        2.36\n",
       "5        ASTORIA        2.15\n",
       "6       FLUSHING        2.11\n",
       "7      RIDGEWOOD        1.74\n",
       "8         CORONA        1.54\n",
       "9       WOODSIDE        1.18"
      ]
     },
     "execution_count": 79,
     "metadata": {},
     "output_type": "execute_result"
    }
   ],
   "source": [
    "# Applying the above procedure for City-------------------\n",
    "\n",
    "data_city = np.around(((data_mod['City'].value_counts()*100) / data_mod['City'].value_counts().sum()),\n",
    "                            decimals=2)\n",
    "data_city = data_city.to_frame()\n",
    "data_city = data_city.rename(columns={'City':'Percentage'})\n",
    "data_city['City'] = data_city.index\n",
    "cols = data_city.columns.tolist()\n",
    "cols = cols[-1:]+cols[:-1]\n",
    "data_city = data_city[cols]\n",
    "data_city = data_city[(data_city.Percentage) >= 1.0]\n",
    "data_city = data_city.reset_index()\n",
    "data_city = data_city.drop(columns=['index'],axis=1)\n",
    "data_city"
   ]
  },
  {
   "cell_type": "code",
   "execution_count": 80,
   "id": "abc385d0-751f-46a8-9ebe-937c1f910f66",
   "metadata": {},
   "outputs": [
    {
     "data": {
      "text/html": [
       "<div>\n",
       "<style scoped>\n",
       "    .dataframe tbody tr th:only-of-type {\n",
       "        vertical-align: middle;\n",
       "    }\n",
       "\n",
       "    .dataframe tbody tr th {\n",
       "        vertical-align: top;\n",
       "    }\n",
       "\n",
       "    .dataframe thead th {\n",
       "        text-align: right;\n",
       "    }\n",
       "</style>\n",
       "<table border=\"1\" class=\"dataframe\">\n",
       "  <thead>\n",
       "    <tr style=\"text-align: right;\">\n",
       "      <th></th>\n",
       "      <th>Address Type</th>\n",
       "      <th>Percentage</th>\n",
       "    </tr>\n",
       "  </thead>\n",
       "  <tbody>\n",
       "    <tr>\n",
       "      <th>0</th>\n",
       "      <td>ADDRESS</td>\n",
       "      <td>81.15</td>\n",
       "    </tr>\n",
       "    <tr>\n",
       "      <th>1</th>\n",
       "      <td>INTERSECTION</td>\n",
       "      <td>13.71</td>\n",
       "    </tr>\n",
       "    <tr>\n",
       "      <th>2</th>\n",
       "      <td>BLOCKFACE</td>\n",
       "      <td>3.90</td>\n",
       "    </tr>\n",
       "    <tr>\n",
       "      <th>3</th>\n",
       "      <td>LATLONG</td>\n",
       "      <td>1.13</td>\n",
       "    </tr>\n",
       "    <tr>\n",
       "      <th>4</th>\n",
       "      <td>PLACENAME</td>\n",
       "      <td>0.11</td>\n",
       "    </tr>\n",
       "  </tbody>\n",
       "</table>\n",
       "</div>"
      ],
      "text/plain": [
       "   Address Type  Percentage\n",
       "0       ADDRESS       81.15\n",
       "1  INTERSECTION       13.71\n",
       "2     BLOCKFACE        3.90\n",
       "3       LATLONG        1.13\n",
       "4     PLACENAME        0.11"
      ]
     },
     "execution_count": 80,
     "metadata": {},
     "output_type": "execute_result"
    }
   ],
   "source": [
    "# Applying the above procedure for Address Type-------------------\n",
    "\n",
    "data_address_type = np.around(((data_mod['Address Type'].value_counts()*100) / data_mod['Address Type'].value_counts().sum()),\n",
    "                            decimals=2)\n",
    "data_address_type = data_address_type.to_frame()\n",
    "data_address_type = data_address_type.rename(columns={'Address Type':'Percentage'})\n",
    "data_address_type['Address Type'] = data_address_type.index\n",
    "cols = data_address_type.columns.tolist()\n",
    "cols = cols[-1:]+cols[:-1]\n",
    "data_address_type = data_address_type[cols]\n",
    "#data_address_type = data_address_type[(data_address_type.Percentage) >= 1.0]\n",
    "data_address_type = data_address_type.reset_index()\n",
    "data_address_type = data_address_type.drop(columns=['index'],axis=1)\n",
    "data_address_type"
   ]
  },
  {
   "cell_type": "code",
   "execution_count": 81,
   "id": "933ff3e6-3745-41c2-a52e-60fa0a2797cf",
   "metadata": {},
   "outputs": [
    {
     "data": {
      "image/png": "[encoded data removed]",
      "text/plain": [
       "<Figure size 864x720 with 4 Axes>"
      ]
     },
     "metadata": {
      "needs_background": "light"
     },
     "output_type": "display_data"
    }
   ],
   "source": [
    "fig, ax = plt.subplots(2, 2, figsize=(12, 10))\n",
    "\n",
    "#sns.set_theme(style=\"whitegrid\")\n",
    "#plt.suptitle(\"Proportion of different outcomes for few interesting features.\")\n",
    "\n",
    "descriptor = sns.barplot(ax=ax[0,0],x=data_descriptor.Descriptor,y=data_descriptor.Percentage,)\n",
    "descriptor.set_xticklabels(descriptor.get_xticklabels(), rotation=30, ha=\"right\")\n",
    "\n",
    "location_type = sns.barplot(ax=ax[0,1],x=data_location_type['Location Type'],y=data_location_type.Percentage,)\n",
    "location_type.set_xticklabels(location_type.get_xticklabels(), rotation=30, ha=\"right\")\n",
    "\n",
    "city = sns.barplot(ax=ax[1,0],x=data_city['City'],y=data_city.Percentage,)\n",
    "city.set_xticklabels(city.get_xticklabels(), rotation=30, ha=\"right\")\n",
    "\n",
    "address = sns.barplot(ax=ax[1,1],x=data_address_type['Address Type'],y=data_address_type.Percentage,)\n",
    "address.set_xticklabels(address.get_xticklabels(), rotation=30, ha=\"right\")\n",
    "\n",
    "\n",
    "#plt.subplots_adjust(left=None, bottom=None, right=None, top=0.0, wspace=None, hspace=None)\n",
    "plt.tight_layout()"
   ]
  },
  {
   "cell_type": "code",
   "execution_count": 82,
   "id": "13014b88-dabd-4a92-93dd-1945ec2790cc",
   "metadata": {},
   "outputs": [
    {
     "name": "stderr",
     "output_type": "stream",
     "text": [
      "/tmp/ipykernel_227/736232276.py:2: SettingWithCopyWarning: \n",
      "A value is trying to be set on a copy of a slice from a DataFrame\n",
      "\n",
      "See the caveats in the documentation: https://pandas.pydata.org/pandas-docs/stable/user_guide/indexing.html#returning-a-view-versus-a-copy\n",
      "  data_place_CType_RCTime.dropna(subset = ['City','Complaint Type','Request_Closing_Time'], inplace = True)\n",
      "/tmp/ipykernel_227/736232276.py:3: SettingWithCopyWarning: \n",
      "A value is trying to be set on a copy of a slice from a DataFrame.\n",
      "Try using .loc[row_indexer,col_indexer] = value instead\n",
      "\n",
      "See the caveats in the documentation: https://pandas.pydata.org/pandas-docs/stable/user_guide/indexing.html#returning-a-view-versus-a-copy\n",
      "  data_place_CType_RCTime['DeltaT(in_hr.)'] = np.around( (data_place_CType_RCTime['Request_Closing_Time'].astype(np.int64)/\n"
     ]
    },
    {
     "ename": "TypeError",
     "evalue": "float() argument must be a string or a real number, not 'Timedelta'",
     "output_type": "error",
     "traceback": [
      "\u001b[0;31m---------------------------------------------------------------------------\u001b[0m",
      "\u001b[0;31mTypeError\u001b[0m                                 Traceback (most recent call last)",
      "\u001b[0;32m/tmp/ipykernel_227/736232276.py\u001b[0m in \u001b[0;36m<cell line: 5>\u001b[0;34m()\u001b[0m\n\u001b[1;32m      3\u001b[0m data_place_CType_RCTime['DeltaT(in_hr.)'] = np.around( (data_place_CType_RCTime['Request_Closing_Time'].astype(np.int64)/\n\u001b[1;32m      4\u001b[0m                                                       (pow(10,9)*3600) ), decimals=2)\n\u001b[0;32m----> 5\u001b[0;31m \u001b[0mneg_time\u001b[0m \u001b[0;34m=\u001b[0m \u001b[0mdata_place_CType_RCTime\u001b[0m\u001b[0;34m[\u001b[0m\u001b[0mdata_place_CType_RCTime\u001b[0m\u001b[0;34m[\u001b[0m\u001b[0;34m'DeltaT(in_hr.)'\u001b[0m\u001b[0;34m]\u001b[0m \u001b[0;34m<\u001b[0m \u001b[0;36m0\u001b[0m\u001b[0;34m]\u001b[0m\u001b[0;34m.\u001b[0m\u001b[0msum\u001b[0m\u001b[0;34m(\u001b[0m\u001b[0;34m)\u001b[0m\u001b[0;34m\u001b[0m\u001b[0;34m\u001b[0m\u001b[0m\n\u001b[0m\u001b[1;32m      6\u001b[0m \u001b[0mprint\u001b[0m\u001b[0;34m(\u001b[0m\u001b[0;34m'The no negative time difference (Created Time > Clossing Time, which is not possible) = \\n'\u001b[0m\u001b[0;34m,\u001b[0m\u001b[0mneg_time\u001b[0m\u001b[0;34m)\u001b[0m\u001b[0;34m\u001b[0m\u001b[0;34m\u001b[0m\u001b[0m\n\u001b[1;32m      7\u001b[0m \u001b[0;31m#data_place_CType_RCTime['DeltaT(in sec)/Avg.'] = np.around((data_place_CType_RCTime['DeltaT(in sec)']/Avarage_time),decimals=1)\u001b[0m\u001b[0;34m\u001b[0m\u001b[0;34m\u001b[0m\u001b[0m\n",
      "\u001b[0;32m/usr/local/lib/python3.10/site-packages/pandas/core/generic.py\u001b[0m in \u001b[0;36msum\u001b[0;34m(self, axis, skipna, level, numeric_only, min_count, **kwargs)\u001b[0m\n\u001b[1;32m  11795\u001b[0m             \u001b[0;34m**\u001b[0m\u001b[0mkwargs\u001b[0m\u001b[0;34m,\u001b[0m\u001b[0;34m\u001b[0m\u001b[0;34m\u001b[0m\u001b[0m\n\u001b[1;32m  11796\u001b[0m         ):\n\u001b[0;32m> 11797\u001b[0;31m             return NDFrame.sum(\n\u001b[0m\u001b[1;32m  11798\u001b[0m                 \u001b[0mself\u001b[0m\u001b[0;34m,\u001b[0m \u001b[0maxis\u001b[0m\u001b[0;34m,\u001b[0m \u001b[0mskipna\u001b[0m\u001b[0;34m,\u001b[0m \u001b[0mlevel\u001b[0m\u001b[0;34m,\u001b[0m \u001b[0mnumeric_only\u001b[0m\u001b[0;34m,\u001b[0m \u001b[0mmin_count\u001b[0m\u001b[0;34m,\u001b[0m \u001b[0;34m**\u001b[0m\u001b[0mkwargs\u001b[0m\u001b[0;34m\u001b[0m\u001b[0;34m\u001b[0m\u001b[0m\n\u001b[1;32m  11799\u001b[0m             )\n",
      "\u001b[0;32m/usr/local/lib/python3.10/site-packages/pandas/core/generic.py\u001b[0m in \u001b[0;36msum\u001b[0;34m(self, axis, skipna, level, numeric_only, min_count, **kwargs)\u001b[0m\n\u001b[1;32m  11499\u001b[0m         \u001b[0;34m**\u001b[0m\u001b[0mkwargs\u001b[0m\u001b[0;34m,\u001b[0m\u001b[0;34m\u001b[0m\u001b[0;34m\u001b[0m\u001b[0m\n\u001b[1;32m  11500\u001b[0m     ):\n\u001b[0;32m> 11501\u001b[0;31m         return self._min_count_stat_function(\n\u001b[0m\u001b[1;32m  11502\u001b[0m             \u001b[0;34m\"sum\"\u001b[0m\u001b[0;34m,\u001b[0m \u001b[0mnanops\u001b[0m\u001b[0;34m.\u001b[0m\u001b[0mnansum\u001b[0m\u001b[0;34m,\u001b[0m \u001b[0maxis\u001b[0m\u001b[0;34m,\u001b[0m \u001b[0mskipna\u001b[0m\u001b[0;34m,\u001b[0m \u001b[0mlevel\u001b[0m\u001b[0;34m,\u001b[0m \u001b[0mnumeric_only\u001b[0m\u001b[0;34m,\u001b[0m \u001b[0mmin_count\u001b[0m\u001b[0;34m,\u001b[0m \u001b[0;34m**\u001b[0m\u001b[0mkwargs\u001b[0m\u001b[0;34m\u001b[0m\u001b[0;34m\u001b[0m\u001b[0m\n\u001b[1;32m  11503\u001b[0m         )\n",
      "\u001b[0;32m/usr/local/lib/python3.10/site-packages/pandas/core/generic.py\u001b[0m in \u001b[0;36m_min_count_stat_function\u001b[0;34m(self, name, func, axis, skipna, level, numeric_only, min_count, **kwargs)\u001b[0m\n\u001b[1;32m  11481\u001b[0m             )\n\u001b[1;32m  11482\u001b[0m \u001b[0;34m\u001b[0m\u001b[0m\n\u001b[0;32m> 11483\u001b[0;31m         return self._reduce(\n\u001b[0m\u001b[1;32m  11484\u001b[0m             \u001b[0mfunc\u001b[0m\u001b[0;34m,\u001b[0m\u001b[0;34m\u001b[0m\u001b[0;34m\u001b[0m\u001b[0m\n\u001b[1;32m  11485\u001b[0m             \u001b[0mname\u001b[0m\u001b[0;34m=\u001b[0m\u001b[0mname\u001b[0m\u001b[0;34m,\u001b[0m\u001b[0;34m\u001b[0m\u001b[0;34m\u001b[0m\u001b[0m\n",
      "\u001b[0;32m/usr/local/lib/python3.10/site-packages/pandas/core/frame.py\u001b[0m in \u001b[0;36m_reduce\u001b[0;34m(self, op, name, axis, skipna, numeric_only, filter_type, **kwds)\u001b[0m\n\u001b[1;32m  10861\u001b[0m                 \u001b[0;31m# Even if we are object dtype, follow numpy and return\u001b[0m\u001b[0;34m\u001b[0m\u001b[0;34m\u001b[0m\u001b[0m\n\u001b[1;32m  10862\u001b[0m                 \u001b[0;31m#  float64, see test_apply_funcs_over_empty\u001b[0m\u001b[0;34m\u001b[0m\u001b[0;34m\u001b[0m\u001b[0m\n\u001b[0;32m> 10863\u001b[0;31m                 \u001b[0mout\u001b[0m \u001b[0;34m=\u001b[0m \u001b[0mout\u001b[0m\u001b[0;34m.\u001b[0m\u001b[0mastype\u001b[0m\u001b[0;34m(\u001b[0m\u001b[0mnp\u001b[0m\u001b[0;34m.\u001b[0m\u001b[0mfloat64\u001b[0m\u001b[0;34m)\u001b[0m\u001b[0;34m\u001b[0m\u001b[0;34m\u001b[0m\u001b[0m\n\u001b[0m\u001b[1;32m  10864\u001b[0m \u001b[0;34m\u001b[0m\u001b[0m\n\u001b[1;32m  10865\u001b[0m             \u001b[0;32mif\u001b[0m \u001b[0mnumeric_only\u001b[0m \u001b[0;32mis\u001b[0m \u001b[0;32mNone\u001b[0m \u001b[0;32mand\u001b[0m \u001b[0mout\u001b[0m\u001b[0;34m.\u001b[0m\u001b[0mshape\u001b[0m\u001b[0;34m[\u001b[0m\u001b[0;36m0\u001b[0m\u001b[0;34m]\u001b[0m \u001b[0;34m!=\u001b[0m \u001b[0mdf\u001b[0m\u001b[0;34m.\u001b[0m\u001b[0mshape\u001b[0m\u001b[0;34m[\u001b[0m\u001b[0;36m1\u001b[0m\u001b[0;34m]\u001b[0m\u001b[0;34m:\u001b[0m\u001b[0;34m\u001b[0m\u001b[0;34m\u001b[0m\u001b[0m\n",
      "\u001b[0;32m/usr/local/lib/python3.10/site-packages/pandas/core/generic.py\u001b[0m in \u001b[0;36mastype\u001b[0;34m(self, dtype, copy, errors)\u001b[0m\n\u001b[1;32m   6238\u001b[0m         \u001b[0;32melse\u001b[0m\u001b[0;34m:\u001b[0m\u001b[0;34m\u001b[0m\u001b[0;34m\u001b[0m\u001b[0m\n\u001b[1;32m   6239\u001b[0m             \u001b[0;31m# else, only a single dtype is given\u001b[0m\u001b[0;34m\u001b[0m\u001b[0;34m\u001b[0m\u001b[0m\n\u001b[0;32m-> 6240\u001b[0;31m             \u001b[0mnew_data\u001b[0m \u001b[0;34m=\u001b[0m \u001b[0mself\u001b[0m\u001b[0;34m.\u001b[0m\u001b[0m_mgr\u001b[0m\u001b[0;34m.\u001b[0m\u001b[0mastype\u001b[0m\u001b[0;34m(\u001b[0m\u001b[0mdtype\u001b[0m\u001b[0;34m=\u001b[0m\u001b[0mdtype\u001b[0m\u001b[0;34m,\u001b[0m \u001b[0mcopy\u001b[0m\u001b[0;34m=\u001b[0m\u001b[0mcopy\u001b[0m\u001b[0;34m,\u001b[0m \u001b[0merrors\u001b[0m\u001b[0;34m=\u001b[0m\u001b[0merrors\u001b[0m\u001b[0;34m)\u001b[0m\u001b[0;34m\u001b[0m\u001b[0;34m\u001b[0m\u001b[0m\n\u001b[0m\u001b[1;32m   6241\u001b[0m             \u001b[0;32mreturn\u001b[0m \u001b[0mself\u001b[0m\u001b[0;34m.\u001b[0m\u001b[0m_constructor\u001b[0m\u001b[0;34m(\u001b[0m\u001b[0mnew_data\u001b[0m\u001b[0;34m)\u001b[0m\u001b[0;34m.\u001b[0m\u001b[0m__finalize__\u001b[0m\u001b[0;34m(\u001b[0m\u001b[0mself\u001b[0m\u001b[0;34m,\u001b[0m \u001b[0mmethod\u001b[0m\u001b[0;34m=\u001b[0m\u001b[0;34m\"astype\"\u001b[0m\u001b[0;34m)\u001b[0m\u001b[0;34m\u001b[0m\u001b[0;34m\u001b[0m\u001b[0m\n\u001b[1;32m   6242\u001b[0m \u001b[0;34m\u001b[0m\u001b[0m\n",
      "\u001b[0;32m/usr/local/lib/python3.10/site-packages/pandas/core/internals/managers.py\u001b[0m in \u001b[0;36mastype\u001b[0;34m(self, dtype, copy, errors)\u001b[0m\n\u001b[1;32m    446\u001b[0m \u001b[0;34m\u001b[0m\u001b[0m\n\u001b[1;32m    447\u001b[0m     \u001b[0;32mdef\u001b[0m \u001b[0mastype\u001b[0m\u001b[0;34m(\u001b[0m\u001b[0mself\u001b[0m\u001b[0;34m:\u001b[0m \u001b[0mT\u001b[0m\u001b[0;34m,\u001b[0m \u001b[0mdtype\u001b[0m\u001b[0;34m,\u001b[0m \u001b[0mcopy\u001b[0m\u001b[0;34m:\u001b[0m \u001b[0mbool\u001b[0m \u001b[0;34m=\u001b[0m \u001b[0;32mFalse\u001b[0m\u001b[0;34m,\u001b[0m \u001b[0merrors\u001b[0m\u001b[0;34m:\u001b[0m \u001b[0mstr\u001b[0m \u001b[0;34m=\u001b[0m \u001b[0;34m\"raise\"\u001b[0m\u001b[0;34m)\u001b[0m \u001b[0;34m->\u001b[0m \u001b[0mT\u001b[0m\u001b[0;34m:\u001b[0m\u001b[0;34m\u001b[0m\u001b[0;34m\u001b[0m\u001b[0m\n\u001b[0;32m--> 448\u001b[0;31m         \u001b[0;32mreturn\u001b[0m \u001b[0mself\u001b[0m\u001b[0;34m.\u001b[0m\u001b[0mapply\u001b[0m\u001b[0;34m(\u001b[0m\u001b[0;34m\"astype\"\u001b[0m\u001b[0;34m,\u001b[0m \u001b[0mdtype\u001b[0m\u001b[0;34m=\u001b[0m\u001b[0mdtype\u001b[0m\u001b[0;34m,\u001b[0m \u001b[0mcopy\u001b[0m\u001b[0;34m=\u001b[0m\u001b[0mcopy\u001b[0m\u001b[0;34m,\u001b[0m \u001b[0merrors\u001b[0m\u001b[0;34m=\u001b[0m\u001b[0merrors\u001b[0m\u001b[0;34m)\u001b[0m\u001b[0;34m\u001b[0m\u001b[0;34m\u001b[0m\u001b[0m\n\u001b[0m\u001b[1;32m    449\u001b[0m \u001b[0;34m\u001b[0m\u001b[0m\n\u001b[1;32m    450\u001b[0m     def convert(\n",
      "\u001b[0;32m/usr/local/lib/python3.10/site-packages/pandas/core/internals/managers.py\u001b[0m in \u001b[0;36mapply\u001b[0;34m(self, f, align_keys, ignore_failures, **kwargs)\u001b[0m\n\u001b[1;32m    350\u001b[0m                     \u001b[0mapplied\u001b[0m \u001b[0;34m=\u001b[0m \u001b[0mb\u001b[0m\u001b[0;34m.\u001b[0m\u001b[0mapply\u001b[0m\u001b[0;34m(\u001b[0m\u001b[0mf\u001b[0m\u001b[0;34m,\u001b[0m \u001b[0;34m**\u001b[0m\u001b[0mkwargs\u001b[0m\u001b[0;34m)\u001b[0m\u001b[0;34m\u001b[0m\u001b[0;34m\u001b[0m\u001b[0m\n\u001b[1;32m    351\u001b[0m                 \u001b[0;32melse\u001b[0m\u001b[0;34m:\u001b[0m\u001b[0;34m\u001b[0m\u001b[0;34m\u001b[0m\u001b[0m\n\u001b[0;32m--> 352\u001b[0;31m                     \u001b[0mapplied\u001b[0m \u001b[0;34m=\u001b[0m \u001b[0mgetattr\u001b[0m\u001b[0;34m(\u001b[0m\u001b[0mb\u001b[0m\u001b[0;34m,\u001b[0m \u001b[0mf\u001b[0m\u001b[0;34m)\u001b[0m\u001b[0;34m(\u001b[0m\u001b[0;34m**\u001b[0m\u001b[0mkwargs\u001b[0m\u001b[0;34m)\u001b[0m\u001b[0;34m\u001b[0m\u001b[0;34m\u001b[0m\u001b[0m\n\u001b[0m\u001b[1;32m    353\u001b[0m             \u001b[0;32mexcept\u001b[0m \u001b[0;34m(\u001b[0m\u001b[0mTypeError\u001b[0m\u001b[0;34m,\u001b[0m \u001b[0mNotImplementedError\u001b[0m\u001b[0;34m)\u001b[0m\u001b[0;34m:\u001b[0m\u001b[0;34m\u001b[0m\u001b[0;34m\u001b[0m\u001b[0m\n\u001b[1;32m    354\u001b[0m                 \u001b[0;32mif\u001b[0m \u001b[0;32mnot\u001b[0m \u001b[0mignore_failures\u001b[0m\u001b[0;34m:\u001b[0m\u001b[0;34m\u001b[0m\u001b[0;34m\u001b[0m\u001b[0m\n",
      "\u001b[0;32m/usr/local/lib/python3.10/site-packages/pandas/core/internals/blocks.py\u001b[0m in \u001b[0;36mastype\u001b[0;34m(self, dtype, copy, errors)\u001b[0m\n\u001b[1;32m    524\u001b[0m         \u001b[0mvalues\u001b[0m \u001b[0;34m=\u001b[0m \u001b[0mself\u001b[0m\u001b[0;34m.\u001b[0m\u001b[0mvalues\u001b[0m\u001b[0;34m\u001b[0m\u001b[0;34m\u001b[0m\u001b[0m\n\u001b[1;32m    525\u001b[0m \u001b[0;34m\u001b[0m\u001b[0m\n\u001b[0;32m--> 526\u001b[0;31m         \u001b[0mnew_values\u001b[0m \u001b[0;34m=\u001b[0m \u001b[0mastype_array_safe\u001b[0m\u001b[0;34m(\u001b[0m\u001b[0mvalues\u001b[0m\u001b[0;34m,\u001b[0m \u001b[0mdtype\u001b[0m\u001b[0;34m,\u001b[0m \u001b[0mcopy\u001b[0m\u001b[0;34m=\u001b[0m\u001b[0mcopy\u001b[0m\u001b[0;34m,\u001b[0m \u001b[0merrors\u001b[0m\u001b[0;34m=\u001b[0m\u001b[0merrors\u001b[0m\u001b[0;34m)\u001b[0m\u001b[0;34m\u001b[0m\u001b[0;34m\u001b[0m\u001b[0m\n\u001b[0m\u001b[1;32m    527\u001b[0m \u001b[0;34m\u001b[0m\u001b[0m\n\u001b[1;32m    528\u001b[0m         \u001b[0mnew_values\u001b[0m \u001b[0;34m=\u001b[0m \u001b[0mmaybe_coerce_values\u001b[0m\u001b[0;34m(\u001b[0m\u001b[0mnew_values\u001b[0m\u001b[0;34m)\u001b[0m\u001b[0;34m\u001b[0m\u001b[0;34m\u001b[0m\u001b[0m\n",
      "\u001b[0;32m/usr/local/lib/python3.10/site-packages/pandas/core/dtypes/astype.py\u001b[0m in \u001b[0;36mastype_array_safe\u001b[0;34m(values, dtype, copy, errors)\u001b[0m\n\u001b[1;32m    297\u001b[0m \u001b[0;34m\u001b[0m\u001b[0m\n\u001b[1;32m    298\u001b[0m     \u001b[0;32mtry\u001b[0m\u001b[0;34m:\u001b[0m\u001b[0;34m\u001b[0m\u001b[0;34m\u001b[0m\u001b[0m\n\u001b[0;32m--> 299\u001b[0;31m         \u001b[0mnew_values\u001b[0m \u001b[0;34m=\u001b[0m \u001b[0mastype_array\u001b[0m\u001b[0;34m(\u001b[0m\u001b[0mvalues\u001b[0m\u001b[0;34m,\u001b[0m \u001b[0mdtype\u001b[0m\u001b[0;34m,\u001b[0m \u001b[0mcopy\u001b[0m\u001b[0;34m=\u001b[0m\u001b[0mcopy\u001b[0m\u001b[0;34m)\u001b[0m\u001b[0;34m\u001b[0m\u001b[0;34m\u001b[0m\u001b[0m\n\u001b[0m\u001b[1;32m    300\u001b[0m     \u001b[0;32mexcept\u001b[0m \u001b[0;34m(\u001b[0m\u001b[0mValueError\u001b[0m\u001b[0;34m,\u001b[0m \u001b[0mTypeError\u001b[0m\u001b[0;34m)\u001b[0m\u001b[0;34m:\u001b[0m\u001b[0;34m\u001b[0m\u001b[0;34m\u001b[0m\u001b[0m\n\u001b[1;32m    301\u001b[0m         \u001b[0;31m# e.g. astype_nansafe can fail on object-dtype of strings\u001b[0m\u001b[0;34m\u001b[0m\u001b[0;34m\u001b[0m\u001b[0m\n",
      "\u001b[0;32m/usr/local/lib/python3.10/site-packages/pandas/core/dtypes/astype.py\u001b[0m in \u001b[0;36mastype_array\u001b[0;34m(values, dtype, copy)\u001b[0m\n\u001b[1;32m    228\u001b[0m \u001b[0;34m\u001b[0m\u001b[0m\n\u001b[1;32m    229\u001b[0m     \u001b[0;32melse\u001b[0m\u001b[0;34m:\u001b[0m\u001b[0;34m\u001b[0m\u001b[0;34m\u001b[0m\u001b[0m\n\u001b[0;32m--> 230\u001b[0;31m         \u001b[0mvalues\u001b[0m \u001b[0;34m=\u001b[0m \u001b[0mastype_nansafe\u001b[0m\u001b[0;34m(\u001b[0m\u001b[0mvalues\u001b[0m\u001b[0;34m,\u001b[0m \u001b[0mdtype\u001b[0m\u001b[0;34m,\u001b[0m \u001b[0mcopy\u001b[0m\u001b[0;34m=\u001b[0m\u001b[0mcopy\u001b[0m\u001b[0;34m)\u001b[0m\u001b[0;34m\u001b[0m\u001b[0;34m\u001b[0m\u001b[0m\n\u001b[0m\u001b[1;32m    231\u001b[0m \u001b[0;34m\u001b[0m\u001b[0m\n\u001b[1;32m    232\u001b[0m     \u001b[0;31m# in pandas we don't store numpy str dtypes, so convert to object\u001b[0m\u001b[0;34m\u001b[0m\u001b[0;34m\u001b[0m\u001b[0m\n",
      "\u001b[0;32m/usr/local/lib/python3.10/site-packages/pandas/core/dtypes/astype.py\u001b[0m in \u001b[0;36mastype_nansafe\u001b[0;34m(arr, dtype, copy, skipna)\u001b[0m\n\u001b[1;32m    168\u001b[0m     \u001b[0;32mif\u001b[0m \u001b[0mcopy\u001b[0m \u001b[0;32mor\u001b[0m \u001b[0mis_object_dtype\u001b[0m\u001b[0;34m(\u001b[0m\u001b[0marr\u001b[0m\u001b[0;34m.\u001b[0m\u001b[0mdtype\u001b[0m\u001b[0;34m)\u001b[0m \u001b[0;32mor\u001b[0m \u001b[0mis_object_dtype\u001b[0m\u001b[0;34m(\u001b[0m\u001b[0mdtype\u001b[0m\u001b[0;34m)\u001b[0m\u001b[0;34m:\u001b[0m\u001b[0;34m\u001b[0m\u001b[0;34m\u001b[0m\u001b[0m\n\u001b[1;32m    169\u001b[0m         \u001b[0;31m# Explicit copy, or required since NumPy can't view from / to object.\u001b[0m\u001b[0;34m\u001b[0m\u001b[0;34m\u001b[0m\u001b[0m\n\u001b[0;32m--> 170\u001b[0;31m         \u001b[0;32mreturn\u001b[0m \u001b[0marr\u001b[0m\u001b[0;34m.\u001b[0m\u001b[0mastype\u001b[0m\u001b[0;34m(\u001b[0m\u001b[0mdtype\u001b[0m\u001b[0;34m,\u001b[0m \u001b[0mcopy\u001b[0m\u001b[0;34m=\u001b[0m\u001b[0;32mTrue\u001b[0m\u001b[0;34m)\u001b[0m\u001b[0;34m\u001b[0m\u001b[0;34m\u001b[0m\u001b[0m\n\u001b[0m\u001b[1;32m    171\u001b[0m \u001b[0;34m\u001b[0m\u001b[0m\n\u001b[1;32m    172\u001b[0m     \u001b[0;32mreturn\u001b[0m \u001b[0marr\u001b[0m\u001b[0;34m.\u001b[0m\u001b[0mastype\u001b[0m\u001b[0;34m(\u001b[0m\u001b[0mdtype\u001b[0m\u001b[0;34m,\u001b[0m \u001b[0mcopy\u001b[0m\u001b[0;34m=\u001b[0m\u001b[0mcopy\u001b[0m\u001b[0;34m)\u001b[0m\u001b[0;34m\u001b[0m\u001b[0;34m\u001b[0m\u001b[0m\n",
      "\u001b[0;31mTypeError\u001b[0m: float() argument must be a string or a real number, not 'Timedelta'"
     ]
    }
   ],
   "source": [
    "data_place_CType_RCTime = data_mod[['City','Complaint Type','Request_Closing_Time']]\n",
    "data_place_CType_RCTime.dropna(subset = ['City','Complaint Type','Request_Closing_Time'], inplace = True)\n",
    "data_place_CType_RCTime['DeltaT(in_hr.)'] = np.around( (data_place_CType_RCTime['Request_Closing_Time'].astype(np.int64)/\n",
    "                                                      (pow(10,9)*3600) ), decimals=2)\n",
    "neg_time = data_place_CType_RCTime[data_place_CType_RCTime['DeltaT(in_hr.)'] < 0].sum()\n",
    "print('The no negative time difference (Created Time > Clossing Time, which is not possible) = \\n',neg_time)\n",
    "#data_place_CType_RCTime['DeltaT(in sec)/Avg.'] = np.around((data_place_CType_RCTime['DeltaT(in sec)']/Avarage_time),decimals=1)\n",
    "data_place_CType_RCTime.head(6)"
   ]
  },
  {
   "cell_type": "code",
   "execution_count": 83,
   "id": "ba93d20e-c12d-45c1-bf3d-2de748ebaf55",
   "metadata": {},
   "outputs": [
    {
     "name": "stdout",
     "output_type": "stream",
     "text": [
      "Avarage time gap between logging the complaint and problem solved =  4.56 hour\n",
      "Central value of the distribution =  2.81 hour\n",
      "Most occered value =  0    0.88\n",
      "Name: DeltaT(in_hr.), dtype: float64 hour\n",
      "Deviation is =  6.56\n"
     ]
    }
   ],
   "source": [
    "Avarage_time = np.around((data_place_CType_RCTime['DeltaT(in_hr.)'].mean()),decimals=2)\n",
    "print('Avarage time gap between logging the complaint and problem solved = ',Avarage_time, 'hour')\n",
    "Central_val = np.around((data_place_CType_RCTime['DeltaT(in_hr.)'].median()),decimals=2)\n",
    "print('Central value of the distribution = ',Central_val, 'hour')\n",
    "Most_occoor = np.around((data_place_CType_RCTime['DeltaT(in_hr.)'].mode()),decimals=2)\n",
    "print('Most occered value = ',Most_occoor, 'hour')\n",
    "stand_dev = np.around((data_place_CType_RCTime['DeltaT(in_hr.)'].std()),decimals=2)\n",
    "print('Deviation is = ',stand_dev)"
   ]
  },
  {
   "cell_type": "code",
   "execution_count": 84,
   "id": "364af8c4-2f08-45fd-9c46-da22a6c3d17c",
   "metadata": {},
   "outputs": [
    {
     "name": "stderr",
     "output_type": "stream",
     "text": [
      "/tmp/ipykernel_227/3789049267.py:10: SettingWithCopyWarning: \n",
      "A value is trying to be set on a copy of a slice from a DataFrame.\n",
      "Try using .loc[row_indexer,col_indexer] = value instead\n",
      "\n",
      "See the caveats in the documentation: https://pandas.pydata.org/pandas-docs/stable/user_guide/indexing.html#returning-a-view-versus-a-copy\n",
      "  data_place_CType_RCTime['Solution Status'] = np.select(conditions,choices)\n"
     ]
    }
   ],
   "source": [
    "conditions = [data_place_CType_RCTime['DeltaT(in_hr.)'] <= 0.5, \n",
    "             (0.50 < data_place_CType_RCTime['DeltaT(in_hr.)']) & (data_place_CType_RCTime['DeltaT(in_hr.)'] <= 1.00),\n",
    "             (1.00 < data_place_CType_RCTime['DeltaT(in_hr.)']) & (data_place_CType_RCTime['DeltaT(in_hr.)'] <= 2.00),\n",
    "             (2.00 < data_place_CType_RCTime['DeltaT(in_hr.)']) & (data_place_CType_RCTime['DeltaT(in_hr.)'] <= 6.00),\n",
    "             (6.00 < data_place_CType_RCTime['DeltaT(in_hr.)']) & (data_place_CType_RCTime['DeltaT(in_hr.)'] <= 10.00),\n",
    "             (10.00 < data_place_CType_RCTime['DeltaT(in_hr.)'])]\n",
    "\n",
    "choices = ['Super fast','Very fast','Fast','Normal','Slow','Super Slow']\n",
    "\n",
    "data_place_CType_RCTime['Solution Status'] = np.select(conditions,choices)"
   ]
  },
  {
   "cell_type": "code",
   "execution_count": 85,
   "id": "45bce0a6-e48a-4076-8086-61ec1bbc950e",
   "metadata": {},
   "outputs": [
    {
     "data": {
      "text/html": [
       "<div>\n",
       "<style scoped>\n",
       "    .dataframe tbody tr th:only-of-type {\n",
       "        vertical-align: middle;\n",
       "    }\n",
       "\n",
       "    .dataframe tbody tr th {\n",
       "        vertical-align: top;\n",
       "    }\n",
       "\n",
       "    .dataframe thead th {\n",
       "        text-align: right;\n",
       "    }\n",
       "</style>\n",
       "<table border=\"1\" class=\"dataframe\">\n",
       "  <thead>\n",
       "    <tr style=\"text-align: right;\">\n",
       "      <th></th>\n",
       "      <th>City</th>\n",
       "      <th>Complaint Type</th>\n",
       "      <th>Request_Closing_Time</th>\n",
       "      <th>DeltaT(in_hr.)</th>\n",
       "      <th>Solution Status</th>\n",
       "    </tr>\n",
       "  </thead>\n",
       "  <tbody>\n",
       "    <tr>\n",
       "      <th>0</th>\n",
       "      <td>NEW YORK</td>\n",
       "      <td>Noise - Street/Sidewalk</td>\n",
       "      <td>0 days 00:55:30</td>\n",
       "      <td>0.92</td>\n",
       "      <td>Very fast</td>\n",
       "    </tr>\n",
       "    <tr>\n",
       "      <th>1</th>\n",
       "      <td>ASTORIA</td>\n",
       "      <td>Blocked Driveway</td>\n",
       "      <td>0 days 01:27:13</td>\n",
       "      <td>1.45</td>\n",
       "      <td>Fast</td>\n",
       "    </tr>\n",
       "    <tr>\n",
       "      <th>2</th>\n",
       "      <td>BRONX</td>\n",
       "      <td>Blocked Driveway</td>\n",
       "      <td>0 days 04:51:34</td>\n",
       "      <td>4.86</td>\n",
       "      <td>Normal</td>\n",
       "    </tr>\n",
       "    <tr>\n",
       "      <th>3</th>\n",
       "      <td>BRONX</td>\n",
       "      <td>Illegal Parking</td>\n",
       "      <td>0 days 07:45:27</td>\n",
       "      <td>7.76</td>\n",
       "      <td>Slow</td>\n",
       "    </tr>\n",
       "    <tr>\n",
       "      <th>4</th>\n",
       "      <td>ELMHURST</td>\n",
       "      <td>Illegal Parking</td>\n",
       "      <td>0 days 03:27:44</td>\n",
       "      <td>3.46</td>\n",
       "      <td>Normal</td>\n",
       "    </tr>\n",
       "    <tr>\n",
       "      <th>5</th>\n",
       "      <td>BROOKLYN</td>\n",
       "      <td>Illegal Parking</td>\n",
       "      <td>0 days 01:53:41</td>\n",
       "      <td>1.89</td>\n",
       "      <td>Fast</td>\n",
       "    </tr>\n",
       "  </tbody>\n",
       "</table>\n",
       "</div>"
      ],
      "text/plain": [
       "       City           Complaint Type Request_Closing_Time  DeltaT(in_hr.)  \\\n",
       "0  NEW YORK  Noise - Street/Sidewalk      0 days 00:55:30            0.92   \n",
       "1   ASTORIA         Blocked Driveway      0 days 01:27:13            1.45   \n",
       "2     BRONX         Blocked Driveway      0 days 04:51:34            4.86   \n",
       "3     BRONX          Illegal Parking      0 days 07:45:27            7.76   \n",
       "4  ELMHURST          Illegal Parking      0 days 03:27:44            3.46   \n",
       "5  BROOKLYN          Illegal Parking      0 days 01:53:41            1.89   \n",
       "\n",
       "  Solution Status  \n",
       "0       Very fast  \n",
       "1            Fast  \n",
       "2          Normal  \n",
       "3            Slow  \n",
       "4          Normal  \n",
       "5            Fast  "
      ]
     },
     "execution_count": 85,
     "metadata": {},
     "output_type": "execute_result"
    }
   ],
   "source": [
    "data_place_CType_RCTime.head(6)"
   ]
  },
  {
   "cell_type": "code",
   "execution_count": 86,
   "id": "ae59011f-27da-43b8-86ec-c469668f1cff",
   "metadata": {},
   "outputs": [
    {
     "data": {
      "text/plain": [
       "Normal        67193\n",
       "Fast          32722\n",
       "Slow          21980\n",
       "Very fast     18512\n",
       "Super Slow    15880\n",
       "Super fast    12724\n",
       "Name: Solution Status, dtype: int64"
      ]
     },
     "execution_count": 86,
     "metadata": {},
     "output_type": "execute_result"
    }
   ],
   "source": [
    "data_place_CType_RCTime['Solution Status'].value_counts()"
   ]
  },
  {
   "cell_type": "code",
   "execution_count": 87,
   "id": "923e2b12-4056-43f8-a648-9ef8f11d514d",
   "metadata": {},
   "outputs": [
    {
     "data": {
      "text/html": [
       "<div>\n",
       "<style scoped>\n",
       "    .dataframe tbody tr th:only-of-type {\n",
       "        vertical-align: middle;\n",
       "    }\n",
       "\n",
       "    .dataframe tbody tr th {\n",
       "        vertical-align: top;\n",
       "    }\n",
       "\n",
       "    .dataframe thead th {\n",
       "        text-align: right;\n",
       "    }\n",
       "</style>\n",
       "<table border=\"1\" class=\"dataframe\">\n",
       "  <thead>\n",
       "    <tr style=\"text-align: right;\">\n",
       "      <th></th>\n",
       "      <th>City</th>\n",
       "      <th>Complaint Type</th>\n",
       "      <th>Request_Closing_Time</th>\n",
       "      <th>DeltaT(in_hr.)</th>\n",
       "      <th>Solution Status</th>\n",
       "    </tr>\n",
       "  </thead>\n",
       "  <tbody>\n",
       "    <tr>\n",
       "      <th>0</th>\n",
       "      <td>NEW YORK</td>\n",
       "      <td>Noise - Street/Sidewalk</td>\n",
       "      <td>0 days 00:55:30</td>\n",
       "      <td>0.92</td>\n",
       "      <td>Very fast</td>\n",
       "    </tr>\n",
       "    <tr>\n",
       "      <th>1</th>\n",
       "      <td>ASTORIA</td>\n",
       "      <td>Blocked Driveway</td>\n",
       "      <td>0 days 01:27:13</td>\n",
       "      <td>1.45</td>\n",
       "      <td>Fast</td>\n",
       "    </tr>\n",
       "    <tr>\n",
       "      <th>2</th>\n",
       "      <td>BRONX</td>\n",
       "      <td>Blocked Driveway</td>\n",
       "      <td>0 days 04:51:34</td>\n",
       "      <td>4.86</td>\n",
       "      <td>Normal</td>\n",
       "    </tr>\n",
       "    <tr>\n",
       "      <th>3</th>\n",
       "      <td>BRONX</td>\n",
       "      <td>Illegal Parking</td>\n",
       "      <td>0 days 07:45:27</td>\n",
       "      <td>7.76</td>\n",
       "      <td>Slow</td>\n",
       "    </tr>\n",
       "    <tr>\n",
       "      <th>4</th>\n",
       "      <td>ELMHURST</td>\n",
       "      <td>Illegal Parking</td>\n",
       "      <td>0 days 03:27:44</td>\n",
       "      <td>3.46</td>\n",
       "      <td>Normal</td>\n",
       "    </tr>\n",
       "    <tr>\n",
       "      <th>5</th>\n",
       "      <td>BROOKLYN</td>\n",
       "      <td>Illegal Parking</td>\n",
       "      <td>0 days 01:53:41</td>\n",
       "      <td>1.89</td>\n",
       "      <td>Fast</td>\n",
       "    </tr>\n",
       "  </tbody>\n",
       "</table>\n",
       "</div>"
      ],
      "text/plain": [
       "       City           Complaint Type Request_Closing_Time  DeltaT(in_hr.)  \\\n",
       "0  NEW YORK  Noise - Street/Sidewalk      0 days 00:55:30            0.92   \n",
       "1   ASTORIA         Blocked Driveway      0 days 01:27:13            1.45   \n",
       "2     BRONX         Blocked Driveway      0 days 04:51:34            4.86   \n",
       "3     BRONX          Illegal Parking      0 days 07:45:27            7.76   \n",
       "4  ELMHURST          Illegal Parking      0 days 03:27:44            3.46   \n",
       "5  BROOKLYN          Illegal Parking      0 days 01:53:41            1.89   \n",
       "\n",
       "  Solution Status  \n",
       "0       Very fast  \n",
       "1            Fast  \n",
       "2          Normal  \n",
       "3            Slow  \n",
       "4          Normal  \n",
       "5            Fast  "
      ]
     },
     "execution_count": 87,
     "metadata": {},
     "output_type": "execute_result"
    }
   ],
   "source": [
    "data_place_CType_RCTime.head(6)"
   ]
  },
  {
   "cell_type": "code",
   "execution_count": 88,
   "id": "1d95b731-a21c-4036-990d-7586ac14dbc7",
   "metadata": {},
   "outputs": [
    {
     "data": {
      "text/plain": [
       "Normal        67193\n",
       "Fast          32722\n",
       "Slow          21980\n",
       "Very fast     18512\n",
       "Super Slow    15880\n",
       "Super fast    12724\n",
       "Name: Solution Status, dtype: int64"
      ]
     },
     "execution_count": 88,
     "metadata": {},
     "output_type": "execute_result"
    }
   ],
   "source": [
    "data_place_CType_RCTime['Solution Status'].value_counts()"
   ]
  },
  {
   "cell_type": "code",
   "execution_count": 89,
   "id": "b978a45f-c868-4ec4-bdc2-49a1c281d591",
   "metadata": {},
   "outputs": [
    {
     "data": {
      "image/png": "[encoded data removed]",
      "text/plain": [
       "<Figure size 432x288 with 1 Axes>"
      ]
     },
     "metadata": {
      "needs_background": "light"
     },
     "output_type": "display_data"
    },
    {
     "data": {
      "text/plain": [
       "<Figure size 432x288 with 0 Axes>"
      ]
     },
     "metadata": {},
     "output_type": "display_data"
    }
   ],
   "source": [
    "data_place_CType_RCTime['Solution Status'].value_counts().plot(kind='bar')\n",
    "plt.xlabel('Time Status')\n",
    "plt.ylabel('Counts')\n",
    "plt.title('Proportion of the fastness of different Solution status')\n",
    "plt.show()\n",
    "plt.tight_layout()"
   ]
  },
  {
   "cell_type": "code",
   "execution_count": 90,
   "id": "4ce0357c-e6f4-487a-b63f-fdec87a2fc72",
   "metadata": {},
   "outputs": [
    {
     "data": {
      "text/plain": [
       "0   2015-12-31 23:59:45\n",
       "1   2015-12-31 23:59:44\n",
       "2   2015-12-31 23:59:29\n",
       "3   2015-12-31 23:57:46\n",
       "4   2015-12-31 23:56:58\n",
       "Name: Created Date, dtype: datetime64[ns]"
      ]
     },
     "execution_count": 90,
     "metadata": {},
     "output_type": "execute_result"
    }
   ],
   "source": [
    "data_mod['Created Date'].head(5)"
   ]
  },
  {
   "cell_type": "code",
   "execution_count": 91,
   "id": "2fbc9da5-8f8b-473c-9ddb-bf780f64a87c",
   "metadata": {},
   "outputs": [
    {
     "data": {
      "text/html": [
       "<div>\n",
       "<style scoped>\n",
       "    .dataframe tbody tr th:only-of-type {\n",
       "        vertical-align: middle;\n",
       "    }\n",
       "\n",
       "    .dataframe tbody tr th {\n",
       "        vertical-align: top;\n",
       "    }\n",
       "\n",
       "    .dataframe thead th {\n",
       "        text-align: right;\n",
       "    }\n",
       "</style>\n",
       "<table border=\"1\" class=\"dataframe\">\n",
       "  <thead>\n",
       "    <tr style=\"text-align: right;\">\n",
       "      <th></th>\n",
       "      <th>Date</th>\n",
       "      <th>Month</th>\n",
       "      <th>Day</th>\n",
       "      <th>Month Name</th>\n",
       "      <th>Day No</th>\n",
       "      <th>Day Name</th>\n",
       "    </tr>\n",
       "  </thead>\n",
       "  <tbody>\n",
       "    <tr>\n",
       "      <th>157526</th>\n",
       "      <td>2015-08-07</td>\n",
       "      <td>8</td>\n",
       "      <td>7</td>\n",
       "      <td>Aug</td>\n",
       "      <td>4</td>\n",
       "      <td>Friday</td>\n",
       "    </tr>\n",
       "    <tr>\n",
       "      <th>58402</th>\n",
       "      <td>2015-11-03</td>\n",
       "      <td>11</td>\n",
       "      <td>3</td>\n",
       "      <td>Nov</td>\n",
       "      <td>1</td>\n",
       "      <td>Tuesday</td>\n",
       "    </tr>\n",
       "    <tr>\n",
       "      <th>57514</th>\n",
       "      <td>2015-11-04</td>\n",
       "      <td>11</td>\n",
       "      <td>4</td>\n",
       "      <td>Nov</td>\n",
       "      <td>2</td>\n",
       "      <td>Wednesday</td>\n",
       "    </tr>\n",
       "    <tr>\n",
       "      <th>112298</th>\n",
       "      <td>2015-09-15</td>\n",
       "      <td>9</td>\n",
       "      <td>15</td>\n",
       "      <td>Sep</td>\n",
       "      <td>1</td>\n",
       "      <td>Tuesday</td>\n",
       "    </tr>\n",
       "    <tr>\n",
       "      <th>55858</th>\n",
       "      <td>2015-11-06</td>\n",
       "      <td>11</td>\n",
       "      <td>6</td>\n",
       "      <td>Nov</td>\n",
       "      <td>4</td>\n",
       "      <td>Friday</td>\n",
       "    </tr>\n",
       "    <tr>\n",
       "      <th>95789</th>\n",
       "      <td>2015-09-29</td>\n",
       "      <td>9</td>\n",
       "      <td>29</td>\n",
       "      <td>Sep</td>\n",
       "      <td>1</td>\n",
       "      <td>Tuesday</td>\n",
       "    </tr>\n",
       "    <tr>\n",
       "      <th>166999</th>\n",
       "      <td>2015-07-29</td>\n",
       "      <td>7</td>\n",
       "      <td>29</td>\n",
       "      <td>Jul</td>\n",
       "      <td>2</td>\n",
       "      <td>Wednesday</td>\n",
       "    </tr>\n",
       "    <tr>\n",
       "      <th>56750</th>\n",
       "      <td>2015-11-05</td>\n",
       "      <td>11</td>\n",
       "      <td>5</td>\n",
       "      <td>Nov</td>\n",
       "      <td>3</td>\n",
       "      <td>Thursday</td>\n",
       "    </tr>\n",
       "    <tr>\n",
       "      <th>139971</th>\n",
       "      <td>2015-08-22</td>\n",
       "      <td>8</td>\n",
       "      <td>22</td>\n",
       "      <td>Aug</td>\n",
       "      <td>5</td>\n",
       "      <td>Saturday</td>\n",
       "    </tr>\n",
       "    <tr>\n",
       "      <th>52125</th>\n",
       "      <td>2015-11-09</td>\n",
       "      <td>11</td>\n",
       "      <td>9</td>\n",
       "      <td>Nov</td>\n",
       "      <td>0</td>\n",
       "      <td>Monday</td>\n",
       "    </tr>\n",
       "    <tr>\n",
       "      <th>26727</th>\n",
       "      <td>2015-12-04</td>\n",
       "      <td>12</td>\n",
       "      <td>4</td>\n",
       "      <td>Dec</td>\n",
       "      <td>4</td>\n",
       "      <td>Friday</td>\n",
       "    </tr>\n",
       "    <tr>\n",
       "      <th>64892</th>\n",
       "      <td>2015-10-28</td>\n",
       "      <td>10</td>\n",
       "      <td>28</td>\n",
       "      <td>Oct</td>\n",
       "      <td>2</td>\n",
       "      <td>Wednesday</td>\n",
       "    </tr>\n",
       "    <tr>\n",
       "      <th>69525</th>\n",
       "      <td>2015-10-24</td>\n",
       "      <td>10</td>\n",
       "      <td>24</td>\n",
       "      <td>Oct</td>\n",
       "      <td>5</td>\n",
       "      <td>Saturday</td>\n",
       "    </tr>\n",
       "    <tr>\n",
       "      <th>50375</th>\n",
       "      <td>2015-11-11</td>\n",
       "      <td>11</td>\n",
       "      <td>11</td>\n",
       "      <td>Nov</td>\n",
       "      <td>2</td>\n",
       "      <td>Wednesday</td>\n",
       "    </tr>\n",
       "    <tr>\n",
       "      <th>35045</th>\n",
       "      <td>2015-11-26</td>\n",
       "      <td>11</td>\n",
       "      <td>26</td>\n",
       "      <td>Nov</td>\n",
       "      <td>3</td>\n",
       "      <td>Thursday</td>\n",
       "    </tr>\n",
       "    <tr>\n",
       "      <th>14838</th>\n",
       "      <td>2015-12-15</td>\n",
       "      <td>12</td>\n",
       "      <td>15</td>\n",
       "      <td>Dec</td>\n",
       "      <td>1</td>\n",
       "      <td>Tuesday</td>\n",
       "    </tr>\n",
       "    <tr>\n",
       "      <th>148473</th>\n",
       "      <td>2015-08-15</td>\n",
       "      <td>8</td>\n",
       "      <td>15</td>\n",
       "      <td>Aug</td>\n",
       "      <td>5</td>\n",
       "      <td>Saturday</td>\n",
       "    </tr>\n",
       "    <tr>\n",
       "      <th>19444</th>\n",
       "      <td>2015-12-11</td>\n",
       "      <td>12</td>\n",
       "      <td>11</td>\n",
       "      <td>Dec</td>\n",
       "      <td>4</td>\n",
       "      <td>Friday</td>\n",
       "    </tr>\n",
       "    <tr>\n",
       "      <th>118148</th>\n",
       "      <td>2015-09-10</td>\n",
       "      <td>9</td>\n",
       "      <td>10</td>\n",
       "      <td>Sep</td>\n",
       "      <td>3</td>\n",
       "      <td>Thursday</td>\n",
       "    </tr>\n",
       "    <tr>\n",
       "      <th>66924</th>\n",
       "      <td>2015-10-26</td>\n",
       "      <td>10</td>\n",
       "      <td>26</td>\n",
       "      <td>Oct</td>\n",
       "      <td>0</td>\n",
       "      <td>Monday</td>\n",
       "    </tr>\n",
       "  </tbody>\n",
       "</table>\n",
       "</div>"
      ],
      "text/plain": [
       "             Date  Month  Day Month Name  Day No   Day Name\n",
       "157526 2015-08-07      8    7        Aug       4     Friday\n",
       "58402  2015-11-03     11    3        Nov       1    Tuesday\n",
       "57514  2015-11-04     11    4        Nov       2  Wednesday\n",
       "112298 2015-09-15      9   15        Sep       1    Tuesday\n",
       "55858  2015-11-06     11    6        Nov       4     Friday\n",
       "95789  2015-09-29      9   29        Sep       1    Tuesday\n",
       "166999 2015-07-29      7   29        Jul       2  Wednesday\n",
       "56750  2015-11-05     11    5        Nov       3   Thursday\n",
       "139971 2015-08-22      8   22        Aug       5   Saturday\n",
       "52125  2015-11-09     11    9        Nov       0     Monday\n",
       "26727  2015-12-04     12    4        Dec       4     Friday\n",
       "64892  2015-10-28     10   28        Oct       2  Wednesday\n",
       "69525  2015-10-24     10   24        Oct       5   Saturday\n",
       "50375  2015-11-11     11   11        Nov       2  Wednesday\n",
       "35045  2015-11-26     11   26        Nov       3   Thursday\n",
       "14838  2015-12-15     12   15        Dec       1    Tuesday\n",
       "148473 2015-08-15      8   15        Aug       5   Saturday\n",
       "19444  2015-12-11     12   11        Dec       4     Friday\n",
       "118148 2015-09-10      9   10        Sep       3   Thursday\n",
       "66924  2015-10-26     10   26        Oct       0     Monday"
      ]
     },
     "execution_count": 91,
     "metadata": {},
     "output_type": "execute_result"
    }
   ],
   "source": [
    "# Creating  Months of Complaint date -----------------------------\n",
    "\n",
    "Year_Month_Day = pd.to_datetime(data_mod['Created Date'].dt.date)\n",
    "Month_Day = pd.DataFrame()\n",
    "Month_Day['Date'] = pd.to_datetime(Year_Month_Day.dt.date)\n",
    "Month_Day['Month'] = Year_Month_Day.dt.month\n",
    "Month_Day['Day'] = Year_Month_Day.dt.day\n",
    "Month_Day['Month Name'] = Month_Day['Month'].apply(lambda x: calendar.month_abbr[x])\n",
    "Month_Day['Day No'] = Month_Day['Date'].dt.weekday\n",
    "Month_Day['Day Name'] = Month_Day['Day No'].map({0:'Monday',1:'Tuesday',2:'Wednesday',3:'Thursday',4:'Friday',\n",
    "                                                 5:'Saturday',6:'Sunday'})\n",
    "Month_Day.sample(20)"
   ]
  },
  {
   "cell_type": "code",
   "execution_count": 92,
   "id": "63b2b37d-c334-4e7d-af01-bbd91d76f5ab",
   "metadata": {},
   "outputs": [
    {
     "data": {
      "text/html": [
       "<div>\n",
       "<style scoped>\n",
       "    .dataframe tbody tr th:only-of-type {\n",
       "        vertical-align: middle;\n",
       "    }\n",
       "\n",
       "    .dataframe tbody tr th {\n",
       "        vertical-align: top;\n",
       "    }\n",
       "\n",
       "    .dataframe thead th {\n",
       "        text-align: right;\n",
       "    }\n",
       "</style>\n",
       "<table border=\"1\" class=\"dataframe\">\n",
       "  <thead>\n",
       "    <tr style=\"text-align: right;\">\n",
       "      <th></th>\n",
       "      <th>Counts</th>\n",
       "    </tr>\n",
       "  </thead>\n",
       "  <tbody>\n",
       "    <tr>\n",
       "      <th>Sep</th>\n",
       "      <td>35427</td>\n",
       "    </tr>\n",
       "    <tr>\n",
       "      <th>Aug</th>\n",
       "      <td>34956</td>\n",
       "    </tr>\n",
       "    <tr>\n",
       "      <th>Oct</th>\n",
       "      <td>32605</td>\n",
       "    </tr>\n",
       "    <tr>\n",
       "      <th>Nov</th>\n",
       "      <td>30773</td>\n",
       "    </tr>\n",
       "    <tr>\n",
       "      <th>Dec</th>\n",
       "      <td>30521</td>\n",
       "    </tr>\n",
       "    <tr>\n",
       "      <th>Jul</th>\n",
       "      <td>6030</td>\n",
       "    </tr>\n",
       "  </tbody>\n",
       "</table>\n",
       "</div>"
      ],
      "text/plain": [
       "     Counts\n",
       "Sep   35427\n",
       "Aug   34956\n",
       "Oct   32605\n",
       "Nov   30773\n",
       "Dec   30521\n",
       "Jul    6030"
      ]
     },
     "execution_count": 92,
     "metadata": {},
     "output_type": "execute_result"
    }
   ],
   "source": [
    "Month_plot = Month_Day['Month Name'].value_counts()\n",
    "Month_plot = Month_plot.to_frame()\n",
    "Month_plot = Month_plot.rename(columns={'Month Name':'Counts'})\n",
    "Month_plot"
   ]
  },
  {
   "cell_type": "code",
   "execution_count": 93,
   "id": "bcd3b16a-654f-4b64-83d8-85ffe9b0615a",
   "metadata": {},
   "outputs": [
    {
     "data": {
      "text/html": [
       "<div>\n",
       "<style scoped>\n",
       "    .dataframe tbody tr th:only-of-type {\n",
       "        vertical-align: middle;\n",
       "    }\n",
       "\n",
       "    .dataframe tbody tr th {\n",
       "        vertical-align: top;\n",
       "    }\n",
       "\n",
       "    .dataframe thead th {\n",
       "        text-align: right;\n",
       "    }\n",
       "</style>\n",
       "<table border=\"1\" class=\"dataframe\">\n",
       "  <thead>\n",
       "    <tr style=\"text-align: right;\">\n",
       "      <th></th>\n",
       "      <th>Counts</th>\n",
       "    </tr>\n",
       "  </thead>\n",
       "  <tbody>\n",
       "    <tr>\n",
       "      <th>Sunday</th>\n",
       "      <td>26784</td>\n",
       "    </tr>\n",
       "    <tr>\n",
       "      <th>Saturday</th>\n",
       "      <td>26651</td>\n",
       "    </tr>\n",
       "    <tr>\n",
       "      <th>Friday</th>\n",
       "      <td>24759</td>\n",
       "    </tr>\n",
       "    <tr>\n",
       "      <th>Thursday</th>\n",
       "      <td>23650</td>\n",
       "    </tr>\n",
       "    <tr>\n",
       "      <th>Monday</th>\n",
       "      <td>23279</td>\n",
       "    </tr>\n",
       "    <tr>\n",
       "      <th>Wednesday</th>\n",
       "      <td>22665</td>\n",
       "    </tr>\n",
       "    <tr>\n",
       "      <th>Tuesday</th>\n",
       "      <td>22524</td>\n",
       "    </tr>\n",
       "  </tbody>\n",
       "</table>\n",
       "</div>"
      ],
      "text/plain": [
       "           Counts\n",
       "Sunday      26784\n",
       "Saturday    26651\n",
       "Friday      24759\n",
       "Thursday    23650\n",
       "Monday      23279\n",
       "Wednesday   22665\n",
       "Tuesday     22524"
      ]
     },
     "execution_count": 93,
     "metadata": {},
     "output_type": "execute_result"
    }
   ],
   "source": [
    "Day_plot = Month_Day['Day Name'].value_counts()\n",
    "Day_plot = Day_plot.to_frame()\n",
    "Day_plot = Day_plot.rename(columns={'Day Name':'Counts'})\n",
    "Day_plot"
   ]
  },
  {
   "cell_type": "code",
   "execution_count": 94,
   "id": "a18dbc3c-1151-4ab1-b27d-3d2d4e122c9a",
   "metadata": {},
   "outputs": [
    {
     "data": {
      "image/png": "[encoded data removed]",
      "text/plain": [
       "<Figure size 1008x576 with 2 Axes>"
      ]
     },
     "metadata": {},
     "output_type": "display_data"
    }
   ],
   "source": [
    "fig, axes = plt.subplots(1,2, figsize=(14,8))\n",
    "\n",
    "axes[0].pie(Month_plot['Counts'], labels = Month_plot.index,autopct='%1.1f%%')\n",
    "axes[0].set_title('Complain logged in different months of the year')\n",
    "\n",
    "axes[1].pie(Day_plot['Counts'], labels = Day_plot.index,autopct='%1.1f%%')\n",
    "axes[1].set_title('Complain logged in different days of the year')\n",
    "\n",
    "plt.tight_layout()"
   ]
  },
  {
   "cell_type": "code",
   "execution_count": 95,
   "id": "b7211bc3-16b7-4e60-8135-5e20c3fc1c15",
   "metadata": {},
   "outputs": [
    {
     "data": {
      "text/html": [
       "<div>\n",
       "<style scoped>\n",
       "    .dataframe tbody tr th:only-of-type {\n",
       "        vertical-align: middle;\n",
       "    }\n",
       "\n",
       "    .dataframe tbody tr th {\n",
       "        vertical-align: top;\n",
       "    }\n",
       "\n",
       "    .dataframe thead th {\n",
       "        text-align: right;\n",
       "    }\n",
       "</style>\n",
       "<table border=\"1\" class=\"dataframe\">\n",
       "  <thead>\n",
       "    <tr style=\"text-align: right;\">\n",
       "      <th></th>\n",
       "      <th>Month Name</th>\n",
       "      <th>Day Name</th>\n",
       "      <th>Counts</th>\n",
       "    </tr>\n",
       "  </thead>\n",
       "  <tbody>\n",
       "    <tr>\n",
       "      <th>0</th>\n",
       "      <td>Aug</td>\n",
       "      <td>Friday</td>\n",
       "      <td>4684</td>\n",
       "    </tr>\n",
       "    <tr>\n",
       "      <th>1</th>\n",
       "      <td>Aug</td>\n",
       "      <td>Monday</td>\n",
       "      <td>5042</td>\n",
       "    </tr>\n",
       "    <tr>\n",
       "      <th>2</th>\n",
       "      <td>Aug</td>\n",
       "      <td>Saturday</td>\n",
       "      <td>6913</td>\n",
       "    </tr>\n",
       "    <tr>\n",
       "      <th>3</th>\n",
       "      <td>Aug</td>\n",
       "      <td>Sunday</td>\n",
       "      <td>6293</td>\n",
       "    </tr>\n",
       "    <tr>\n",
       "      <th>4</th>\n",
       "      <td>Aug</td>\n",
       "      <td>Thursday</td>\n",
       "      <td>4198</td>\n",
       "    </tr>\n",
       "    <tr>\n",
       "      <th>5</th>\n",
       "      <td>Aug</td>\n",
       "      <td>Tuesday</td>\n",
       "      <td>3893</td>\n",
       "    </tr>\n",
       "    <tr>\n",
       "      <th>6</th>\n",
       "      <td>Aug</td>\n",
       "      <td>Wednesday</td>\n",
       "      <td>3933</td>\n",
       "    </tr>\n",
       "    <tr>\n",
       "      <th>7</th>\n",
       "      <td>Dec</td>\n",
       "      <td>Friday</td>\n",
       "      <td>4000</td>\n",
       "    </tr>\n",
       "    <tr>\n",
       "      <th>8</th>\n",
       "      <td>Dec</td>\n",
       "      <td>Monday</td>\n",
       "      <td>3831</td>\n",
       "    </tr>\n",
       "    <tr>\n",
       "      <th>9</th>\n",
       "      <td>Dec</td>\n",
       "      <td>Saturday</td>\n",
       "      <td>4283</td>\n",
       "    </tr>\n",
       "    <tr>\n",
       "      <th>10</th>\n",
       "      <td>Dec</td>\n",
       "      <td>Sunday</td>\n",
       "      <td>4305</td>\n",
       "    </tr>\n",
       "    <tr>\n",
       "      <th>11</th>\n",
       "      <td>Dec</td>\n",
       "      <td>Thursday</td>\n",
       "      <td>4982</td>\n",
       "    </tr>\n",
       "    <tr>\n",
       "      <th>12</th>\n",
       "      <td>Dec</td>\n",
       "      <td>Tuesday</td>\n",
       "      <td>4555</td>\n",
       "    </tr>\n",
       "    <tr>\n",
       "      <th>13</th>\n",
       "      <td>Dec</td>\n",
       "      <td>Wednesday</td>\n",
       "      <td>4565</td>\n",
       "    </tr>\n",
       "    <tr>\n",
       "      <th>14</th>\n",
       "      <td>Jul</td>\n",
       "      <td>Friday</td>\n",
       "      <td>1153</td>\n",
       "    </tr>\n",
       "  </tbody>\n",
       "</table>\n",
       "</div>"
      ],
      "text/plain": [
       "   Month Name   Day Name  Counts\n",
       "0         Aug     Friday    4684\n",
       "1         Aug     Monday    5042\n",
       "2         Aug   Saturday    6913\n",
       "3         Aug     Sunday    6293\n",
       "4         Aug   Thursday    4198\n",
       "5         Aug    Tuesday    3893\n",
       "6         Aug  Wednesday    3933\n",
       "7         Dec     Friday    4000\n",
       "8         Dec     Monday    3831\n",
       "9         Dec   Saturday    4283\n",
       "10        Dec     Sunday    4305\n",
       "11        Dec   Thursday    4982\n",
       "12        Dec    Tuesday    4555\n",
       "13        Dec  Wednesday    4565\n",
       "14        Jul     Friday    1153"
      ]
     },
     "execution_count": 95,
     "metadata": {},
     "output_type": "execute_result"
    }
   ],
   "source": [
    "Month_Day_grouped = Month_Day.groupby(['Month Name','Day Name'],as_index=False)['Day No'].count()\n",
    "Month_Day_grouped_final = Month_Day_grouped.rename(columns={'Day No':'Counts'})\n",
    "Month_Day_grouped_final.head(15)"
   ]
  },
  {
   "cell_type": "code",
   "execution_count": 96,
   "id": "5bb95b20-d4c6-4475-8f89-35da41e99761",
   "metadata": {},
   "outputs": [
    {
     "data": {
      "text/plain": [
       "Date          0\n",
       "Month         0\n",
       "Day           0\n",
       "Month Name    0\n",
       "Day No        0\n",
       "Day Name      0\n",
       "dtype: int64"
      ]
     },
     "execution_count": 96,
     "metadata": {},
     "output_type": "execute_result"
    }
   ],
   "source": [
    "Month_Day[( (Month_Day['Month Name'] == 'Apr') & (Month_Day['Day Name'] == 'Monday') )].count()"
   ]
  },
  {
   "cell_type": "code",
   "execution_count": 97,
   "id": "bf716143-b36c-4ff5-a465-8e449ea2b5bc",
   "metadata": {},
   "outputs": [
    {
     "data": {
      "image/png": "[encoded data removed]",
      "text/plain": [
       "<Figure size 1440x576 with 1 Axes>"
      ]
     },
     "metadata": {
      "needs_background": "light"
     },
     "output_type": "display_data"
    },
    {
     "data": {
      "text/plain": [
       "<Figure size 432x288 with 0 Axes>"
      ]
     },
     "metadata": {},
     "output_type": "display_data"
    }
   ],
   "source": [
    "plt.figure(figsize=(20,8))\n",
    "\n",
    "month_day_plot = sns.barplot(x=Month_Day_grouped_final['Month Name'], y=Month_Day_grouped_final['Counts'], \n",
    "                             hue=Month_Day_grouped_final['Day Name'], data=Month_Day_grouped_final)\n",
    "month_day_plot.set_xticklabels(month_day_plot.get_xticklabels(), rotation=30, ha=\"right\")\n",
    "plt.title('Distribution of daily complain in different months of the year')\n",
    "plt.show()\n",
    "plt.tight_layout()"
   ]
  },
  {
   "cell_type": "code",
   "execution_count": 99,
   "id": "af3432ec-924f-4602-b597-745a3616b3de",
   "metadata": {},
   "outputs": [
    {
     "data": {
      "text/html": [
       "<div>\n",
       "<style scoped>\n",
       "    .dataframe tbody tr th:only-of-type {\n",
       "        vertical-align: middle;\n",
       "    }\n",
       "\n",
       "    .dataframe tbody tr th {\n",
       "        vertical-align: top;\n",
       "    }\n",
       "\n",
       "    .dataframe thead th {\n",
       "        text-align: right;\n",
       "    }\n",
       "</style>\n",
       "<table border=\"1\" class=\"dataframe\">\n",
       "  <thead>\n",
       "    <tr style=\"text-align: right;\">\n",
       "      <th></th>\n",
       "      <th>Month Name</th>\n",
       "      <th>Day Name</th>\n",
       "      <th>Day No</th>\n",
       "    </tr>\n",
       "  </thead>\n",
       "  <tbody>\n",
       "  </tbody>\n",
       "</table>\n",
       "</div>"
      ],
      "text/plain": [
       "Empty DataFrame\n",
       "Columns: [Month Name, Day Name, Day No]\n",
       "Index: []"
      ]
     },
     "execution_count": 99,
     "metadata": {},
     "output_type": "execute_result"
    }
   ],
   "source": [
    "Month_Day_grouped[Month_Day_grouped['Month Name'] == 'Mar']"
   ]
  },
  {
   "cell_type": "code",
   "execution_count": 100,
   "id": "9ca86656-40f9-409a-9b29-c4d005c431df",
   "metadata": {},
   "outputs": [
    {
     "data": {
      "image/png": "[encoded data removed]",
      "text/plain": [
       "<Figure size 432x288 with 1 Axes>"
      ]
     },
     "metadata": {
      "needs_background": "light"
     },
     "output_type": "display_data"
    },
    {
     "data": {
      "text/plain": [
       "<Figure size 432x288 with 0 Axes>"
      ]
     },
     "metadata": {},
     "output_type": "display_data"
    }
   ],
   "source": [
    "data_mod['Status'].value_counts().plot(kind='barh')\n",
    "plt.xlabel('Status')\n",
    "plt.ylabel('Counts')\n",
    "plt.title('Proportion of different Solution status')\n",
    "plt.show()\n",
    "plt.tight_layout()"
   ]
  },
  {
   "cell_type": "code",
   "execution_count": 101,
   "id": "83e4ebdf-14c2-4727-977d-cea8373125f4",
   "metadata": {},
   "outputs": [
    {
     "ename": "AssertionError",
     "evalue": "",
     "output_type": "error",
     "traceback": [
      "\u001b[0;31m---------------------------------------------------------------------------\u001b[0m",
      "\u001b[0;31mAssertionError\u001b[0m                            Traceback (most recent call last)",
      "\u001b[0;32m/tmp/ipykernel_227/67548920.py\u001b[0m in \u001b[0;36m<cell line: 4>\u001b[0;34m()\u001b[0m\n\u001b[1;32m      2\u001b[0m Complaint_City_AvgTime_grouped = Complaint_City_AvgTime_grouped.rename(\n\u001b[1;32m      3\u001b[0m     columns={'DeltaT(in_hr.)':'Avg. Time(Given City, Complaint Type)'})\n\u001b[0;32m----> 4\u001b[0;31m \u001b[0mComplaint_City_AvgTime_grouped\u001b[0m \u001b[0;34m=\u001b[0m \u001b[0mComplaint_City_AvgTime_grouped\u001b[0m\u001b[0;34m.\u001b[0m\u001b[0mtransform\u001b[0m\u001b[0;34m(\u001b[0m\u001b[0;34m'Avg. Time(Given City, Complaint Type)'\u001b[0m\u001b[0;34m)\u001b[0m\u001b[0;34m\u001b[0m\u001b[0;34m\u001b[0m\u001b[0m\n\u001b[0m\u001b[1;32m      5\u001b[0m \u001b[0mComplaint_City_AvgTime_grouped\u001b[0m \u001b[0;34m=\u001b[0m \u001b[0mComplaint_City_AvgTime_grouped\u001b[0m\u001b[0;34m.\u001b[0m\u001b[0mto_frame\u001b[0m\u001b[0;34m(\u001b[0m\u001b[0;34m)\u001b[0m\u001b[0;34m\u001b[0m\u001b[0;34m\u001b[0m\u001b[0m\n\u001b[1;32m      6\u001b[0m Complaint_City_AvgTime_grouped = Complaint_City_AvgTime_grouped.sort_values(\n",
      "\u001b[0;32m/usr/local/lib/python3.10/site-packages/pandas/core/frame.py\u001b[0m in \u001b[0;36mtransform\u001b[0;34m(self, func, axis, *args, **kwargs)\u001b[0m\n\u001b[1;32m   9406\u001b[0m         \u001b[0mop\u001b[0m \u001b[0;34m=\u001b[0m \u001b[0mframe_apply\u001b[0m\u001b[0;34m(\u001b[0m\u001b[0mself\u001b[0m\u001b[0;34m,\u001b[0m \u001b[0mfunc\u001b[0m\u001b[0;34m=\u001b[0m\u001b[0mfunc\u001b[0m\u001b[0;34m,\u001b[0m \u001b[0maxis\u001b[0m\u001b[0;34m=\u001b[0m\u001b[0maxis\u001b[0m\u001b[0;34m,\u001b[0m \u001b[0margs\u001b[0m\u001b[0;34m=\u001b[0m\u001b[0margs\u001b[0m\u001b[0;34m,\u001b[0m \u001b[0mkwargs\u001b[0m\u001b[0;34m=\u001b[0m\u001b[0mkwargs\u001b[0m\u001b[0;34m)\u001b[0m\u001b[0;34m\u001b[0m\u001b[0;34m\u001b[0m\u001b[0m\n\u001b[1;32m   9407\u001b[0m         \u001b[0mresult\u001b[0m \u001b[0;34m=\u001b[0m \u001b[0mop\u001b[0m\u001b[0;34m.\u001b[0m\u001b[0mtransform\u001b[0m\u001b[0;34m(\u001b[0m\u001b[0;34m)\u001b[0m\u001b[0;34m\u001b[0m\u001b[0;34m\u001b[0m\u001b[0m\n\u001b[0;32m-> 9408\u001b[0;31m         \u001b[0;32massert\u001b[0m \u001b[0misinstance\u001b[0m\u001b[0;34m(\u001b[0m\u001b[0mresult\u001b[0m\u001b[0;34m,\u001b[0m \u001b[0mDataFrame\u001b[0m\u001b[0;34m)\u001b[0m\u001b[0;34m\u001b[0m\u001b[0;34m\u001b[0m\u001b[0m\n\u001b[0m\u001b[1;32m   9409\u001b[0m         \u001b[0;32mreturn\u001b[0m \u001b[0mresult\u001b[0m\u001b[0;34m\u001b[0m\u001b[0;34m\u001b[0m\u001b[0m\n\u001b[1;32m   9410\u001b[0m \u001b[0;34m\u001b[0m\u001b[0m\n",
      "\u001b[0;31mAssertionError\u001b[0m: "
     ]
    }
   ],
   "source": [
    "Complaint_City_AvgTime_grouped = data_place_CType_RCTime.groupby(['City','Complaint Type']).agg({'DeltaT(in_hr.)':'mean'})\n",
    "Complaint_City_AvgTime_grouped = Complaint_City_AvgTime_grouped.rename(\n",
    "    columns={'DeltaT(in_hr.)':'Avg. Time(Given City, Complaint Type)'})\n",
    "Complaint_City_AvgTime_grouped = Complaint_City_AvgTime_grouped.transform('Avg. Time(Given City, Complaint Type)')\n",
    "Complaint_City_AvgTime_grouped = Complaint_City_AvgTime_grouped.to_frame()\n",
    "Complaint_City_AvgTime_grouped = Complaint_City_AvgTime_grouped.sort_values(\n",
    "    ['City','Avg. Time(Given City, Complaint Type)'])\n",
    "\n",
    "pd.set_option('display.max_rows', None)\n",
    "pd.set_option('display.max_columns', None)\n",
    "Complaint_City_AvgTime_grouped"
   ]
  },
  {
   "cell_type": "code",
   "execution_count": 102,
   "id": "8d8b7814-da8e-4cbe-96e5-9e3b7665124c",
   "metadata": {},
   "outputs": [],
   "source": [
    "import scipy.stats as stat"
   ]
  },
  {
   "cell_type": "code",
   "execution_count": 103,
   "id": "cae57e6c-337b-4cec-97c3-f206679d8a38",
   "metadata": {},
   "outputs": [
    {
     "data": {
      "text/html": [
       "<div>\n",
       "<style scoped>\n",
       "    .dataframe tbody tr th:only-of-type {\n",
       "        vertical-align: middle;\n",
       "    }\n",
       "\n",
       "    .dataframe tbody tr th {\n",
       "        vertical-align: top;\n",
       "    }\n",
       "\n",
       "    .dataframe thead th {\n",
       "        text-align: right;\n",
       "    }\n",
       "</style>\n",
       "<table border=\"1\" class=\"dataframe\">\n",
       "  <thead>\n",
       "    <tr style=\"text-align: right;\">\n",
       "      <th></th>\n",
       "      <th>Complaint Type</th>\n",
       "      <th>DeltaT(in_hr.)</th>\n",
       "    </tr>\n",
       "  </thead>\n",
       "  <tbody>\n",
       "    <tr>\n",
       "      <th>0</th>\n",
       "      <td>Posting Advertisement</td>\n",
       "      <td>1.809354</td>\n",
       "    </tr>\n",
       "    <tr>\n",
       "      <th>1</th>\n",
       "      <td>Noise - House of Worship</td>\n",
       "      <td>3.315949</td>\n",
       "    </tr>\n",
       "    <tr>\n",
       "      <th>2</th>\n",
       "      <td>Noise - Commercial</td>\n",
       "      <td>3.360903</td>\n",
       "    </tr>\n",
       "    <tr>\n",
       "      <th>3</th>\n",
       "      <td>Noise - Park</td>\n",
       "      <td>3.526091</td>\n",
       "    </tr>\n",
       "    <tr>\n",
       "      <th>4</th>\n",
       "      <td>Noise - Street/Sidewalk</td>\n",
       "      <td>3.585600</td>\n",
       "    </tr>\n",
       "    <tr>\n",
       "      <th>5</th>\n",
       "      <td>Traffic</td>\n",
       "      <td>3.648546</td>\n",
       "    </tr>\n",
       "    <tr>\n",
       "      <th>6</th>\n",
       "      <td>Urinating in Public</td>\n",
       "      <td>3.689650</td>\n",
       "    </tr>\n",
       "    <tr>\n",
       "      <th>7</th>\n",
       "      <td>Disorderly Youth</td>\n",
       "      <td>3.756900</td>\n",
       "    </tr>\n",
       "    <tr>\n",
       "      <th>8</th>\n",
       "      <td>Noise - Vehicle</td>\n",
       "      <td>3.788429</td>\n",
       "    </tr>\n",
       "    <tr>\n",
       "      <th>9</th>\n",
       "      <td>Illegal Fireworks</td>\n",
       "      <td>3.790769</td>\n",
       "    </tr>\n",
       "    <tr>\n",
       "      <th>10</th>\n",
       "      <td>Bike/Roller/Skate Chronic</td>\n",
       "      <td>4.153863</td>\n",
       "    </tr>\n",
       "    <tr>\n",
       "      <th>11</th>\n",
       "      <td>Drinking</td>\n",
       "      <td>4.166073</td>\n",
       "    </tr>\n",
       "    <tr>\n",
       "      <th>12</th>\n",
       "      <td>Vending</td>\n",
       "      <td>4.235266</td>\n",
       "    </tr>\n",
       "    <tr>\n",
       "      <th>13</th>\n",
       "      <td>Homeless Encampment</td>\n",
       "      <td>4.427934</td>\n",
       "    </tr>\n",
       "    <tr>\n",
       "      <th>14</th>\n",
       "      <td>Illegal Parking</td>\n",
       "      <td>4.683915</td>\n",
       "    </tr>\n",
       "    <tr>\n",
       "      <th>15</th>\n",
       "      <td>Panhandling</td>\n",
       "      <td>4.764759</td>\n",
       "    </tr>\n",
       "    <tr>\n",
       "      <th>16</th>\n",
       "      <td>Blocked Driveway</td>\n",
       "      <td>5.013455</td>\n",
       "    </tr>\n",
       "    <tr>\n",
       "      <th>17</th>\n",
       "      <td>Animal Abuse</td>\n",
       "      <td>5.575671</td>\n",
       "    </tr>\n",
       "    <tr>\n",
       "      <th>18</th>\n",
       "      <td>Graffiti</td>\n",
       "      <td>5.779107</td>\n",
       "    </tr>\n",
       "    <tr>\n",
       "      <th>19</th>\n",
       "      <td>Derelict Vehicle</td>\n",
       "      <td>7.643068</td>\n",
       "    </tr>\n",
       "  </tbody>\n",
       "</table>\n",
       "</div>"
      ],
      "text/plain": [
       "               Complaint Type  DeltaT(in_hr.)\n",
       "0       Posting Advertisement        1.809354\n",
       "1    Noise - House of Worship        3.315949\n",
       "2          Noise - Commercial        3.360903\n",
       "3                Noise - Park        3.526091\n",
       "4     Noise - Street/Sidewalk        3.585600\n",
       "5                     Traffic        3.648546\n",
       "6         Urinating in Public        3.689650\n",
       "7            Disorderly Youth        3.756900\n",
       "8             Noise - Vehicle        3.788429\n",
       "9           Illegal Fireworks        3.790769\n",
       "10  Bike/Roller/Skate Chronic        4.153863\n",
       "11                   Drinking        4.166073\n",
       "12                    Vending        4.235266\n",
       "13        Homeless Encampment        4.427934\n",
       "14            Illegal Parking        4.683915\n",
       "15                Panhandling        4.764759\n",
       "16           Blocked Driveway        5.013455\n",
       "17               Animal Abuse        5.575671\n",
       "18                   Graffiti        5.779107\n",
       "19           Derelict Vehicle        7.643068"
      ]
     },
     "execution_count": 103,
     "metadata": {},
     "output_type": "execute_result"
    }
   ],
   "source": [
    "# Average response time across complaint types --------------------\n",
    "\n",
    "Complaint_AvgTime = data_place_CType_RCTime.groupby(['Complaint Type']).agg({'DeltaT(in_hr.)':'mean'})\n",
    "Complaint_AvgTime = pd.DataFrame(Complaint_AvgTime)\n",
    "Complaint_AvgTime = Complaint_AvgTime.sort_values(['DeltaT(in_hr.)']).reset_index()\n",
    "Complaint_AvgTime"
   ]
  },
  {
   "cell_type": "code",
   "execution_count": 104,
   "id": "935a152a-4d48-44d1-a6ab-b70b5d04a243",
   "metadata": {},
   "outputs": [
    {
     "name": "stdout",
     "output_type": "stream",
     "text": [
      "Without complaint type 'Animal in a Park' -----  4.235765148538691\n",
      "With complaint type 'Animal in a Park' -----  4.235765148538691\n"
     ]
    },
    {
     "name": "stderr",
     "output_type": "stream",
     "text": [
      "/tmp/ipykernel_227/2842791953.py:1: FutureWarning: The default value of numeric_only in DataFrame.mean is deprecated. In a future version, it will default to False. In addition, specifying 'numeric_only=None' is deprecated. Select only valid columns or specify the value of numeric_only to silence this warning.\n",
      "  Tmean_without = float(Complaint_AvgTime[Complaint_AvgTime['Complaint Type']!='Animal in a Park'].mean())\n"
     ]
    }
   ],
   "source": [
    "Tmean_without = float(Complaint_AvgTime[Complaint_AvgTime['Complaint Type']!='Animal in a Park'].mean())\n",
    "print(\"Without complaint type 'Animal in a Park' ----- \",Tmean_without)\n",
    "Tmean_with = float(Complaint_AvgTime['DeltaT(in_hr.)'].mean())\n",
    "print(\"With complaint type 'Animal in a Park' ----- \",Tmean_with)"
   ]
  },
  {
   "cell_type": "code",
   "execution_count": 105,
   "id": "31b25d36-fd5f-4cd7-9cf6-0fb34b74a13f",
   "metadata": {},
   "outputs": [
    {
     "name": "stdout",
     "output_type": "stream",
     "text": [
      "T-statistic is = 0.0\n",
      "p value is = 1.0\n"
     ]
    }
   ],
   "source": [
    "ttest_with, pval_with = stat.ttest_1samp(Complaint_AvgTime['DeltaT(in_hr.)'], Tmean_with)\n",
    "print('T-statistic is =',ttest_with)\n",
    "print('p value is =',np.around(pval_with))"
   ]
  },
  {
   "cell_type": "code",
   "execution_count": 106,
   "id": "ddd8eaf0-8919-451f-9959-6de32c5e7355",
   "metadata": {},
   "outputs": [
    {
     "name": "stdout",
     "output_type": "stream",
     "text": [
      "Null hypothesis is accepted since p value (1.0) is greater than 0.05\n"
     ]
    }
   ],
   "source": [
    "if (pval_with<0.05):\n",
    "    print('Null hypothesis is rejected since p value ({}) is less than 0.05'.format(np.around(pval_with,decimals=2)))\n",
    "else:\n",
    "    print('Null hypothesis is accepted since p value ({}) is greater than 0.05'.format(np.around(pval_with,decimals=2)))"
   ]
  },
  {
   "cell_type": "code",
   "execution_count": 107,
   "id": "c771527b-3380-4fab-8f7f-b773c975f255",
   "metadata": {},
   "outputs": [
    {
     "data": {
      "text/html": [
       "<div>\n",
       "<style scoped>\n",
       "    .dataframe tbody tr th:only-of-type {\n",
       "        vertical-align: middle;\n",
       "    }\n",
       "\n",
       "    .dataframe tbody tr th {\n",
       "        vertical-align: top;\n",
       "    }\n",
       "\n",
       "    .dataframe thead th {\n",
       "        text-align: right;\n",
       "    }\n",
       "</style>\n",
       "<table border=\"1\" class=\"dataframe\">\n",
       "  <thead>\n",
       "    <tr style=\"text-align: right;\">\n",
       "      <th></th>\n",
       "      <th>Complaint Type</th>\n",
       "      <th>DeltaT(in_hr.)</th>\n",
       "    </tr>\n",
       "  </thead>\n",
       "  <tbody>\n",
       "    <tr>\n",
       "      <th>0</th>\n",
       "      <td>Posting Advertisement</td>\n",
       "      <td>1.809354</td>\n",
       "    </tr>\n",
       "    <tr>\n",
       "      <th>1</th>\n",
       "      <td>Noise - House of Worship</td>\n",
       "      <td>3.315949</td>\n",
       "    </tr>\n",
       "    <tr>\n",
       "      <th>2</th>\n",
       "      <td>Noise - Commercial</td>\n",
       "      <td>3.360903</td>\n",
       "    </tr>\n",
       "    <tr>\n",
       "      <th>3</th>\n",
       "      <td>Noise - Park</td>\n",
       "      <td>3.526091</td>\n",
       "    </tr>\n",
       "    <tr>\n",
       "      <th>4</th>\n",
       "      <td>Noise - Street/Sidewalk</td>\n",
       "      <td>3.585600</td>\n",
       "    </tr>\n",
       "    <tr>\n",
       "      <th>5</th>\n",
       "      <td>Traffic</td>\n",
       "      <td>3.648546</td>\n",
       "    </tr>\n",
       "    <tr>\n",
       "      <th>6</th>\n",
       "      <td>Urinating in Public</td>\n",
       "      <td>3.689650</td>\n",
       "    </tr>\n",
       "    <tr>\n",
       "      <th>7</th>\n",
       "      <td>Disorderly Youth</td>\n",
       "      <td>3.756900</td>\n",
       "    </tr>\n",
       "    <tr>\n",
       "      <th>8</th>\n",
       "      <td>Noise - Vehicle</td>\n",
       "      <td>3.788429</td>\n",
       "    </tr>\n",
       "    <tr>\n",
       "      <th>9</th>\n",
       "      <td>Illegal Fireworks</td>\n",
       "      <td>3.790769</td>\n",
       "    </tr>\n",
       "    <tr>\n",
       "      <th>10</th>\n",
       "      <td>Bike/Roller/Skate Chronic</td>\n",
       "      <td>4.153863</td>\n",
       "    </tr>\n",
       "    <tr>\n",
       "      <th>11</th>\n",
       "      <td>Drinking</td>\n",
       "      <td>4.166073</td>\n",
       "    </tr>\n",
       "    <tr>\n",
       "      <th>12</th>\n",
       "      <td>Vending</td>\n",
       "      <td>4.235266</td>\n",
       "    </tr>\n",
       "    <tr>\n",
       "      <th>13</th>\n",
       "      <td>Homeless Encampment</td>\n",
       "      <td>4.427934</td>\n",
       "    </tr>\n",
       "    <tr>\n",
       "      <th>14</th>\n",
       "      <td>Illegal Parking</td>\n",
       "      <td>4.683915</td>\n",
       "    </tr>\n",
       "    <tr>\n",
       "      <th>15</th>\n",
       "      <td>Panhandling</td>\n",
       "      <td>4.764759</td>\n",
       "    </tr>\n",
       "    <tr>\n",
       "      <th>16</th>\n",
       "      <td>Blocked Driveway</td>\n",
       "      <td>5.013455</td>\n",
       "    </tr>\n",
       "    <tr>\n",
       "      <th>17</th>\n",
       "      <td>Animal Abuse</td>\n",
       "      <td>5.575671</td>\n",
       "    </tr>\n",
       "    <tr>\n",
       "      <th>18</th>\n",
       "      <td>Graffiti</td>\n",
       "      <td>5.779107</td>\n",
       "    </tr>\n",
       "  </tbody>\n",
       "</table>\n",
       "</div>"
      ],
      "text/plain": [
       "               Complaint Type  DeltaT(in_hr.)\n",
       "0       Posting Advertisement        1.809354\n",
       "1    Noise - House of Worship        3.315949\n",
       "2          Noise - Commercial        3.360903\n",
       "3                Noise - Park        3.526091\n",
       "4     Noise - Street/Sidewalk        3.585600\n",
       "5                     Traffic        3.648546\n",
       "6         Urinating in Public        3.689650\n",
       "7            Disorderly Youth        3.756900\n",
       "8             Noise - Vehicle        3.788429\n",
       "9           Illegal Fireworks        3.790769\n",
       "10  Bike/Roller/Skate Chronic        4.153863\n",
       "11                   Drinking        4.166073\n",
       "12                    Vending        4.235266\n",
       "13        Homeless Encampment        4.427934\n",
       "14            Illegal Parking        4.683915\n",
       "15                Panhandling        4.764759\n",
       "16           Blocked Driveway        5.013455\n",
       "17               Animal Abuse        5.575671\n",
       "18                   Graffiti        5.779107"
      ]
     },
     "execution_count": 107,
     "metadata": {},
     "output_type": "execute_result"
    }
   ],
   "source": [
    "Complaint_AvgTime_without = Complaint_AvgTime.drop([len(Complaint_AvgTime)-1],axis=0)\n",
    "Complaint_AvgTime_without"
   ]
  },
  {
   "cell_type": "code",
   "execution_count": 108,
   "id": "13d74733-9e4c-4d27-aa90-449ab792fdad",
   "metadata": {},
   "outputs": [
    {
     "ename": "NameError",
     "evalue": "name 'pval_without' is not defined",
     "output_type": "error",
     "traceback": [
      "\u001b[0;31m---------------------------------------------------------------------------\u001b[0m",
      "\u001b[0;31mNameError\u001b[0m                                 Traceback (most recent call last)",
      "\u001b[0;32m/tmp/ipykernel_227/3490543109.py\u001b[0m in \u001b[0;36m<cell line: 1>\u001b[0;34m()\u001b[0m\n\u001b[0;32m----> 1\u001b[0;31m \u001b[0;32mif\u001b[0m \u001b[0;34m(\u001b[0m\u001b[0mpval_without\u001b[0m\u001b[0;34m<\u001b[0m\u001b[0;36m0.05\u001b[0m\u001b[0;34m)\u001b[0m\u001b[0;34m:\u001b[0m\u001b[0;34m\u001b[0m\u001b[0;34m\u001b[0m\u001b[0m\n\u001b[0m\u001b[1;32m      2\u001b[0m     \u001b[0mprint\u001b[0m\u001b[0;34m(\u001b[0m\u001b[0;34m'Null hypothesis is rejected since p value ({}) is less than 0.05'\u001b[0m\u001b[0;34m.\u001b[0m\u001b[0mformat\u001b[0m\u001b[0;34m(\u001b[0m\u001b[0mnp\u001b[0m\u001b[0;34m.\u001b[0m\u001b[0maround\u001b[0m\u001b[0;34m(\u001b[0m\u001b[0mpval_without\u001b[0m\u001b[0;34m,\u001b[0m\u001b[0mdecimals\u001b[0m\u001b[0;34m=\u001b[0m\u001b[0;36m2\u001b[0m\u001b[0;34m)\u001b[0m\u001b[0;34m)\u001b[0m\u001b[0;34m)\u001b[0m\u001b[0;34m\u001b[0m\u001b[0;34m\u001b[0m\u001b[0m\n\u001b[1;32m      3\u001b[0m \u001b[0;32melse\u001b[0m\u001b[0;34m:\u001b[0m\u001b[0;34m\u001b[0m\u001b[0;34m\u001b[0m\u001b[0m\n\u001b[1;32m      4\u001b[0m     \u001b[0mprint\u001b[0m\u001b[0;34m(\u001b[0m\u001b[0;34m'Null hypothesis is accepted since p value ({}) is greater than 0.05'\u001b[0m\u001b[0;34m.\u001b[0m\u001b[0mformat\u001b[0m\u001b[0;34m(\u001b[0m\u001b[0mnp\u001b[0m\u001b[0;34m.\u001b[0m\u001b[0maround\u001b[0m\u001b[0;34m(\u001b[0m\u001b[0mpval_without\u001b[0m\u001b[0;34m,\u001b[0m\u001b[0mdecimals\u001b[0m\u001b[0;34m=\u001b[0m\u001b[0;36m2\u001b[0m\u001b[0;34m)\u001b[0m\u001b[0;34m)\u001b[0m\u001b[0;34m)\u001b[0m\u001b[0;34m\u001b[0m\u001b[0;34m\u001b[0m\u001b[0m\n",
      "\u001b[0;31mNameError\u001b[0m: name 'pval_without' is not defined"
     ]
    }
   ],
   "source": [
    "if (pval_without<0.05):\n",
    "    print('Null hypothesis is rejected since p value ({}) is less than 0.05'.format(np.around(pval_without,decimals=2)))\n",
    "else:\n",
    "    print('Null hypothesis is accepted since p value ({}) is greater than 0.05'.format(np.around(pval_without,decimals=2)))"
   ]
  },
  {
   "cell_type": "code",
   "execution_count": 109,
   "id": "24cac0a5-3c14-4ad3-9375-1e472142f497",
   "metadata": {},
   "outputs": [
    {
     "data": {
      "text/html": [
       "<div>\n",
       "<style scoped>\n",
       "    .dataframe tbody tr th:only-of-type {\n",
       "        vertical-align: middle;\n",
       "    }\n",
       "\n",
       "    .dataframe tbody tr th {\n",
       "        vertical-align: top;\n",
       "    }\n",
       "\n",
       "    .dataframe thead th {\n",
       "        text-align: right;\n",
       "    }\n",
       "</style>\n",
       "<table border=\"1\" class=\"dataframe\">\n",
       "  <thead>\n",
       "    <tr style=\"text-align: right;\">\n",
       "      <th></th>\n",
       "      <th>Complaint Type</th>\n",
       "      <th>DeltaT(in_hr.)</th>\n",
       "    </tr>\n",
       "  </thead>\n",
       "  <tbody>\n",
       "    <tr>\n",
       "      <th>17</th>\n",
       "      <td>Animal Abuse</td>\n",
       "      <td>5.575671</td>\n",
       "    </tr>\n",
       "    <tr>\n",
       "      <th>15</th>\n",
       "      <td>Panhandling</td>\n",
       "      <td>4.764759</td>\n",
       "    </tr>\n",
       "    <tr>\n",
       "      <th>11</th>\n",
       "      <td>Drinking</td>\n",
       "      <td>4.166073</td>\n",
       "    </tr>\n",
       "    <tr>\n",
       "      <th>4</th>\n",
       "      <td>Noise - Street/Sidewalk</td>\n",
       "      <td>3.585600</td>\n",
       "    </tr>\n",
       "    <tr>\n",
       "      <th>1</th>\n",
       "      <td>Noise - House of Worship</td>\n",
       "      <td>3.315949</td>\n",
       "    </tr>\n",
       "    <tr>\n",
       "      <th>6</th>\n",
       "      <td>Urinating in Public</td>\n",
       "      <td>3.689650</td>\n",
       "    </tr>\n",
       "    <tr>\n",
       "      <th>14</th>\n",
       "      <td>Illegal Parking</td>\n",
       "      <td>4.683915</td>\n",
       "    </tr>\n",
       "    <tr>\n",
       "      <th>12</th>\n",
       "      <td>Vending</td>\n",
       "      <td>4.235266</td>\n",
       "    </tr>\n",
       "    <tr>\n",
       "      <th>3</th>\n",
       "      <td>Noise - Park</td>\n",
       "      <td>3.526091</td>\n",
       "    </tr>\n",
       "    <tr>\n",
       "      <th>0</th>\n",
       "      <td>Posting Advertisement</td>\n",
       "      <td>1.809354</td>\n",
       "    </tr>\n",
       "  </tbody>\n",
       "</table>\n",
       "</div>"
      ],
      "text/plain": [
       "              Complaint Type  DeltaT(in_hr.)\n",
       "17              Animal Abuse        5.575671\n",
       "15               Panhandling        4.764759\n",
       "11                  Drinking        4.166073\n",
       "4    Noise - Street/Sidewalk        3.585600\n",
       "1   Noise - House of Worship        3.315949\n",
       "6        Urinating in Public        3.689650\n",
       "14           Illegal Parking        4.683915\n",
       "12                   Vending        4.235266\n",
       "3               Noise - Park        3.526091\n",
       "0      Posting Advertisement        1.809354"
      ]
     },
     "execution_count": 109,
     "metadata": {},
     "output_type": "execute_result"
    }
   ],
   "source": [
    "sample1 = Complaint_AvgTime.sample(frac=.5)\n",
    "sample1"
   ]
  },
  {
   "cell_type": "code",
   "execution_count": 110,
   "id": "389e29ac-b8f0-4013-a2ed-52d1c6f4f1f3",
   "metadata": {},
   "outputs": [
    {
     "data": {
      "text/html": [
       "<div>\n",
       "<style scoped>\n",
       "    .dataframe tbody tr th:only-of-type {\n",
       "        vertical-align: middle;\n",
       "    }\n",
       "\n",
       "    .dataframe tbody tr th {\n",
       "        vertical-align: top;\n",
       "    }\n",
       "\n",
       "    .dataframe thead th {\n",
       "        text-align: right;\n",
       "    }\n",
       "</style>\n",
       "<table border=\"1\" class=\"dataframe\">\n",
       "  <thead>\n",
       "    <tr style=\"text-align: right;\">\n",
       "      <th></th>\n",
       "      <th>Complaint Type</th>\n",
       "      <th>DeltaT(in_hr.)</th>\n",
       "    </tr>\n",
       "  </thead>\n",
       "  <tbody>\n",
       "    <tr>\n",
       "      <th>2</th>\n",
       "      <td>Noise - Commercial</td>\n",
       "      <td>3.360903</td>\n",
       "    </tr>\n",
       "    <tr>\n",
       "      <th>5</th>\n",
       "      <td>Traffic</td>\n",
       "      <td>3.648546</td>\n",
       "    </tr>\n",
       "    <tr>\n",
       "      <th>7</th>\n",
       "      <td>Disorderly Youth</td>\n",
       "      <td>3.756900</td>\n",
       "    </tr>\n",
       "    <tr>\n",
       "      <th>8</th>\n",
       "      <td>Noise - Vehicle</td>\n",
       "      <td>3.788429</td>\n",
       "    </tr>\n",
       "    <tr>\n",
       "      <th>9</th>\n",
       "      <td>Illegal Fireworks</td>\n",
       "      <td>3.790769</td>\n",
       "    </tr>\n",
       "    <tr>\n",
       "      <th>10</th>\n",
       "      <td>Bike/Roller/Skate Chronic</td>\n",
       "      <td>4.153863</td>\n",
       "    </tr>\n",
       "    <tr>\n",
       "      <th>13</th>\n",
       "      <td>Homeless Encampment</td>\n",
       "      <td>4.427934</td>\n",
       "    </tr>\n",
       "    <tr>\n",
       "      <th>16</th>\n",
       "      <td>Blocked Driveway</td>\n",
       "      <td>5.013455</td>\n",
       "    </tr>\n",
       "    <tr>\n",
       "      <th>18</th>\n",
       "      <td>Graffiti</td>\n",
       "      <td>5.779107</td>\n",
       "    </tr>\n",
       "    <tr>\n",
       "      <th>19</th>\n",
       "      <td>Derelict Vehicle</td>\n",
       "      <td>7.643068</td>\n",
       "    </tr>\n",
       "  </tbody>\n",
       "</table>\n",
       "</div>"
      ],
      "text/plain": [
       "               Complaint Type  DeltaT(in_hr.)\n",
       "2          Noise - Commercial        3.360903\n",
       "5                     Traffic        3.648546\n",
       "7            Disorderly Youth        3.756900\n",
       "8             Noise - Vehicle        3.788429\n",
       "9           Illegal Fireworks        3.790769\n",
       "10  Bike/Roller/Skate Chronic        4.153863\n",
       "13        Homeless Encampment        4.427934\n",
       "16           Blocked Driveway        5.013455\n",
       "18                   Graffiti        5.779107\n",
       "19           Derelict Vehicle        7.643068"
      ]
     },
     "execution_count": 110,
     "metadata": {},
     "output_type": "execute_result"
    }
   ],
   "source": [
    "sample2 = Complaint_AvgTime.drop(sample1.index)\n",
    "sample2"
   ]
  },
  {
   "cell_type": "code",
   "execution_count": 111,
   "id": "5f97cbff-fc53-4e5c-822a-d071f785353b",
   "metadata": {},
   "outputs": [
    {
     "name": "stdout",
     "output_type": "stream",
     "text": [
      "Mean of 1st sample = 3.94\n",
      "Standard dev. of 1st sample = 1.02\n",
      "Mean of 2nd sample = 4.54\n",
      "Standard dev. of 2nd sample = 1.31\n"
     ]
    }
   ],
   "source": [
    "print('Mean of 1st sample =',np.around(float(sample1['DeltaT(in_hr.)'].mean()),decimals=2))\n",
    "print('Standard dev. of 1st sample =',np.around(float(sample1['DeltaT(in_hr.)'].std()),decimals=2))\n",
    "print('Mean of 2nd sample =',np.around(float(sample2['DeltaT(in_hr.)'].mean()),decimals=2))\n",
    "print('Standard dev. of 2nd sample =',np.around(float(sample2['DeltaT(in_hr.)'].std()),decimals=2))"
   ]
  },
  {
   "cell_type": "code",
   "execution_count": 112,
   "id": "49fc3a08-e90f-421d-972b-6b31cd1dfe22",
   "metadata": {},
   "outputs": [
    {
     "name": "stdout",
     "output_type": "stream",
     "text": [
      "T-statistic is = -1.1447908341271027\n",
      "p value is = 0.27\n"
     ]
    }
   ],
   "source": [
    "ttest_2sp, p_val = stat.ttest_ind(sample1['DeltaT(in_hr.)'],sample2['DeltaT(in_hr.)'])\n",
    "print('T-statistic is =',ttest_2sp)\n",
    "print('p value is =',np.around(p_val,decimals=2))"
   ]
  },
  {
   "cell_type": "code",
   "execution_count": 113,
   "id": "7bb68d5f-e69c-483c-b2e7-01a1d96af1e2",
   "metadata": {},
   "outputs": [
    {
     "name": "stdout",
     "output_type": "stream",
     "text": [
      "Null hypothesis is accepted since p value (0.27) is greater than 0.05\n"
     ]
    }
   ],
   "source": [
    "if (p_val<0.05):\n",
    "    print('Null hypothesis is rejected since p value ({}) is less than 0.05'.format(np.around(p_val,decimals=2)))\n",
    "else:\n",
    "    print('Null hypothesis is accepted since p value ({}) is greater than 0.05'.format(np.around(p_val,decimals=2)))"
   ]
  },
  {
   "cell_type": "code",
   "execution_count": 114,
   "id": "5811e7b5-de04-430c-a65d-d0fd6f4e2ddb",
   "metadata": {},
   "outputs": [
    {
     "data": {
      "image/png": "[encoded data removed]",
      "text/plain": [
       "<Figure size 432x288 with 1 Axes>"
      ]
     },
     "metadata": {
      "needs_background": "light"
     },
     "output_type": "display_data"
    },
    {
     "data": {
      "text/plain": [
       "<Figure size 432x288 with 0 Axes>"
      ]
     },
     "metadata": {},
     "output_type": "display_data"
    }
   ],
   "source": [
    "data_mod['Status'].value_counts().plot(kind='barh')\n",
    "plt.xlabel('Status')\n",
    "plt.ylabel('Counts')\n",
    "plt.title('Proportion of different Solution status')\n",
    "plt.show()\n",
    "plt.tight_layout()"
   ]
  },
  {
   "cell_type": "code",
   "execution_count": null,
   "id": "1ffd19d9-85fd-4088-bda7-dcfb6f9d97ea",
   "metadata": {},
   "outputs": [],
   "source": []
  }
 ],
 "metadata": {
  "kernelspec": {
   "display_name": "Python 3 [3.10]",
   "language": "python",
   "name": "python3"
  },
  "language_info": {
   "codemirror_mode": {
    "name": "ipython",
    "version": 3
   },
   "file_extension": ".py",
   "mimetype": "text/x-python",
   "name": "python",
   "nbconvert_exporter": "python",
   "pygments_lexer": "ipython3",
   "version": "3.10.2"
  }
 },
 "nbformat": 4,
 "nbformat_minor": 5
}
